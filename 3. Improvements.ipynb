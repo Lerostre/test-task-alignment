{
 "cells": [
  {
   "cell_type": "markdown",
   "id": "0c24c65e-00ed-49c0-b77a-c2db889470a6",
   "metadata": {},
   "source": [
    "### Использованные библиотеки"
   ]
  },
  {
   "cell_type": "code",
   "execution_count": 1,
   "id": "bf2aa76a-857a-412b-a0b4-611ba66f699d",
   "metadata": {
    "tags": []
   },
   "outputs": [],
   "source": [
    "!pip install -q -r requirements.txt"
   ]
  },
  {
   "cell_type": "markdown",
   "id": "7725beeb-4b59-4ed3-a8fd-3f0fe94582a6",
   "metadata": {},
   "source": [
    "### Часть 3\n",
    "\n",
    "На самом деле у меня нет каких-то прорывных идей по улучшению, потому что я не математик, и в тему я не так сильно погружён. Но можно хотя бы попробовать проанализировать другие двергенции и подумать, могут ли они нам как-то помочь. Какие-то можно легко найти, какие-то надо поискать, но их ещё есть немало. Я сразу скажу, что я не знаю их свойств, и не знаю, в каких ситуациях они применимы, но попробовать имеет смысл все, в любом случае. Ниже список других возможных $f$-функций и их производных. Все их я тоже реализовал и засунул в `utils.py`"
   ]
  },
  {
   "cell_type": "markdown",
   "id": "36ad56a5-c71a-44c2-8a7b-870dcc8247a0",
   "metadata": {},
   "source": [
    "$$\n",
    "\\begin{array}{lllc}\n",
    "\\hline f \\text {-divergence } & \\boldsymbol{f}(\\boldsymbol{u}) & \\boldsymbol{f}^{\\prime}(\\boldsymbol{u}) \\\\\n",
    "\\hline\n",
    "\\text { Pearson } \\chi^2 & (u-1)^2 & 2(u-1)\\\\\n",
    "\\text { Neyman } \\chi^2 & (1-u)^2 / u & 1 - \\frac{1}{u^2}\\\\\n",
    "\\text { CNP }  \\chi^2 & \\frac{1}{3} \\left(2\\chi^2_{\\text{Pearson}} + \\chi^2_{\\text{Neyman}} \\right) & \\frac{1}{3} \\left( 4u - 3 - \\frac{1}{u^2}\\right)\\\\\n",
    "\\text { Hellinger } & (\\sqrt{u}-1)^2 & 1 - \\frac{1}{\\sqrt{u}}\\\\\n",
    "\\text { Jeffrey } & (u-1)\\log{u} &  \\log u + 1 - \\frac{1}{u}\\\\\n",
    "\\text { GAN } & u\\log{u} - (u+1)\\log(u+1) & \\log u - \\log(u+1)\\\\\n",
    "\\text { Total Variation } & \\frac{1}{2}|u-1| & u>1 ? \\frac{1}{2}:-\\frac{1}{2}\\\\\n",
    "\\chi^{\\alpha} \\ \\text {distance} \\ (\\alpha > 1) & \\frac{1}{2}|u-1|^{\\alpha} & u>1 ? \\frac{\\alpha(u-1)^{\\alpha-1}}{2}:-\\frac{\\alpha(1-u)^{\\alpha-1}}{2}\\\\\n",
    "\\hline\n",
    "\\end{array}\n",
    "$$"
   ]
  },
  {
   "cell_type": "code",
   "execution_count": null,
   "id": "366fb618-dc70-45be-9b4f-c48d94d66f6b",
   "metadata": {
    "tags": []
   },
   "outputs": [],
   "source": [
    "%load_ext autoreload\n",
    "%autoreload 2\n",
    "\n",
    "import pandas as pd\n",
    "import numpy as np\n",
    "import torch\n",
    "\n",
    "from utils import *\n",
    "from pipeline import (\n",
    "    Pipeline, train_loop_for_divs, \n",
    "    mean_summary_plot, agg_experiments\n",
    ")\n",
    "\n",
    "from tqdm.auto import tqdm, trange\n",
    "from IPython.display import clear_output, display, HTML\n",
    "import plotly.graph_objects as go\n",
    "import plotly\n",
    "\n",
    "plotly.offline.init_notebook_mode()\n",
    "display(HTML(\n",
    "    '<script type=\"text/javascript\" async src=\"https://cdnjs.cloudflare.com/ajax/libs/mathjax/2.7.1/MathJax.js?config=TeX-MML-AM_SVG\"></script>'\n",
    "))\n",
    "\n",
    "import gc\n",
    "from glob import glob\n",
    "\n",
    "divs = [\n",
    "    pearson_chi2, neyman_chi2,\n",
    "    hellinger_distance, jeffrey_distance,\n",
    "    GAN_distance, total_variation_distance,\n",
    "    cnp_chi2, chi_alpha\n",
    "]\n",
    "names = [\n",
    "    \"pearson\", \"neyman\",\n",
    "    \"hellinger\", \"jeffrey\",\n",
    "    \"GAN\", \"TVD\",\n",
    "    \"cnp\", \"chi_alpha\"\n",
    "]"
   ]
  },
  {
   "cell_type": "markdown",
   "id": "3b40a59b-e033-4c13-8218-0c5d2919658d",
   "metadata": {},
   "source": [
    "Трейн выглядит аналогично, только названия другие"
   ]
  },
  {
   "cell_type": "code",
   "execution_count": 2,
   "id": "336d2ad2-4f61-4194-b221-4fbd9aa7d2fb",
   "metadata": {
    "scrolled": true,
    "tags": []
   },
   "outputs": [
    {
     "name": "stdout",
     "output_type": "stream",
     "text": [
      "hellinger trained\n"
     ]
    }
   ],
   "source": [
    "train_loop_for_divs(divs, names, n_trials=5)"
   ]
  },
  {
   "cell_type": "markdown",
   "id": "ab428a59-d9fa-49a5-aba5-26c42b428cc1",
   "metadata": {},
   "source": [
    "И вот, что получается после экспериментов"
   ]
  },
  {
   "cell_type": "code",
   "execution_count": 2,
   "id": "2fa671cd-d4e8-4e5c-be98-6b23b3f12a2a",
   "metadata": {
    "tags": []
   },
   "outputs": [
    {
     "data": {
      "text/html": [
       "<div>\n",
       "<style scoped>\n",
       "    .dataframe tbody tr th:only-of-type {\n",
       "        vertical-align: middle;\n",
       "    }\n",
       "\n",
       "    .dataframe tbody tr th {\n",
       "        vertical-align: top;\n",
       "    }\n",
       "\n",
       "    .dataframe thead th {\n",
       "        text-align: right;\n",
       "    }\n",
       "</style>\n",
       "<table border=\"1\" class=\"dataframe\">\n",
       "  <thead>\n",
       "    <tr style=\"text-align: right;\">\n",
       "      <th></th>\n",
       "      <th>0</th>\n",
       "      <th>1</th>\n",
       "      <th>2</th>\n",
       "      <th>3</th>\n",
       "      <th>4</th>\n",
       "      <th>5</th>\n",
       "      <th>6</th>\n",
       "    </tr>\n",
       "  </thead>\n",
       "  <tbody>\n",
       "    <tr>\n",
       "      <th>experiment</th>\n",
       "      <td>tvd</td>\n",
       "      <td>neyman</td>\n",
       "      <td>pearson</td>\n",
       "      <td>cnp</td>\n",
       "      <td>hellinger</td>\n",
       "      <td>jeffrey</td>\n",
       "      <td>GAN</td>\n",
       "    </tr>\n",
       "    <tr>\n",
       "      <th>reward</th>\n",
       "      <td>-0.144466</td>\n",
       "      <td>0.772483</td>\n",
       "      <td>1.494495</td>\n",
       "      <td>1.864848</td>\n",
       "      <td>1.91639</td>\n",
       "      <td>2.052727</td>\n",
       "      <td>2.109785</td>\n",
       "    </tr>\n",
       "    <tr>\n",
       "      <th>diversity</th>\n",
       "      <td>5.634269</td>\n",
       "      <td>5.633501</td>\n",
       "      <td>5.783702</td>\n",
       "      <td>5.742292</td>\n",
       "      <td>5.376369</td>\n",
       "      <td>4.548025</td>\n",
       "      <td>5.268793</td>\n",
       "    </tr>\n",
       "    <tr>\n",
       "      <th>sigma_reward</th>\n",
       "      <td>0.463946</td>\n",
       "      <td>0.684058</td>\n",
       "      <td>0.816752</td>\n",
       "      <td>0.865861</td>\n",
       "      <td>0.871735</td>\n",
       "      <td>0.886223</td>\n",
       "      <td>0.891851</td>\n",
       "    </tr>\n",
       "  </tbody>\n",
       "</table>\n",
       "</div>"
      ],
      "text/plain": [
       "                     0         1         2         3          4         5  \\\n",
       "experiment         tvd    neyman   pearson       cnp  hellinger   jeffrey   \n",
       "reward       -0.144466  0.772483  1.494495  1.864848    1.91639  2.052727   \n",
       "diversity     5.634269  5.633501  5.783702  5.742292   5.376369  4.548025   \n",
       "sigma_reward  0.463946  0.684058  0.816752  0.865861   0.871735  0.886223   \n",
       "\n",
       "                     6  \n",
       "experiment         GAN  \n",
       "reward        2.109785  \n",
       "diversity     5.268793  \n",
       "sigma_reward  0.891851  "
      ]
     },
     "execution_count": 2,
     "metadata": {},
     "output_type": "execute_result"
    }
   ],
   "source": [
    "agg_experiments(names).T"
   ]
  },
  {
   "cell_type": "markdown",
   "id": "e41fe8b3-c537-4a7f-96b0-b274d83dd7da",
   "metadata": {},
   "source": [
    "Как можно видеть, многие лоссы в общем-то не самые плохие, некоторые явно лучше остальных, если судить по балансу diversity-reward. Посмотрим на них на графике. TVD и neyman сразу отбросим, по ним видно, что качество слишком плохое"
   ]
  },
  {
   "cell_type": "code",
   "execution_count": 2,
   "id": "3a53a7c1-b524-412a-be9f-7d90acea10c1",
   "metadata": {},
   "outputs": [
    {
     "data": {
      "application/vnd.plotly.v1+json": {
       "config": {
        "plotlyServerURL": "https://plot.ly"
       },
       "data": [
        {
         "marker": {
          "color": "black",
          "size": 8,
          "symbol": "x"
         },
         "mode": "markers+text",
         "name": "Experiments",
         "showlegend": false,
         "text": [
          "pearson",
          "kl",
          "cnp",
          "hellinger",
          "a_9",
          "jeffrey",
          "GAN",
          "js",
          "a_7",
          "a_5",
          "a_3",
          "rkl"
         ],
         "textposition": "top center",
         "type": "scatter",
         "x": [
          0.816752052006609,
          0.8610409838999609,
          0.8658609918829746,
          0.8717352868383519,
          0.8783444947684991,
          0.8862228591089081,
          0.8918506127159634,
          0.8958424512704954,
          0.8974443751318266,
          0.9010574407193225,
          0.9144921988339594,
          0.9289188991285674
         ],
         "y": [
          5.783702047812849,
          5.462885479215935,
          5.742292084048907,
          5.376368961110993,
          5.436336105776817,
          4.548024577560419,
          5.268792915156096,
          5.316864539538827,
          5.411779036871416,
          5.3709729358048515,
          5.209761240257016,
          4.6590103703698675
         ]
        }
       ],
       "layout": {
        "height": 500,
        "template": {
         "data": {
          "bar": [
           {
            "error_x": {
             "color": "#2a3f5f"
            },
            "error_y": {
             "color": "#2a3f5f"
            },
            "marker": {
             "line": {
              "color": "#E5ECF6",
              "width": 0.5
             },
             "pattern": {
              "fillmode": "overlay",
              "size": 10,
              "solidity": 0.2
             }
            },
            "type": "bar"
           }
          ],
          "barpolar": [
           {
            "marker": {
             "line": {
              "color": "#E5ECF6",
              "width": 0.5
             },
             "pattern": {
              "fillmode": "overlay",
              "size": 10,
              "solidity": 0.2
             }
            },
            "type": "barpolar"
           }
          ],
          "carpet": [
           {
            "aaxis": {
             "endlinecolor": "#2a3f5f",
             "gridcolor": "white",
             "linecolor": "white",
             "minorgridcolor": "white",
             "startlinecolor": "#2a3f5f"
            },
            "baxis": {
             "endlinecolor": "#2a3f5f",
             "gridcolor": "white",
             "linecolor": "white",
             "minorgridcolor": "white",
             "startlinecolor": "#2a3f5f"
            },
            "type": "carpet"
           }
          ],
          "choropleth": [
           {
            "colorbar": {
             "outlinewidth": 0,
             "ticks": ""
            },
            "type": "choropleth"
           }
          ],
          "contour": [
           {
            "colorbar": {
             "outlinewidth": 0,
             "ticks": ""
            },
            "colorscale": [
             [
              0,
              "#0d0887"
             ],
             [
              0.1111111111111111,
              "#46039f"
             ],
             [
              0.2222222222222222,
              "#7201a8"
             ],
             [
              0.3333333333333333,
              "#9c179e"
             ],
             [
              0.4444444444444444,
              "#bd3786"
             ],
             [
              0.5555555555555556,
              "#d8576b"
             ],
             [
              0.6666666666666666,
              "#ed7953"
             ],
             [
              0.7777777777777778,
              "#fb9f3a"
             ],
             [
              0.8888888888888888,
              "#fdca26"
             ],
             [
              1,
              "#f0f921"
             ]
            ],
            "type": "contour"
           }
          ],
          "contourcarpet": [
           {
            "colorbar": {
             "outlinewidth": 0,
             "ticks": ""
            },
            "type": "contourcarpet"
           }
          ],
          "heatmap": [
           {
            "colorbar": {
             "outlinewidth": 0,
             "ticks": ""
            },
            "colorscale": [
             [
              0,
              "#0d0887"
             ],
             [
              0.1111111111111111,
              "#46039f"
             ],
             [
              0.2222222222222222,
              "#7201a8"
             ],
             [
              0.3333333333333333,
              "#9c179e"
             ],
             [
              0.4444444444444444,
              "#bd3786"
             ],
             [
              0.5555555555555556,
              "#d8576b"
             ],
             [
              0.6666666666666666,
              "#ed7953"
             ],
             [
              0.7777777777777778,
              "#fb9f3a"
             ],
             [
              0.8888888888888888,
              "#fdca26"
             ],
             [
              1,
              "#f0f921"
             ]
            ],
            "type": "heatmap"
           }
          ],
          "heatmapgl": [
           {
            "colorbar": {
             "outlinewidth": 0,
             "ticks": ""
            },
            "colorscale": [
             [
              0,
              "#0d0887"
             ],
             [
              0.1111111111111111,
              "#46039f"
             ],
             [
              0.2222222222222222,
              "#7201a8"
             ],
             [
              0.3333333333333333,
              "#9c179e"
             ],
             [
              0.4444444444444444,
              "#bd3786"
             ],
             [
              0.5555555555555556,
              "#d8576b"
             ],
             [
              0.6666666666666666,
              "#ed7953"
             ],
             [
              0.7777777777777778,
              "#fb9f3a"
             ],
             [
              0.8888888888888888,
              "#fdca26"
             ],
             [
              1,
              "#f0f921"
             ]
            ],
            "type": "heatmapgl"
           }
          ],
          "histogram": [
           {
            "marker": {
             "pattern": {
              "fillmode": "overlay",
              "size": 10,
              "solidity": 0.2
             }
            },
            "type": "histogram"
           }
          ],
          "histogram2d": [
           {
            "colorbar": {
             "outlinewidth": 0,
             "ticks": ""
            },
            "colorscale": [
             [
              0,
              "#0d0887"
             ],
             [
              0.1111111111111111,
              "#46039f"
             ],
             [
              0.2222222222222222,
              "#7201a8"
             ],
             [
              0.3333333333333333,
              "#9c179e"
             ],
             [
              0.4444444444444444,
              "#bd3786"
             ],
             [
              0.5555555555555556,
              "#d8576b"
             ],
             [
              0.6666666666666666,
              "#ed7953"
             ],
             [
              0.7777777777777778,
              "#fb9f3a"
             ],
             [
              0.8888888888888888,
              "#fdca26"
             ],
             [
              1,
              "#f0f921"
             ]
            ],
            "type": "histogram2d"
           }
          ],
          "histogram2dcontour": [
           {
            "colorbar": {
             "outlinewidth": 0,
             "ticks": ""
            },
            "colorscale": [
             [
              0,
              "#0d0887"
             ],
             [
              0.1111111111111111,
              "#46039f"
             ],
             [
              0.2222222222222222,
              "#7201a8"
             ],
             [
              0.3333333333333333,
              "#9c179e"
             ],
             [
              0.4444444444444444,
              "#bd3786"
             ],
             [
              0.5555555555555556,
              "#d8576b"
             ],
             [
              0.6666666666666666,
              "#ed7953"
             ],
             [
              0.7777777777777778,
              "#fb9f3a"
             ],
             [
              0.8888888888888888,
              "#fdca26"
             ],
             [
              1,
              "#f0f921"
             ]
            ],
            "type": "histogram2dcontour"
           }
          ],
          "mesh3d": [
           {
            "colorbar": {
             "outlinewidth": 0,
             "ticks": ""
            },
            "type": "mesh3d"
           }
          ],
          "parcoords": [
           {
            "line": {
             "colorbar": {
              "outlinewidth": 0,
              "ticks": ""
             }
            },
            "type": "parcoords"
           }
          ],
          "pie": [
           {
            "automargin": true,
            "type": "pie"
           }
          ],
          "scatter": [
           {
            "fillpattern": {
             "fillmode": "overlay",
             "size": 10,
             "solidity": 0.2
            },
            "type": "scatter"
           }
          ],
          "scatter3d": [
           {
            "line": {
             "colorbar": {
              "outlinewidth": 0,
              "ticks": ""
             }
            },
            "marker": {
             "colorbar": {
              "outlinewidth": 0,
              "ticks": ""
             }
            },
            "type": "scatter3d"
           }
          ],
          "scattercarpet": [
           {
            "marker": {
             "colorbar": {
              "outlinewidth": 0,
              "ticks": ""
             }
            },
            "type": "scattercarpet"
           }
          ],
          "scattergeo": [
           {
            "marker": {
             "colorbar": {
              "outlinewidth": 0,
              "ticks": ""
             }
            },
            "type": "scattergeo"
           }
          ],
          "scattergl": [
           {
            "marker": {
             "colorbar": {
              "outlinewidth": 0,
              "ticks": ""
             }
            },
            "type": "scattergl"
           }
          ],
          "scattermapbox": [
           {
            "marker": {
             "colorbar": {
              "outlinewidth": 0,
              "ticks": ""
             }
            },
            "type": "scattermapbox"
           }
          ],
          "scatterpolar": [
           {
            "marker": {
             "colorbar": {
              "outlinewidth": 0,
              "ticks": ""
             }
            },
            "type": "scatterpolar"
           }
          ],
          "scatterpolargl": [
           {
            "marker": {
             "colorbar": {
              "outlinewidth": 0,
              "ticks": ""
             }
            },
            "type": "scatterpolargl"
           }
          ],
          "scatterternary": [
           {
            "marker": {
             "colorbar": {
              "outlinewidth": 0,
              "ticks": ""
             }
            },
            "type": "scatterternary"
           }
          ],
          "surface": [
           {
            "colorbar": {
             "outlinewidth": 0,
             "ticks": ""
            },
            "colorscale": [
             [
              0,
              "#0d0887"
             ],
             [
              0.1111111111111111,
              "#46039f"
             ],
             [
              0.2222222222222222,
              "#7201a8"
             ],
             [
              0.3333333333333333,
              "#9c179e"
             ],
             [
              0.4444444444444444,
              "#bd3786"
             ],
             [
              0.5555555555555556,
              "#d8576b"
             ],
             [
              0.6666666666666666,
              "#ed7953"
             ],
             [
              0.7777777777777778,
              "#fb9f3a"
             ],
             [
              0.8888888888888888,
              "#fdca26"
             ],
             [
              1,
              "#f0f921"
             ]
            ],
            "type": "surface"
           }
          ],
          "table": [
           {
            "cells": {
             "fill": {
              "color": "#EBF0F8"
             },
             "line": {
              "color": "white"
             }
            },
            "header": {
             "fill": {
              "color": "#C8D4E3"
             },
             "line": {
              "color": "white"
             }
            },
            "type": "table"
           }
          ]
         },
         "layout": {
          "annotationdefaults": {
           "arrowcolor": "#2a3f5f",
           "arrowhead": 0,
           "arrowwidth": 1
          },
          "autotypenumbers": "strict",
          "coloraxis": {
           "colorbar": {
            "outlinewidth": 0,
            "ticks": ""
           }
          },
          "colorscale": {
           "diverging": [
            [
             0,
             "#8e0152"
            ],
            [
             0.1,
             "#c51b7d"
            ],
            [
             0.2,
             "#de77ae"
            ],
            [
             0.3,
             "#f1b6da"
            ],
            [
             0.4,
             "#fde0ef"
            ],
            [
             0.5,
             "#f7f7f7"
            ],
            [
             0.6,
             "#e6f5d0"
            ],
            [
             0.7,
             "#b8e186"
            ],
            [
             0.8,
             "#7fbc41"
            ],
            [
             0.9,
             "#4d9221"
            ],
            [
             1,
             "#276419"
            ]
           ],
           "sequential": [
            [
             0,
             "#0d0887"
            ],
            [
             0.1111111111111111,
             "#46039f"
            ],
            [
             0.2222222222222222,
             "#7201a8"
            ],
            [
             0.3333333333333333,
             "#9c179e"
            ],
            [
             0.4444444444444444,
             "#bd3786"
            ],
            [
             0.5555555555555556,
             "#d8576b"
            ],
            [
             0.6666666666666666,
             "#ed7953"
            ],
            [
             0.7777777777777778,
             "#fb9f3a"
            ],
            [
             0.8888888888888888,
             "#fdca26"
            ],
            [
             1,
             "#f0f921"
            ]
           ],
           "sequentialminus": [
            [
             0,
             "#0d0887"
            ],
            [
             0.1111111111111111,
             "#46039f"
            ],
            [
             0.2222222222222222,
             "#7201a8"
            ],
            [
             0.3333333333333333,
             "#9c179e"
            ],
            [
             0.4444444444444444,
             "#bd3786"
            ],
            [
             0.5555555555555556,
             "#d8576b"
            ],
            [
             0.6666666666666666,
             "#ed7953"
            ],
            [
             0.7777777777777778,
             "#fb9f3a"
            ],
            [
             0.8888888888888888,
             "#fdca26"
            ],
            [
             1,
             "#f0f921"
            ]
           ]
          },
          "colorway": [
           "#636efa",
           "#EF553B",
           "#00cc96",
           "#ab63fa",
           "#FFA15A",
           "#19d3f3",
           "#FF6692",
           "#B6E880",
           "#FF97FF",
           "#FECB52"
          ],
          "font": {
           "color": "#2a3f5f"
          },
          "geo": {
           "bgcolor": "white",
           "lakecolor": "white",
           "landcolor": "#E5ECF6",
           "showlakes": true,
           "showland": true,
           "subunitcolor": "white"
          },
          "hoverlabel": {
           "align": "left"
          },
          "hovermode": "closest",
          "mapbox": {
           "style": "light"
          },
          "paper_bgcolor": "white",
          "plot_bgcolor": "#E5ECF6",
          "polar": {
           "angularaxis": {
            "gridcolor": "white",
            "linecolor": "white",
            "ticks": ""
           },
           "bgcolor": "#E5ECF6",
           "radialaxis": {
            "gridcolor": "white",
            "linecolor": "white",
            "ticks": ""
           }
          },
          "scene": {
           "xaxis": {
            "backgroundcolor": "#E5ECF6",
            "gridcolor": "white",
            "gridwidth": 2,
            "linecolor": "white",
            "showbackground": true,
            "ticks": "",
            "zerolinecolor": "white"
           },
           "yaxis": {
            "backgroundcolor": "#E5ECF6",
            "gridcolor": "white",
            "gridwidth": 2,
            "linecolor": "white",
            "showbackground": true,
            "ticks": "",
            "zerolinecolor": "white"
           },
           "zaxis": {
            "backgroundcolor": "#E5ECF6",
            "gridcolor": "white",
            "gridwidth": 2,
            "linecolor": "white",
            "showbackground": true,
            "ticks": "",
            "zerolinecolor": "white"
           }
          },
          "shapedefaults": {
           "line": {
            "color": "#2a3f5f"
           }
          },
          "ternary": {
           "aaxis": {
            "gridcolor": "white",
            "linecolor": "white",
            "ticks": ""
           },
           "baxis": {
            "gridcolor": "white",
            "linecolor": "white",
            "ticks": ""
           },
           "bgcolor": "#E5ECF6",
           "caxis": {
            "gridcolor": "white",
            "linecolor": "white",
            "ticks": ""
           }
          },
          "title": {
           "x": 0.05
          },
          "xaxis": {
           "automargin": true,
           "gridcolor": "white",
           "linecolor": "white",
           "ticks": "",
           "title": {
            "standoff": 15
           },
           "zerolinecolor": "white",
           "zerolinewidth": 2
          },
          "yaxis": {
           "automargin": true,
           "gridcolor": "white",
           "linecolor": "white",
           "ticks": "",
           "title": {
            "standoff": 15
           },
           "zerolinecolor": "white",
           "zerolinewidth": 2
          }
         }
        },
        "title": {
         "text": "Reward-Entropy Tradeoff"
        },
        "width": 500,
        "xaxis": {
         "autorange": true,
         "range": [
          0.8084153268826797,
          0.9372556242524968
         ],
         "title": {
          "text": "Reward"
         },
         "type": "linear"
        },
        "yaxis": {
         "autorange": true,
         "range": [
          4.4546820348435086,
          5.877044590529759
         ],
         "title": {
          "text": "Entropy"
         },
         "type": "linear"
        }
       }
      },
      "image/png": "[encoded data removed]",
      "text/html": [
       "<div>                            <div id=\"48652db5-1067-4c58-9cb5-8298be3163ec\" class=\"plotly-graph-div\" style=\"height:500px; width:500px;\"></div>            <script type=\"text/javascript\">                require([\"plotly\"], function(Plotly) {                    window.PLOTLYENV=window.PLOTLYENV || {};                                    if (document.getElementById(\"48652db5-1067-4c58-9cb5-8298be3163ec\")) {                    Plotly.newPlot(                        \"48652db5-1067-4c58-9cb5-8298be3163ec\",                        [{\"marker\":{\"color\":\"black\",\"size\":8,\"symbol\":\"x\"},\"mode\":\"markers+text\",\"name\":\"Experiments\",\"showlegend\":false,\"text\":[\"pearson\",\"kl\",\"cnp\",\"hellinger\",\"a_9\",\"jeffrey\",\"GAN\",\"js\",\"a_7\",\"a_5\",\"a_3\",\"rkl\"],\"x\":[0.816752052006609,0.8610409838999609,0.8658609918829746,0.8717352868383519,0.8783444947684991,0.8862228591089081,0.8918506127159634,0.8958424512704954,0.8974443751318266,0.9010574407193225,0.9144921988339594,0.9289188991285674],\"y\":[5.783702047812849,5.462885479215935,5.742292084048907,5.376368961110993,5.436336105776817,4.548024577560419,5.268792915156096,5.316864539538827,5.411779036871416,5.3709729358048515,5.209761240257016,4.6590103703698675],\"type\":\"scatter\",\"textposition\":\"top center\"}],                        {\"template\":{\"data\":{\"histogram2dcontour\":[{\"type\":\"histogram2dcontour\",\"colorbar\":{\"outlinewidth\":0,\"ticks\":\"\"},\"colorscale\":[[0.0,\"#0d0887\"],[0.1111111111111111,\"#46039f\"],[0.2222222222222222,\"#7201a8\"],[0.3333333333333333,\"#9c179e\"],[0.4444444444444444,\"#bd3786\"],[0.5555555555555556,\"#d8576b\"],[0.6666666666666666,\"#ed7953\"],[0.7777777777777778,\"#fb9f3a\"],[0.8888888888888888,\"#fdca26\"],[1.0,\"#f0f921\"]]}],\"choropleth\":[{\"type\":\"choropleth\",\"colorbar\":{\"outlinewidth\":0,\"ticks\":\"\"}}],\"histogram2d\":[{\"type\":\"histogram2d\",\"colorbar\":{\"outlinewidth\":0,\"ticks\":\"\"},\"colorscale\":[[0.0,\"#0d0887\"],[0.1111111111111111,\"#46039f\"],[0.2222222222222222,\"#7201a8\"],[0.3333333333333333,\"#9c179e\"],[0.4444444444444444,\"#bd3786\"],[0.5555555555555556,\"#d8576b\"],[0.6666666666666666,\"#ed7953\"],[0.7777777777777778,\"#fb9f3a\"],[0.8888888888888888,\"#fdca26\"],[1.0,\"#f0f921\"]]}],\"heatmap\":[{\"type\":\"heatmap\",\"colorbar\":{\"outlinewidth\":0,\"ticks\":\"\"},\"colorscale\":[[0.0,\"#0d0887\"],[0.1111111111111111,\"#46039f\"],[0.2222222222222222,\"#7201a8\"],[0.3333333333333333,\"#9c179e\"],[0.4444444444444444,\"#bd3786\"],[0.5555555555555556,\"#d8576b\"],[0.6666666666666666,\"#ed7953\"],[0.7777777777777778,\"#fb9f3a\"],[0.8888888888888888,\"#fdca26\"],[1.0,\"#f0f921\"]]}],\"heatmapgl\":[{\"type\":\"heatmapgl\",\"colorbar\":{\"outlinewidth\":0,\"ticks\":\"\"},\"colorscale\":[[0.0,\"#0d0887\"],[0.1111111111111111,\"#46039f\"],[0.2222222222222222,\"#7201a8\"],[0.3333333333333333,\"#9c179e\"],[0.4444444444444444,\"#bd3786\"],[0.5555555555555556,\"#d8576b\"],[0.6666666666666666,\"#ed7953\"],[0.7777777777777778,\"#fb9f3a\"],[0.8888888888888888,\"#fdca26\"],[1.0,\"#f0f921\"]]}],\"contourcarpet\":[{\"type\":\"contourcarpet\",\"colorbar\":{\"outlinewidth\":0,\"ticks\":\"\"}}],\"contour\":[{\"type\":\"contour\",\"colorbar\":{\"outlinewidth\":0,\"ticks\":\"\"},\"colorscale\":[[0.0,\"#0d0887\"],[0.1111111111111111,\"#46039f\"],[0.2222222222222222,\"#7201a8\"],[0.3333333333333333,\"#9c179e\"],[0.4444444444444444,\"#bd3786\"],[0.5555555555555556,\"#d8576b\"],[0.6666666666666666,\"#ed7953\"],[0.7777777777777778,\"#fb9f3a\"],[0.8888888888888888,\"#fdca26\"],[1.0,\"#f0f921\"]]}],\"surface\":[{\"type\":\"surface\",\"colorbar\":{\"outlinewidth\":0,\"ticks\":\"\"},\"colorscale\":[[0.0,\"#0d0887\"],[0.1111111111111111,\"#46039f\"],[0.2222222222222222,\"#7201a8\"],[0.3333333333333333,\"#9c179e\"],[0.4444444444444444,\"#bd3786\"],[0.5555555555555556,\"#d8576b\"],[0.6666666666666666,\"#ed7953\"],[0.7777777777777778,\"#fb9f3a\"],[0.8888888888888888,\"#fdca26\"],[1.0,\"#f0f921\"]]}],\"mesh3d\":[{\"type\":\"mesh3d\",\"colorbar\":{\"outlinewidth\":0,\"ticks\":\"\"}}],\"scatter\":[{\"fillpattern\":{\"fillmode\":\"overlay\",\"size\":10,\"solidity\":0.2},\"type\":\"scatter\"}],\"parcoords\":[{\"type\":\"parcoords\",\"line\":{\"colorbar\":{\"outlinewidth\":0,\"ticks\":\"\"}}}],\"scatterpolargl\":[{\"type\":\"scatterpolargl\",\"marker\":{\"colorbar\":{\"outlinewidth\":0,\"ticks\":\"\"}}}],\"bar\":[{\"error_x\":{\"color\":\"#2a3f5f\"},\"error_y\":{\"color\":\"#2a3f5f\"},\"marker\":{\"line\":{\"color\":\"#E5ECF6\",\"width\":0.5},\"pattern\":{\"fillmode\":\"overlay\",\"size\":10,\"solidity\":0.2}},\"type\":\"bar\"}],\"scattergeo\":[{\"type\":\"scattergeo\",\"marker\":{\"colorbar\":{\"outlinewidth\":0,\"ticks\":\"\"}}}],\"scatterpolar\":[{\"type\":\"scatterpolar\",\"marker\":{\"colorbar\":{\"outlinewidth\":0,\"ticks\":\"\"}}}],\"histogram\":[{\"marker\":{\"pattern\":{\"fillmode\":\"overlay\",\"size\":10,\"solidity\":0.2}},\"type\":\"histogram\"}],\"scattergl\":[{\"type\":\"scattergl\",\"marker\":{\"colorbar\":{\"outlinewidth\":0,\"ticks\":\"\"}}}],\"scatter3d\":[{\"type\":\"scatter3d\",\"line\":{\"colorbar\":{\"outlinewidth\":0,\"ticks\":\"\"}},\"marker\":{\"colorbar\":{\"outlinewidth\":0,\"ticks\":\"\"}}}],\"scattermapbox\":[{\"type\":\"scattermapbox\",\"marker\":{\"colorbar\":{\"outlinewidth\":0,\"ticks\":\"\"}}}],\"scatterternary\":[{\"type\":\"scatterternary\",\"marker\":{\"colorbar\":{\"outlinewidth\":0,\"ticks\":\"\"}}}],\"scattercarpet\":[{\"type\":\"scattercarpet\",\"marker\":{\"colorbar\":{\"outlinewidth\":0,\"ticks\":\"\"}}}],\"carpet\":[{\"aaxis\":{\"endlinecolor\":\"#2a3f5f\",\"gridcolor\":\"white\",\"linecolor\":\"white\",\"minorgridcolor\":\"white\",\"startlinecolor\":\"#2a3f5f\"},\"baxis\":{\"endlinecolor\":\"#2a3f5f\",\"gridcolor\":\"white\",\"linecolor\":\"white\",\"minorgridcolor\":\"white\",\"startlinecolor\":\"#2a3f5f\"},\"type\":\"carpet\"}],\"table\":[{\"cells\":{\"fill\":{\"color\":\"#EBF0F8\"},\"line\":{\"color\":\"white\"}},\"header\":{\"fill\":{\"color\":\"#C8D4E3\"},\"line\":{\"color\":\"white\"}},\"type\":\"table\"}],\"barpolar\":[{\"marker\":{\"line\":{\"color\":\"#E5ECF6\",\"width\":0.5},\"pattern\":{\"fillmode\":\"overlay\",\"size\":10,\"solidity\":0.2}},\"type\":\"barpolar\"}],\"pie\":[{\"automargin\":true,\"type\":\"pie\"}]},\"layout\":{\"autotypenumbers\":\"strict\",\"colorway\":[\"#636efa\",\"#EF553B\",\"#00cc96\",\"#ab63fa\",\"#FFA15A\",\"#19d3f3\",\"#FF6692\",\"#B6E880\",\"#FF97FF\",\"#FECB52\"],\"font\":{\"color\":\"#2a3f5f\"},\"hovermode\":\"closest\",\"hoverlabel\":{\"align\":\"left\"},\"paper_bgcolor\":\"white\",\"plot_bgcolor\":\"#E5ECF6\",\"polar\":{\"bgcolor\":\"#E5ECF6\",\"angularaxis\":{\"gridcolor\":\"white\",\"linecolor\":\"white\",\"ticks\":\"\"},\"radialaxis\":{\"gridcolor\":\"white\",\"linecolor\":\"white\",\"ticks\":\"\"}},\"ternary\":{\"bgcolor\":\"#E5ECF6\",\"aaxis\":{\"gridcolor\":\"white\",\"linecolor\":\"white\",\"ticks\":\"\"},\"baxis\":{\"gridcolor\":\"white\",\"linecolor\":\"white\",\"ticks\":\"\"},\"caxis\":{\"gridcolor\":\"white\",\"linecolor\":\"white\",\"ticks\":\"\"}},\"coloraxis\":{\"colorbar\":{\"outlinewidth\":0,\"ticks\":\"\"}},\"colorscale\":{\"sequential\":[[0.0,\"#0d0887\"],[0.1111111111111111,\"#46039f\"],[0.2222222222222222,\"#7201a8\"],[0.3333333333333333,\"#9c179e\"],[0.4444444444444444,\"#bd3786\"],[0.5555555555555556,\"#d8576b\"],[0.6666666666666666,\"#ed7953\"],[0.7777777777777778,\"#fb9f3a\"],[0.8888888888888888,\"#fdca26\"],[1.0,\"#f0f921\"]],\"sequentialminus\":[[0.0,\"#0d0887\"],[0.1111111111111111,\"#46039f\"],[0.2222222222222222,\"#7201a8\"],[0.3333333333333333,\"#9c179e\"],[0.4444444444444444,\"#bd3786\"],[0.5555555555555556,\"#d8576b\"],[0.6666666666666666,\"#ed7953\"],[0.7777777777777778,\"#fb9f3a\"],[0.8888888888888888,\"#fdca26\"],[1.0,\"#f0f921\"]],\"diverging\":[[0,\"#8e0152\"],[0.1,\"#c51b7d\"],[0.2,\"#de77ae\"],[0.3,\"#f1b6da\"],[0.4,\"#fde0ef\"],[0.5,\"#f7f7f7\"],[0.6,\"#e6f5d0\"],[0.7,\"#b8e186\"],[0.8,\"#7fbc41\"],[0.9,\"#4d9221\"],[1,\"#276419\"]]},\"xaxis\":{\"gridcolor\":\"white\",\"linecolor\":\"white\",\"ticks\":\"\",\"title\":{\"standoff\":15},\"zerolinecolor\":\"white\",\"automargin\":true,\"zerolinewidth\":2},\"yaxis\":{\"gridcolor\":\"white\",\"linecolor\":\"white\",\"ticks\":\"\",\"title\":{\"standoff\":15},\"zerolinecolor\":\"white\",\"automargin\":true,\"zerolinewidth\":2},\"scene\":{\"xaxis\":{\"backgroundcolor\":\"#E5ECF6\",\"gridcolor\":\"white\",\"linecolor\":\"white\",\"showbackground\":true,\"ticks\":\"\",\"zerolinecolor\":\"white\",\"gridwidth\":2},\"yaxis\":{\"backgroundcolor\":\"#E5ECF6\",\"gridcolor\":\"white\",\"linecolor\":\"white\",\"showbackground\":true,\"ticks\":\"\",\"zerolinecolor\":\"white\",\"gridwidth\":2},\"zaxis\":{\"backgroundcolor\":\"#E5ECF6\",\"gridcolor\":\"white\",\"linecolor\":\"white\",\"showbackground\":true,\"ticks\":\"\",\"zerolinecolor\":\"white\",\"gridwidth\":2}},\"shapedefaults\":{\"line\":{\"color\":\"#2a3f5f\"}},\"annotationdefaults\":{\"arrowcolor\":\"#2a3f5f\",\"arrowhead\":0,\"arrowwidth\":1},\"geo\":{\"bgcolor\":\"white\",\"landcolor\":\"#E5ECF6\",\"subunitcolor\":\"white\",\"showland\":true,\"showlakes\":true,\"lakecolor\":\"white\"},\"title\":{\"x\":0.05},\"mapbox\":{\"style\":\"light\"}}},\"height\":500,\"width\":500,\"title\":{\"text\":\"Reward-Entropy Tradeoff\"},\"xaxis\":{\"title\":{\"text\":\"Reward\"}},\"yaxis\":{\"title\":{\"text\":\"Entropy\"}}},                        {\"responsive\": true}                    ).then(function(){\n",
       "                            \n",
       "var gd = document.getElementById('48652db5-1067-4c58-9cb5-8298be3163ec');\n",
       "var x = new MutationObserver(function (mutations, observer) {{\n",
       "        var display = window.getComputedStyle(gd).display;\n",
       "        if (!display || display === 'none') {{\n",
       "            console.log([gd, 'removed!']);\n",
       "            Plotly.purge(gd);\n",
       "            observer.disconnect();\n",
       "        }}\n",
       "}});\n",
       "\n",
       "// Listen for the removal of the full notebook cells\n",
       "var notebookContainer = gd.closest('#notebook-container');\n",
       "if (notebookContainer) {{\n",
       "    x.observe(notebookContainer, {childList: true});\n",
       "}}\n",
       "\n",
       "// Listen for the clearing of the current output cell\n",
       "var outputEl = gd.closest('.output');\n",
       "if (outputEl) {{\n",
       "    x.observe(outputEl, {childList: true});\n",
       "}}\n",
       "\n",
       "                        })                };                });            </script>        </div>"
      ]
     },
     "metadata": {},
     "output_type": "display_data"
    }
   ],
   "source": [
    "names = [\n",
    "    \"a_3\", \"a_5\", \"a_7\", \"a_9\",\n",
    "    \"pearson\", # \"neyman\",\n",
    "    \"hellinger\", \"jeffrey\",\n",
    "    \"GAN\", # \"TVD\",\n",
    "    \"cnp\", \"chi_alpha\",\n",
    "    \"kl\", \"rkl\", \"js\",\n",
    "]\n",
    "\n",
    "summary = agg_experiments(names)\n",
    "mean_summary_plot(summary, polyfit=False)"
   ]
  },
  {
   "cell_type": "markdown",
   "id": "a5e4bb38-0a49-4588-8807-75d45ed410b8",
   "metadata": {},
   "source": [
    "И тут на самом деле всё равно довольно сложно сказать. Выделяется cnp тем, что сильно увеличивает дайвёрсити, при этом сохраняя реворд КЛ-дивергенции. Это не самые позитивные отзывы, да, но по какой-то причине очень разнообразные"
   ]
  },
  {
   "cell_type": "markdown",
   "id": "dd605f63-3248-401c-956e-1a2d6bdb9cad",
   "metadata": {},
   "source": [
    "Ещё можно попробовать взять другие лоссы. Мы пробовали только `hinge` и `sigmoid`, но `DPOTrainer` поддерживает ещё `ipo`, а также есть [отчёт](https://github.com/ContextualAI/HALOs/tree/main) про модернизацию этой штуки с лоссом `kto`, их я тоже уже встроил, там немного. Дивергенцию я буду брать ту, которая мне больше всего понравилась"
   ]
  },
  {
   "cell_type": "code",
   "execution_count": 2,
   "id": "194208f7-0462-40da-94ed-e63b2dcdc9ae",
   "metadata": {
    "tags": []
   },
   "outputs": [],
   "source": [
    "div = lambda x, y: alpha_divergence(x, y, 0.5)"
   ]
  },
  {
   "cell_type": "code",
   "execution_count": null,
   "id": "1683d67c-25cb-4d59-9267-b36e175e13ea",
   "metadata": {
    "scrolled": true,
    "tags": []
   },
   "outputs": [],
   "source": [
    "for loss in [\"ipo\", \"kto\"]:\n",
    "    for i in trange(5):\n",
    "        pipe = Pipeline()\n",
    "        pipe.train(loss_type=loss, n_samples=100, random_state=i)\n",
    "        pipe.evaluate(f\"{loss}_{i}\", n_samples=100)"
   ]
  },
  {
   "cell_type": "code",
   "execution_count": 6,
   "id": "4fc7bd7d-f275-40da-92e5-4dcfe7aceaaf",
   "metadata": {},
   "outputs": [
    {
     "data": {
      "text/html": [
       "        <script type=\"text/javascript\">\n",
       "        window.PlotlyConfig = {MathJaxConfig: 'local'};\n",
       "        if (window.MathJax && window.MathJax.Hub && window.MathJax.Hub.Config) {window.MathJax.Hub.Config({SVG: {font: \"STIX-Web\"}});}\n",
       "        if (typeof require !== 'undefined') {\n",
       "        require.undef(\"plotly\");\n",
       "        requirejs.config({\n",
       "            paths: {\n",
       "                'plotly': ['https://cdn.plot.ly/plotly-2.27.0.min']\n",
       "            }\n",
       "        });\n",
       "        require(['plotly'], function(Plotly) {\n",
       "            window._Plotly = Plotly;\n",
       "        });\n",
       "        }\n",
       "        </script>\n",
       "        "
      ]
     },
     "metadata": {},
     "output_type": "display_data"
    },
    {
     "data": {
      "text/html": [
       "<div>                            <div id=\"47c52289-eff6-4878-b901-59afc19506fc\" class=\"plotly-graph-div\" style=\"height:525px; width:100%;\"></div>            <script type=\"text/javascript\">                require([\"plotly\"], function(Plotly) {                    window.PLOTLYENV=window.PLOTLYENV || {};                                    if (document.getElementById(\"47c52289-eff6-4878-b901-59afc19506fc\")) {                    Plotly.newPlot(                        \"47c52289-eff6-4878-b901-59afc19506fc\",                        [{\"alignmentgroup\":\"True\",\"boxpoints\":\"all\",\"hovertemplate\":\"experiment=%{x}\\u003cbr\\u003ereward=%{y}\\u003cextra\\u003e\\u003c\\u002fextra\\u003e\",\"legendgroup\":\"hinge\",\"marker\":{\"color\":\"crimson\"},\"name\":\"hinge\",\"notched\":false,\"offsetgroup\":\"hinge\",\"orientation\":\"v\",\"showlegend\":true,\"x\":[\"hinge\",\"hinge\",\"hinge\",\"hinge\",\"hinge\",\"hinge\",\"hinge\",\"hinge\",\"hinge\",\"hinge\",\"hinge\",\"hinge\",\"hinge\",\"hinge\",\"hinge\",\"hinge\",\"hinge\",\"hinge\",\"hinge\",\"hinge\",\"hinge\",\"hinge\",\"hinge\",\"hinge\",\"hinge\",\"hinge\",\"hinge\",\"hinge\",\"hinge\",\"hinge\",\"hinge\",\"hinge\",\"hinge\",\"hinge\",\"hinge\",\"hinge\",\"hinge\",\"hinge\",\"hinge\",\"hinge\",\"hinge\",\"hinge\",\"hinge\",\"hinge\",\"hinge\",\"hinge\",\"hinge\",\"hinge\",\"hinge\",\"hinge\",\"hinge\",\"hinge\",\"hinge\",\"hinge\",\"hinge\",\"hinge\",\"hinge\",\"hinge\",\"hinge\",\"hinge\",\"hinge\",\"hinge\",\"hinge\",\"hinge\",\"hinge\",\"hinge\",\"hinge\",\"hinge\",\"hinge\",\"hinge\",\"hinge\",\"hinge\",\"hinge\",\"hinge\",\"hinge\",\"hinge\",\"hinge\",\"hinge\",\"hinge\",\"hinge\",\"hinge\",\"hinge\",\"hinge\",\"hinge\",\"hinge\",\"hinge\",\"hinge\",\"hinge\",\"hinge\",\"hinge\",\"hinge\",\"hinge\",\"hinge\",\"hinge\",\"hinge\",\"hinge\",\"hinge\",\"hinge\",\"hinge\",\"hinge\",\"hinge\",\"hinge\",\"hinge\",\"hinge\",\"hinge\",\"hinge\",\"hinge\",\"hinge\",\"hinge\",\"hinge\",\"hinge\",\"hinge\",\"hinge\",\"hinge\",\"hinge\",\"hinge\",\"hinge\",\"hinge\",\"hinge\",\"hinge\",\"hinge\",\"hinge\",\"hinge\",\"hinge\",\"hinge\",\"hinge\",\"hinge\",\"hinge\",\"hinge\",\"hinge\",\"hinge\",\"hinge\",\"hinge\",\"hinge\",\"hinge\",\"hinge\",\"hinge\",\"hinge\",\"hinge\",\"hinge\",\"hinge\",\"hinge\",\"hinge\",\"hinge\",\"hinge\",\"hinge\",\"hinge\",\"hinge\",\"hinge\",\"hinge\",\"hinge\",\"hinge\",\"hinge\",\"hinge\",\"hinge\",\"hinge\",\"hinge\",\"hinge\",\"hinge\",\"hinge\",\"hinge\",\"hinge\",\"hinge\",\"hinge\",\"hinge\",\"hinge\",\"hinge\",\"hinge\",\"hinge\",\"hinge\",\"hinge\",\"hinge\",\"hinge\",\"hinge\",\"hinge\",\"hinge\",\"hinge\",\"hinge\",\"hinge\",\"hinge\",\"hinge\",\"hinge\",\"hinge\",\"hinge\",\"hinge\",\"hinge\",\"hinge\",\"hinge\",\"hinge\",\"hinge\",\"hinge\",\"hinge\",\"hinge\",\"hinge\",\"hinge\",\"hinge\",\"hinge\",\"hinge\",\"hinge\",\"hinge\",\"hinge\",\"hinge\",\"hinge\",\"hinge\",\"hinge\",\"hinge\",\"hinge\",\"hinge\",\"hinge\",\"hinge\",\"hinge\",\"hinge\",\"hinge\",\"hinge\",\"hinge\",\"hinge\",\"hinge\",\"hinge\",\"hinge\",\"hinge\",\"hinge\",\"hinge\",\"hinge\",\"hinge\",\"hinge\",\"hinge\",\"hinge\",\"hinge\",\"hinge\",\"hinge\",\"hinge\",\"hinge\",\"hinge\",\"hinge\",\"hinge\",\"hinge\",\"hinge\",\"hinge\",\"hinge\",\"hinge\",\"hinge\",\"hinge\",\"hinge\",\"hinge\",\"hinge\",\"hinge\",\"hinge\",\"hinge\",\"hinge\",\"hinge\",\"hinge\",\"hinge\",\"hinge\",\"hinge\",\"hinge\",\"hinge\",\"hinge\",\"hinge\",\"hinge\",\"hinge\",\"hinge\",\"hinge\",\"hinge\",\"hinge\",\"hinge\",\"hinge\",\"hinge\",\"hinge\",\"hinge\",\"hinge\",\"hinge\",\"hinge\",\"hinge\",\"hinge\",\"hinge\",\"hinge\",\"hinge\",\"hinge\",\"hinge\",\"hinge\",\"hinge\",\"hinge\",\"hinge\",\"hinge\",\"hinge\",\"hinge\",\"hinge\",\"hinge\",\"hinge\",\"hinge\",\"hinge\",\"hinge\",\"hinge\",\"hinge\",\"hinge\",\"hinge\",\"hinge\",\"hinge\",\"hinge\",\"hinge\",\"hinge\",\"hinge\",\"hinge\",\"hinge\",\"hinge\",\"hinge\",\"hinge\",\"hinge\",\"hinge\",\"hinge\",\"hinge\",\"hinge\",\"hinge\",\"hinge\",\"hinge\",\"hinge\",\"hinge\",\"hinge\",\"hinge\",\"hinge\",\"hinge\",\"hinge\",\"hinge\",\"hinge\",\"hinge\",\"hinge\",\"hinge\",\"hinge\",\"hinge\",\"hinge\",\"hinge\",\"hinge\",\"hinge\",\"hinge\",\"hinge\",\"hinge\",\"hinge\",\"hinge\",\"hinge\",\"hinge\",\"hinge\",\"hinge\",\"hinge\",\"hinge\",\"hinge\",\"hinge\",\"hinge\",\"hinge\",\"hinge\",\"hinge\",\"hinge\",\"hinge\",\"hinge\",\"hinge\",\"hinge\",\"hinge\",\"hinge\",\"hinge\",\"hinge\",\"hinge\",\"hinge\",\"hinge\",\"hinge\",\"hinge\",\"hinge\",\"hinge\",\"hinge\",\"hinge\",\"hinge\",\"hinge\",\"hinge\",\"hinge\",\"hinge\",\"hinge\",\"hinge\",\"hinge\",\"hinge\",\"hinge\",\"hinge\",\"hinge\",\"hinge\",\"hinge\",\"hinge\",\"hinge\",\"hinge\",\"hinge\",\"hinge\",\"hinge\",\"hinge\",\"hinge\",\"hinge\",\"hinge\",\"hinge\",\"hinge\",\"hinge\",\"hinge\",\"hinge\",\"hinge\",\"hinge\",\"hinge\",\"hinge\",\"hinge\",\"hinge\",\"hinge\",\"hinge\",\"hinge\",\"hinge\",\"hinge\",\"hinge\",\"hinge\",\"hinge\",\"hinge\",\"hinge\",\"hinge\",\"hinge\",\"hinge\",\"hinge\",\"hinge\",\"hinge\",\"hinge\",\"hinge\",\"hinge\",\"hinge\",\"hinge\",\"hinge\",\"hinge\",\"hinge\",\"hinge\",\"hinge\",\"hinge\",\"hinge\",\"hinge\",\"hinge\",\"hinge\",\"hinge\",\"hinge\",\"hinge\",\"hinge\",\"hinge\",\"hinge\",\"hinge\",\"hinge\",\"hinge\",\"hinge\",\"hinge\",\"hinge\",\"hinge\",\"hinge\",\"hinge\",\"hinge\",\"hinge\",\"hinge\",\"hinge\",\"hinge\",\"hinge\",\"hinge\",\"hinge\",\"hinge\",\"hinge\",\"hinge\",\"hinge\",\"hinge\",\"hinge\",\"hinge\",\"hinge\",\"hinge\",\"hinge\",\"hinge\",\"hinge\",\"hinge\",\"hinge\",\"hinge\",\"hinge\",\"hinge\",\"hinge\",\"hinge\",\"hinge\",\"hinge\",\"hinge\",\"hinge\",\"hinge\",\"hinge\",\"hinge\",\"hinge\",\"hinge\",\"hinge\",\"hinge\",\"hinge\",\"hinge\",\"hinge\",\"hinge\",\"hinge\",\"hinge\",\"hinge\",\"hinge\",\"hinge\",\"hinge\",\"hinge\",\"hinge\",\"hinge\"],\"x0\":\" \",\"xaxis\":\"x\",\"y\":[2.585515,2.9021287,2.8297346,2.8253546,0.21739426,2.3805833,2.888997,2.8008602,2.866629,2.8457034,2.8499668,2.7910154,2.8891811,2.9250681,2.8141584,2.8792553,2.7543697,2.8729892,2.8805203,2.8561816,2.237292,2.830462,2.887426,2.8813736,2.8842084,2.852761,2.884945,2.764987,2.5505643,2.8140597,2.8689044,2.843741,2.8118134,2.9107366,2.797085,2.8468907,2.8381772,2.853007,2.7426188,2.8875108,2.901116,2.7182562,2.8460777,2.6003335,2.8302963,2.7389653,2.7124066,2.7604697,2.8466086,2.6552072,2.9209454,2.871612,2.88888,2.7346325,2.6009831,2.7304838,2.8000329,2.806707,2.8450422,2.8272054,-0.063555785,2.778283,2.7252533,2.841313,2.802558,2.8596473,-0.063555785,2.8135371,2.8344204,2.5979564,2.8059096,2.7302473,2.784375,2.8771937,2.85158,-0.063555785,2.8619015,2.8208745,2.658858,2.6451812,1.437103,2.790075,2.833533,2.8154175,2.8488052,2.7247484,2.875708,2.8080313,2.6395144,2.7527595,2.878439,2.7101967,2.8550675,-0.027459579,2.796991,2.7502959,2.877357,2.7869387,2.6401174,2.8946283,2.7817554,2.8388305,2.721525,-0.063555785,2.7769368,2.6167738,2.6887622,2.8557043,2.8251996,2.8092208,2.8081217,2.7537298,2.7733915,2.8547554,2.7612596,2.7082765,2.7694383,1.686842,2.734498,2.5163336,1.6459178,2.7149239,2.7623236,2.82048,2.7882643,2.8457136,2.7554722,1.2088616,2.5220551,2.5841932,2.820825,2.769859,2.76802,2.800989,2.8135242,2.7533479,2.7791486,-0.063555785,2.814965,2.852724,-0.063555785,0.012570442,2.6932075,2.5872495,-2.8318448,2.6866412,2.7171593,2.700575,2.8013773,2.788872,-0.063555785,2.6220944,2.2732718,2.7228737,2.726109,-0.063555785,1.3513677,2.5512023,2.8520637,2.16347,2.793903,2.6908646,2.603672,2.6516693,2.6961985,2.4766047,2.689796,2.0422971,2.86819,2.7373855,2.874999,2.5046487,2.806933,2.8461258,2.7639098,2.531295,2.879064,2.7418292,2.8240008,2.8105936,2.7701378,2.8441315,2.8341022,2.7725854,2.9079525,2.2737155,2.7077389,2.8036761,2.5829482,0.48965082,1.1758293,2.698053,2.7749887,2.8135567,2.845998,2.477024,2.7028816,2.8626668,2.7610314,1.708024,2.8591022,2.8837986,2.8961377,2.6584573,2.8742213,2.8708751,2.4759395,2.8529637,-0.027459579,2.8542538,2.8278594,2.5986762,2.7924123,2.8416421,2.9111128,2.4942906,2.8237824,2.8286767,2.854529,-0.063555785,2.8262818,2.8584094,2.8828278,2.8660975,2.87678,2.9246812,2.859716,2.7998667,2.3345957,2.8849914,-0.063555785,2.878672,2.869385,2.7068033,2.7709591,2.739257,2.7729158,2.884533,2.9093723,0.91308856,2.8551254,2.824269,2.3291354,2.7919533,-0.027459579,-0.063555785,2.8683589,2.744744,2.7485218,2.6559196,2.0725188,2.8266764,2.8211608,2.847781,2.862696,2.6102545,2.7725263,2.8294568,2.888329,2.880019,2.8731966,2.701091,2.8227584,2.8243945,-0.027459579,2.7903469,2.8765395,2.7749887,-0.027459579,2.7643936,2.7508304,2.8081384,2.8836858,2.9313698,2.637124,2.854424,2.837416,2.8506393,2.764215,2.8545008,2.7184598,2.8177836,2.8001792,2.7790387,2.8555813,2.8262997,2.8827703,2.7712345,2.7753077,2.7801003,2.8281653,2.8013577,1.4716005,2.8989599,2.7606766,2.7179506,2.6909742,2.7729635,2.899989,-0.48074752,2.7524984,2.9001925,2.7369375,2.7962863,2.909465,0.735977,2.8666334,2.8080919,1.8741922,2.8190289,2.7962122,2.8517435,2.712542,2.8706698,2.8126142,2.6371088,2.75983,2.7888951,2.730978,2.8072553,2.902813,2.8748894,2.8739371,2.6594083,2.7631197,2.6786914,2.8551483,2.4286096,2.8089914,2.916109,2.5908284,2.928439,2.7873645,2.8880258,2.759655,2.7905672,2.7170932,2.8296347,2.9010317,2.8260386,2.7180054,2.8687549,2.9161851,2.7191894,2.853135,2.8341303,-0.027459579,2.7783022,2.842452,2.8402896,2.6351752,2.891768,2.7384746,2.8441498,2.854969,2.8608472,2.6753635,2.8832886,2.7857,2.6531475,2.8912096,-0.063555785,2.6550589,2.842316,2.8253803,1.6057396,2.8404562,2.7707644,2.655988,2.8790786,2.6323028,2.8624873,-0.027459579,2.8704767,-0.063555785,2.8364515,2.7106085,2.8756673,2.7826586,2.8714252,2.7208123,2.8573074,2.8013184,2.797436,2.8185654,2.5433826,2.77778,2.795089,2.834838,-0.027459579,2.5504534,2.8004208,2.6091192,2.8670282,2.736699,2.782496,2.8320632,2.7991881,2.8531785,2.3562837,2.656623,2.5770202,2.760689,2.848605,2.8040457,2.8438563,2.8757205,2.8942115,2.7522483,2.871957,2.8716347,2.8922682,2.868249,2.796768,2.8965104,0.80448174,2.8971143,2.814937,2.5718644,2.7015295,2.834873,2.799722,2.897996,2.9237761,2.9404128,2.8586671,2.8105202,2.8335757,2.8464353,2.8855727,2.8351834,2.8725448,2.8177924,2.292338,2.909367,2.90684,2.8836207,2.8787014,2.7698956,2.6247754,2.6415434,2.832687,2.4649808,2.8860083,2.748094,2.8607826,2.5453153,2.7838519,2.795435,2.9086347,2.6666915,2.797236,2.8047194,2.9276843,2.808404,2.8711145,2.793536,-0.047088012,2.8699384,2.815966,2.864305,2.7923048,2.8636,2.8330355,2.8256447,2.6652102,2.828263,2.8515456,2.5252264,2.765777,2.715531,2.8518386,-1.4599059,2.7509716,2.751268,2.530785,2.614937,2.8466985,2.8146186,2.7619622,2.8704052,2.8351471,2.7689703,2.7807703,2.9082706,2.8215191,2.7648613,2.9125583,2.900326,2.8400445,2.7709346,2.9025435,2.846592,2.8330784,2.8675017,2.8342729,-0.027459579,2.858726,2.8646555,2.914408],\"y0\":\" \",\"yaxis\":\"y\",\"type\":\"box\"},{\"alignmentgroup\":\"True\",\"boxpoints\":\"all\",\"hovertemplate\":\"experiment=%{x}\\u003cbr\\u003ereward=%{y}\\u003cextra\\u003e\\u003c\\u002fextra\\u003e\",\"legendgroup\":\"sigmoid\",\"marker\":{\"color\":\"midnightblue\"},\"name\":\"sigmoid\",\"notched\":false,\"offsetgroup\":\"sigmoid\",\"orientation\":\"v\",\"showlegend\":true,\"x\":[\"sigmoid\",\"sigmoid\",\"sigmoid\",\"sigmoid\",\"sigmoid\",\"sigmoid\",\"sigmoid\",\"sigmoid\",\"sigmoid\",\"sigmoid\",\"sigmoid\",\"sigmoid\",\"sigmoid\",\"sigmoid\",\"sigmoid\",\"sigmoid\",\"sigmoid\",\"sigmoid\",\"sigmoid\",\"sigmoid\",\"sigmoid\",\"sigmoid\",\"sigmoid\",\"sigmoid\",\"sigmoid\",\"sigmoid\",\"sigmoid\",\"sigmoid\",\"sigmoid\",\"sigmoid\",\"sigmoid\",\"sigmoid\",\"sigmoid\",\"sigmoid\",\"sigmoid\",\"sigmoid\",\"sigmoid\",\"sigmoid\",\"sigmoid\",\"sigmoid\",\"sigmoid\",\"sigmoid\",\"sigmoid\",\"sigmoid\",\"sigmoid\",\"sigmoid\",\"sigmoid\",\"sigmoid\",\"sigmoid\",\"sigmoid\",\"sigmoid\",\"sigmoid\",\"sigmoid\",\"sigmoid\",\"sigmoid\",\"sigmoid\",\"sigmoid\",\"sigmoid\",\"sigmoid\",\"sigmoid\",\"sigmoid\",\"sigmoid\",\"sigmoid\",\"sigmoid\",\"sigmoid\",\"sigmoid\",\"sigmoid\",\"sigmoid\",\"sigmoid\",\"sigmoid\",\"sigmoid\",\"sigmoid\",\"sigmoid\",\"sigmoid\",\"sigmoid\",\"sigmoid\",\"sigmoid\",\"sigmoid\",\"sigmoid\",\"sigmoid\",\"sigmoid\",\"sigmoid\",\"sigmoid\",\"sigmoid\",\"sigmoid\",\"sigmoid\",\"sigmoid\",\"sigmoid\",\"sigmoid\",\"sigmoid\",\"sigmoid\",\"sigmoid\",\"sigmoid\",\"sigmoid\",\"sigmoid\",\"sigmoid\",\"sigmoid\",\"sigmoid\",\"sigmoid\",\"sigmoid\",\"sigmoid\",\"sigmoid\",\"sigmoid\",\"sigmoid\",\"sigmoid\",\"sigmoid\",\"sigmoid\",\"sigmoid\",\"sigmoid\",\"sigmoid\",\"sigmoid\",\"sigmoid\",\"sigmoid\",\"sigmoid\",\"sigmoid\",\"sigmoid\",\"sigmoid\",\"sigmoid\",\"sigmoid\",\"sigmoid\",\"sigmoid\",\"sigmoid\",\"sigmoid\",\"sigmoid\",\"sigmoid\",\"sigmoid\",\"sigmoid\",\"sigmoid\",\"sigmoid\",\"sigmoid\",\"sigmoid\",\"sigmoid\",\"sigmoid\",\"sigmoid\",\"sigmoid\",\"sigmoid\",\"sigmoid\",\"sigmoid\",\"sigmoid\",\"sigmoid\",\"sigmoid\",\"sigmoid\",\"sigmoid\",\"sigmoid\",\"sigmoid\",\"sigmoid\",\"sigmoid\",\"sigmoid\",\"sigmoid\",\"sigmoid\",\"sigmoid\",\"sigmoid\",\"sigmoid\",\"sigmoid\",\"sigmoid\",\"sigmoid\",\"sigmoid\",\"sigmoid\",\"sigmoid\",\"sigmoid\",\"sigmoid\",\"sigmoid\",\"sigmoid\",\"sigmoid\",\"sigmoid\",\"sigmoid\",\"sigmoid\",\"sigmoid\",\"sigmoid\",\"sigmoid\",\"sigmoid\",\"sigmoid\",\"sigmoid\",\"sigmoid\",\"sigmoid\",\"sigmoid\",\"sigmoid\",\"sigmoid\",\"sigmoid\",\"sigmoid\",\"sigmoid\",\"sigmoid\",\"sigmoid\",\"sigmoid\",\"sigmoid\",\"sigmoid\",\"sigmoid\",\"sigmoid\",\"sigmoid\",\"sigmoid\",\"sigmoid\",\"sigmoid\",\"sigmoid\",\"sigmoid\",\"sigmoid\",\"sigmoid\",\"sigmoid\",\"sigmoid\",\"sigmoid\",\"sigmoid\",\"sigmoid\",\"sigmoid\",\"sigmoid\",\"sigmoid\",\"sigmoid\",\"sigmoid\",\"sigmoid\",\"sigmoid\",\"sigmoid\",\"sigmoid\",\"sigmoid\",\"sigmoid\",\"sigmoid\",\"sigmoid\",\"sigmoid\",\"sigmoid\",\"sigmoid\",\"sigmoid\",\"sigmoid\",\"sigmoid\",\"sigmoid\",\"sigmoid\",\"sigmoid\",\"sigmoid\",\"sigmoid\",\"sigmoid\",\"sigmoid\",\"sigmoid\",\"sigmoid\",\"sigmoid\",\"sigmoid\",\"sigmoid\",\"sigmoid\",\"sigmoid\",\"sigmoid\",\"sigmoid\",\"sigmoid\",\"sigmoid\",\"sigmoid\",\"sigmoid\",\"sigmoid\",\"sigmoid\",\"sigmoid\",\"sigmoid\",\"sigmoid\",\"sigmoid\",\"sigmoid\",\"sigmoid\",\"sigmoid\",\"sigmoid\",\"sigmoid\",\"sigmoid\",\"sigmoid\",\"sigmoid\",\"sigmoid\",\"sigmoid\",\"sigmoid\",\"sigmoid\",\"sigmoid\",\"sigmoid\",\"sigmoid\",\"sigmoid\",\"sigmoid\",\"sigmoid\",\"sigmoid\",\"sigmoid\",\"sigmoid\",\"sigmoid\",\"sigmoid\",\"sigmoid\",\"sigmoid\",\"sigmoid\",\"sigmoid\",\"sigmoid\",\"sigmoid\",\"sigmoid\",\"sigmoid\",\"sigmoid\",\"sigmoid\",\"sigmoid\",\"sigmoid\",\"sigmoid\",\"sigmoid\",\"sigmoid\",\"sigmoid\",\"sigmoid\",\"sigmoid\",\"sigmoid\",\"sigmoid\",\"sigmoid\",\"sigmoid\",\"sigmoid\",\"sigmoid\",\"sigmoid\",\"sigmoid\",\"sigmoid\",\"sigmoid\",\"sigmoid\",\"sigmoid\",\"sigmoid\",\"sigmoid\",\"sigmoid\",\"sigmoid\",\"sigmoid\",\"sigmoid\",\"sigmoid\",\"sigmoid\",\"sigmoid\",\"sigmoid\",\"sigmoid\",\"sigmoid\",\"sigmoid\",\"sigmoid\",\"sigmoid\",\"sigmoid\",\"sigmoid\",\"sigmoid\",\"sigmoid\",\"sigmoid\",\"sigmoid\",\"sigmoid\",\"sigmoid\",\"sigmoid\",\"sigmoid\",\"sigmoid\",\"sigmoid\",\"sigmoid\",\"sigmoid\",\"sigmoid\",\"sigmoid\",\"sigmoid\",\"sigmoid\",\"sigmoid\",\"sigmoid\",\"sigmoid\",\"sigmoid\",\"sigmoid\",\"sigmoid\",\"sigmoid\",\"sigmoid\",\"sigmoid\",\"sigmoid\",\"sigmoid\",\"sigmoid\",\"sigmoid\",\"sigmoid\",\"sigmoid\",\"sigmoid\",\"sigmoid\",\"sigmoid\",\"sigmoid\",\"sigmoid\",\"sigmoid\",\"sigmoid\",\"sigmoid\",\"sigmoid\",\"sigmoid\",\"sigmoid\",\"sigmoid\",\"sigmoid\",\"sigmoid\",\"sigmoid\",\"sigmoid\",\"sigmoid\",\"sigmoid\",\"sigmoid\",\"sigmoid\",\"sigmoid\",\"sigmoid\",\"sigmoid\",\"sigmoid\",\"sigmoid\",\"sigmoid\",\"sigmoid\",\"sigmoid\",\"sigmoid\",\"sigmoid\",\"sigmoid\",\"sigmoid\",\"sigmoid\",\"sigmoid\",\"sigmoid\",\"sigmoid\",\"sigmoid\",\"sigmoid\",\"sigmoid\",\"sigmoid\",\"sigmoid\",\"sigmoid\",\"sigmoid\",\"sigmoid\",\"sigmoid\",\"sigmoid\",\"sigmoid\",\"sigmoid\",\"sigmoid\",\"sigmoid\",\"sigmoid\",\"sigmoid\",\"sigmoid\",\"sigmoid\",\"sigmoid\",\"sigmoid\",\"sigmoid\",\"sigmoid\",\"sigmoid\",\"sigmoid\",\"sigmoid\",\"sigmoid\",\"sigmoid\",\"sigmoid\",\"sigmoid\",\"sigmoid\",\"sigmoid\",\"sigmoid\",\"sigmoid\",\"sigmoid\",\"sigmoid\",\"sigmoid\",\"sigmoid\",\"sigmoid\",\"sigmoid\",\"sigmoid\",\"sigmoid\",\"sigmoid\",\"sigmoid\",\"sigmoid\",\"sigmoid\",\"sigmoid\",\"sigmoid\",\"sigmoid\",\"sigmoid\",\"sigmoid\",\"sigmoid\",\"sigmoid\",\"sigmoid\",\"sigmoid\",\"sigmoid\",\"sigmoid\",\"sigmoid\",\"sigmoid\",\"sigmoid\",\"sigmoid\",\"sigmoid\",\"sigmoid\",\"sigmoid\",\"sigmoid\",\"sigmoid\",\"sigmoid\",\"sigmoid\",\"sigmoid\",\"sigmoid\",\"sigmoid\",\"sigmoid\",\"sigmoid\",\"sigmoid\",\"sigmoid\",\"sigmoid\",\"sigmoid\",\"sigmoid\",\"sigmoid\",\"sigmoid\",\"sigmoid\",\"sigmoid\",\"sigmoid\",\"sigmoid\",\"sigmoid\",\"sigmoid\",\"sigmoid\",\"sigmoid\",\"sigmoid\",\"sigmoid\",\"sigmoid\",\"sigmoid\",\"sigmoid\",\"sigmoid\",\"sigmoid\",\"sigmoid\",\"sigmoid\",\"sigmoid\",\"sigmoid\",\"sigmoid\",\"sigmoid\",\"sigmoid\",\"sigmoid\",\"sigmoid\",\"sigmoid\",\"sigmoid\",\"sigmoid\",\"sigmoid\",\"sigmoid\",\"sigmoid\",\"sigmoid\",\"sigmoid\",\"sigmoid\",\"sigmoid\",\"sigmoid\",\"sigmoid\",\"sigmoid\",\"sigmoid\"],\"x0\":\" \",\"xaxis\":\"x\",\"y\":[2.585515,2.9021287,2.8297346,2.8253546,0.21739426,2.3805833,2.888997,2.8008602,2.866629,2.8457034,2.8499668,2.7910154,2.8891811,2.9250681,2.8141584,2.8792553,2.7543697,2.8729892,2.8805203,2.8561816,2.237292,2.830462,2.887426,2.8813736,2.8842084,2.852761,2.884945,2.764987,2.5505643,2.8140597,2.8689044,2.843741,2.8118134,2.9107366,2.797085,2.8468907,2.8381772,2.853007,2.7426188,2.8875108,2.901116,2.7182562,2.8460777,2.6003335,2.8302963,2.7389653,2.7124066,2.7604697,2.8466086,2.6552072,2.9209454,2.871612,2.88888,2.7346325,2.6009831,2.7304838,2.8000329,2.806707,2.8450422,2.8272054,-0.063555785,2.778283,2.7252533,2.841313,2.802558,2.8596473,-0.063555785,2.8135371,2.8344204,2.5979564,2.8059096,2.7302473,2.784375,2.8771937,2.85158,-0.063555785,2.8619015,2.8208745,2.658858,2.6451812,1.437103,2.790075,2.833533,2.8154175,2.8488052,2.7247484,2.875708,2.8080313,2.6395144,2.7527595,2.878439,2.7101967,2.8550675,-0.027459579,2.796991,2.7502959,2.877357,2.7869387,2.6401174,2.8946283,2.7817554,2.8388305,2.721525,-0.063555785,2.7769368,2.6167738,2.6887622,2.8557043,2.8251996,2.8092208,2.8081217,2.7537298,2.7733915,2.8547554,2.7612596,2.7082765,2.7694383,1.686842,2.734498,2.5163336,1.6459178,2.7149239,2.7623236,2.82048,2.7882643,2.8457136,2.7554722,1.2088616,2.5220551,2.5841932,2.820825,2.769859,2.76802,2.800989,2.8135242,2.7533479,2.7791486,-0.063555785,2.814965,2.852724,-0.063555785,0.012570442,2.6932075,2.5872495,-2.8318448,2.6866412,2.7171593,2.700575,2.8013773,2.788872,-0.063555785,2.6220944,2.2732718,2.7228737,2.726109,-0.063555785,1.3513677,2.5512023,2.8520637,2.16347,2.793903,2.6908646,2.603672,2.6516693,2.6961985,2.4766047,2.689796,2.0422971,2.86819,2.7373855,2.874999,2.5046487,2.806933,2.8461258,2.7639098,2.531295,2.879064,2.7418292,2.8240008,2.8105936,2.7701378,2.8441315,2.8341022,2.7725854,2.9079525,2.2737155,2.7077389,2.8036761,2.5829482,0.48965082,1.1758293,2.698053,2.7749887,2.8135567,2.845998,2.477024,2.7028816,2.8626668,2.7610314,1.708024,2.8591022,2.8837986,2.8961377,2.6584573,2.8742213,2.8708751,2.4759395,2.8529637,-0.027459579,2.8542538,2.8278594,2.5986762,2.7924123,2.8416421,2.9111128,2.4942906,2.8237824,2.8286767,2.854529,-0.063555785,2.8262818,2.8584094,2.8828278,2.8660975,2.87678,2.9246812,2.859716,2.7998667,2.3345957,2.8849914,-0.063555785,2.878672,2.869385,2.7068033,2.7709591,2.739257,2.7729158,2.884533,2.9093723,0.91308856,2.8551254,2.824269,2.3291354,2.7919533,-0.027459579,-0.063555785,2.8683589,2.744744,2.7485218,2.6559196,2.0725188,2.8266764,2.8211608,2.847781,2.862696,2.6102545,2.7725263,2.8294568,2.888329,2.880019,2.8731966,2.701091,2.8227584,2.8243945,-0.027459579,2.7903469,2.8765395,2.7749887,-0.027459579,2.7643936,2.7508304,2.8081384,2.8836858,2.9313698,2.637124,2.854424,2.837416,2.8506393,2.764215,2.8545008,2.7184598,2.8177836,2.8001792,2.7790387,2.8555813,2.8262997,2.8827703,2.7712345,2.7753077,2.7801003,2.8281653,2.8013577,1.4716005,2.8989599,2.7606766,2.7179506,2.6909742,2.7729635,2.899989,-0.48074752,2.7524984,2.9001925,2.7369375,2.7962863,2.909465,0.735977,2.8666334,2.8080919,1.8741922,2.8190289,2.7962122,2.8517435,2.712542,2.8706698,2.8126142,2.6371088,2.75983,2.7888951,2.730978,2.8072553,2.902813,2.8748894,2.8739371,2.6594083,2.7631197,2.6786914,2.8551483,2.4286096,2.8089914,2.916109,2.5908284,2.928439,2.7873645,2.8880258,2.759655,2.7905672,2.7170932,2.8296347,2.9010317,2.8260386,2.7180054,2.8687549,2.9161851,2.7191894,2.853135,2.8341303,-0.027459579,2.7783022,2.842452,2.8402896,2.6351752,2.891768,2.7384746,2.8441498,2.854969,2.8608472,2.6753635,2.8832886,2.7857,2.6531475,2.8912096,-0.063555785,2.6550589,2.842316,2.8253803,1.6057396,2.8404562,2.7707644,2.655988,2.8790786,2.6323028,2.8624873,-0.027459579,2.8704767,-0.063555785,2.8364515,2.7106085,2.8756673,2.7826586,2.8714252,2.7208123,2.8573074,2.8013184,2.797436,2.8185654,2.5433826,2.77778,2.795089,2.834838,-0.027459579,2.5504534,2.8004208,2.6091192,2.8670282,2.736699,2.782496,2.8320632,2.7991881,2.8531785,2.3562837,2.656623,2.5770202,2.760689,2.848605,2.8040457,2.8438563,2.8757205,2.8942115,2.7522483,2.871957,2.8716347,2.8922682,2.868249,2.796768,2.8965104,0.80448174,2.8971143,2.814937,2.5718644,2.7015295,2.834873,2.799722,2.897996,2.9237761,2.9404128,2.8586671,2.8105202,2.8335757,2.8464353,2.8855727,2.8351834,2.8725448,2.8177924,2.292338,2.909367,2.90684,2.8836207,2.8787014,2.7698956,2.6247754,2.6415434,2.832687,2.4649808,2.8860083,2.748094,2.8607826,2.5453153,2.7838519,2.795435,2.9086347,2.6666915,2.797236,2.8047194,2.9276843,2.808404,2.8711145,2.793536,-0.047088012,2.8699384,2.815966,2.864305,2.7923048,2.8636,2.883063,2.802893,2.7657123,2.8960109,2.7990532,2.719264,2.8534138,2.861578,2.8140824,2.893855,2.73941,2.8409736,2.8811617,2.812482,2.888119,2.7687793,2.7659636,2.7784712,2.7985978,2.8069227,2.7940898,2.8488057,2.7749557,2.7713077,2.8093765,2.7798474,2.7445445,2.6832857,2.8320158,-0.063555785,2.8682494,2.803628,2.8283634,2.8814397,2.8697875,2.781512,2.8564982],\"y0\":\" \",\"yaxis\":\"y\",\"type\":\"box\"},{\"alignmentgroup\":\"True\",\"boxpoints\":\"all\",\"hovertemplate\":\"experiment=%{x}\\u003cbr\\u003ereward=%{y}\\u003cextra\\u003e\\u003c\\u002fextra\\u003e\",\"legendgroup\":\"ipo\",\"marker\":{\"color\":\"goldenrod\"},\"name\":\"ipo\",\"notched\":false,\"offsetgroup\":\"ipo\",\"orientation\":\"v\",\"showlegend\":true,\"x\":[\"ipo\",\"ipo\",\"ipo\",\"ipo\",\"ipo\",\"ipo\",\"ipo\",\"ipo\",\"ipo\",\"ipo\",\"ipo\",\"ipo\",\"ipo\",\"ipo\",\"ipo\",\"ipo\",\"ipo\",\"ipo\",\"ipo\",\"ipo\",\"ipo\",\"ipo\",\"ipo\",\"ipo\",\"ipo\",\"ipo\",\"ipo\",\"ipo\",\"ipo\",\"ipo\",\"ipo\",\"ipo\",\"ipo\",\"ipo\",\"ipo\",\"ipo\",\"ipo\",\"ipo\",\"ipo\",\"ipo\",\"ipo\",\"ipo\",\"ipo\",\"ipo\",\"ipo\",\"ipo\",\"ipo\",\"ipo\",\"ipo\",\"ipo\",\"ipo\",\"ipo\",\"ipo\",\"ipo\",\"ipo\",\"ipo\",\"ipo\",\"ipo\",\"ipo\",\"ipo\",\"ipo\",\"ipo\",\"ipo\",\"ipo\",\"ipo\",\"ipo\",\"ipo\",\"ipo\",\"ipo\",\"ipo\",\"ipo\",\"ipo\",\"ipo\",\"ipo\",\"ipo\",\"ipo\",\"ipo\",\"ipo\",\"ipo\",\"ipo\",\"ipo\",\"ipo\",\"ipo\",\"ipo\",\"ipo\",\"ipo\",\"ipo\",\"ipo\",\"ipo\",\"ipo\",\"ipo\",\"ipo\",\"ipo\",\"ipo\",\"ipo\",\"ipo\",\"ipo\",\"ipo\",\"ipo\",\"ipo\",\"ipo\",\"ipo\",\"ipo\",\"ipo\",\"ipo\",\"ipo\",\"ipo\",\"ipo\",\"ipo\",\"ipo\",\"ipo\",\"ipo\",\"ipo\",\"ipo\",\"ipo\",\"ipo\",\"ipo\",\"ipo\",\"ipo\",\"ipo\",\"ipo\",\"ipo\",\"ipo\",\"ipo\",\"ipo\",\"ipo\",\"ipo\",\"ipo\",\"ipo\",\"ipo\",\"ipo\",\"ipo\",\"ipo\",\"ipo\",\"ipo\",\"ipo\",\"ipo\",\"ipo\",\"ipo\",\"ipo\",\"ipo\",\"ipo\",\"ipo\",\"ipo\",\"ipo\",\"ipo\",\"ipo\",\"ipo\",\"ipo\",\"ipo\",\"ipo\",\"ipo\",\"ipo\",\"ipo\",\"ipo\",\"ipo\",\"ipo\",\"ipo\",\"ipo\",\"ipo\",\"ipo\",\"ipo\",\"ipo\",\"ipo\",\"ipo\",\"ipo\",\"ipo\",\"ipo\",\"ipo\",\"ipo\",\"ipo\",\"ipo\",\"ipo\",\"ipo\",\"ipo\",\"ipo\",\"ipo\",\"ipo\",\"ipo\",\"ipo\",\"ipo\",\"ipo\",\"ipo\",\"ipo\",\"ipo\",\"ipo\",\"ipo\",\"ipo\",\"ipo\",\"ipo\",\"ipo\",\"ipo\",\"ipo\",\"ipo\",\"ipo\",\"ipo\",\"ipo\",\"ipo\",\"ipo\",\"ipo\",\"ipo\",\"ipo\",\"ipo\",\"ipo\",\"ipo\",\"ipo\",\"ipo\",\"ipo\",\"ipo\",\"ipo\",\"ipo\",\"ipo\",\"ipo\",\"ipo\",\"ipo\",\"ipo\",\"ipo\",\"ipo\",\"ipo\",\"ipo\",\"ipo\",\"ipo\",\"ipo\",\"ipo\",\"ipo\",\"ipo\",\"ipo\",\"ipo\",\"ipo\",\"ipo\",\"ipo\",\"ipo\",\"ipo\",\"ipo\",\"ipo\",\"ipo\",\"ipo\",\"ipo\",\"ipo\",\"ipo\",\"ipo\",\"ipo\",\"ipo\",\"ipo\",\"ipo\",\"ipo\",\"ipo\",\"ipo\",\"ipo\",\"ipo\",\"ipo\",\"ipo\",\"ipo\",\"ipo\",\"ipo\",\"ipo\",\"ipo\",\"ipo\",\"ipo\",\"ipo\",\"ipo\",\"ipo\",\"ipo\",\"ipo\",\"ipo\",\"ipo\",\"ipo\",\"ipo\",\"ipo\",\"ipo\",\"ipo\",\"ipo\",\"ipo\",\"ipo\",\"ipo\",\"ipo\",\"ipo\",\"ipo\",\"ipo\",\"ipo\",\"ipo\",\"ipo\",\"ipo\",\"ipo\",\"ipo\",\"ipo\",\"ipo\",\"ipo\",\"ipo\",\"ipo\",\"ipo\",\"ipo\",\"ipo\",\"ipo\",\"ipo\",\"ipo\",\"ipo\",\"ipo\",\"ipo\",\"ipo\",\"ipo\",\"ipo\",\"ipo\",\"ipo\",\"ipo\",\"ipo\",\"ipo\",\"ipo\",\"ipo\",\"ipo\",\"ipo\",\"ipo\",\"ipo\",\"ipo\",\"ipo\",\"ipo\",\"ipo\",\"ipo\",\"ipo\",\"ipo\",\"ipo\",\"ipo\",\"ipo\",\"ipo\",\"ipo\",\"ipo\",\"ipo\",\"ipo\",\"ipo\",\"ipo\",\"ipo\",\"ipo\",\"ipo\",\"ipo\",\"ipo\",\"ipo\",\"ipo\",\"ipo\",\"ipo\",\"ipo\",\"ipo\",\"ipo\",\"ipo\",\"ipo\",\"ipo\",\"ipo\",\"ipo\",\"ipo\",\"ipo\",\"ipo\",\"ipo\",\"ipo\",\"ipo\",\"ipo\",\"ipo\",\"ipo\",\"ipo\",\"ipo\",\"ipo\",\"ipo\",\"ipo\",\"ipo\",\"ipo\",\"ipo\",\"ipo\",\"ipo\",\"ipo\",\"ipo\",\"ipo\",\"ipo\",\"ipo\",\"ipo\",\"ipo\",\"ipo\",\"ipo\",\"ipo\",\"ipo\",\"ipo\",\"ipo\",\"ipo\",\"ipo\",\"ipo\",\"ipo\",\"ipo\",\"ipo\",\"ipo\",\"ipo\",\"ipo\",\"ipo\",\"ipo\",\"ipo\",\"ipo\",\"ipo\",\"ipo\",\"ipo\",\"ipo\",\"ipo\",\"ipo\",\"ipo\",\"ipo\",\"ipo\",\"ipo\",\"ipo\",\"ipo\",\"ipo\",\"ipo\",\"ipo\",\"ipo\",\"ipo\",\"ipo\",\"ipo\",\"ipo\",\"ipo\",\"ipo\",\"ipo\",\"ipo\",\"ipo\",\"ipo\",\"ipo\",\"ipo\",\"ipo\",\"ipo\",\"ipo\",\"ipo\",\"ipo\",\"ipo\",\"ipo\",\"ipo\",\"ipo\",\"ipo\",\"ipo\",\"ipo\",\"ipo\",\"ipo\",\"ipo\",\"ipo\",\"ipo\",\"ipo\",\"ipo\",\"ipo\",\"ipo\",\"ipo\",\"ipo\",\"ipo\",\"ipo\",\"ipo\",\"ipo\",\"ipo\",\"ipo\",\"ipo\",\"ipo\",\"ipo\",\"ipo\",\"ipo\",\"ipo\",\"ipo\",\"ipo\",\"ipo\",\"ipo\",\"ipo\",\"ipo\",\"ipo\",\"ipo\",\"ipo\",\"ipo\",\"ipo\",\"ipo\",\"ipo\",\"ipo\",\"ipo\",\"ipo\",\"ipo\",\"ipo\",\"ipo\",\"ipo\",\"ipo\",\"ipo\",\"ipo\",\"ipo\",\"ipo\",\"ipo\",\"ipo\",\"ipo\",\"ipo\",\"ipo\",\"ipo\",\"ipo\",\"ipo\",\"ipo\",\"ipo\",\"ipo\",\"ipo\",\"ipo\",\"ipo\",\"ipo\",\"ipo\",\"ipo\",\"ipo\",\"ipo\",\"ipo\"],\"x0\":\" \",\"xaxis\":\"x\",\"y\":[2.8060775,2.909248,2.823102,2.5255182,2.2162855,2.8572063,2.8152757,2.833876,2.7084415,2.7886014,2.7915316,2.864767,2.8554525,2.8662484,2.6081197,2.7883182,2.8842778,2.8350465,2.7984629,2.794787,2.6848288,2.867038,2.7445936,2.830863,2.8364162,2.7462668,2.7171621,2.7588491,2.8509986,2.863327,2.8307092,2.8455892,2.7081594,2.8359292,2.7587712,2.8404403,2.8791258,2.7368963,2.7335799,2.7660217,2.893522,2.69494,2.7844841,2.8442726,2.9240649,2.835663,2.8900797,2.864257,2.8685732,0.5013448,2.7476044,2.8485374,2.734104,2.8502665,-0.027459579,-0.027459579,2.887282,2.900516,2.8945594,2.827887,2.7811937,1.9455495,2.6001096,-2.2162347,2.725811,2.819991,2.316266,2.8501189,2.8316195,2.208008,-0.027459579,2.1890461,2.7928948,2.865429,2.8305264,2.6880708,2.791602,2.8782802,2.8761935,2.7164035,2.7967577,2.6646461,2.8648186,2.8993678,2.646253,2.8481054,2.720387,2.8289733,2.6100755,2.7270734,2.901072,2.7584457,2.7229054,2.9020452,2.848752,-0.063555785,2.8188965,2.9198728,2.833167,2.6008377,2.1778867,2.8458016,2.7070937,2.8254619,2.2513156,2.809558,2.6386027,1.7333336,2.6351194,-0.047088012,2.737276,2.5651708,-0.23563012,2.7191331,2.7840307,2.7428129,2.9030356,-0.027459579,2.804825,2.8843393,2.766022,2.7784712,2.7571788,2.7296402,2.8366723,2.7445936,2.796847,2.6660638,2.8115377,2.4374244,2.6746101,2.8049679,-0.027459579,2.703517,-0.027459579,2.836188,2.8642914,2.5088582,-0.027459579,1.1882854,2.5852427,2.851774,2.6850626,2.6661606,2.4350307,2.733601,1.7170519,2.7712142,2.834375,2.6972466,2.6166563,2.7756262,2.669851,2.8125107,2.6692102,2.7760394,2.7717514,1.9364024,2.3971996,-0.063555785,-0.063555785,2.8404493,2.8353755,2.7689977,-0.063555785,2.7549758,-0.063555785,2.8907752,2.4245663,2.8643284,2.8135242,2.5252264,2.8766165,-0.027459579,2.7034771,-0.063555785,2.8558438,2.864274,2.7777364,2.687927,2.622835,2.466087,2.0173464,2.6633847,2.154798,2.688947,2.823183,-0.027459579,2.567324,-0.027459579,2.8619843,2.805431,2.5803406,2.4208715,2.7756262,2.70776,2.3777077,0.5416541,2.532235,2.6392062,1.046506,2.8378065,2.473053,2.7232358,2.3841362,2.8154106,2.8009734,-0.063555785,2.6853976,-0.027459579,2.8469899,2.8321853,2.6800447,2.8191996,2.0902288,-0.063555785,2.641959,2.372603,1.9867368,2.744153,2.686557,2.2585948,2.8778522,-0.063555785,2.7178326,1.2571042,2.8821821,-0.027459579,-0.063555785,-0.063555785,-0.063555785,2.6945417,1.1115645,2.6314247,2.850135,-0.027459579,2.4454103,2.6527886,2.8959816,2.0368884,2.8694892,0.522582,2.7883463,2.7532117,0.77483404,2.874676,2.7841456,2.6094787,2.7021163,2.769652,2.8450906,-0.027459579,0.6890803,2.6357596,2.7760394,2.8482013,2.6837258,2.7803695,2.716977,2.400783,2.58592,2.7154624,2.752276,2.65863,2.6997433,2.705043,2.648981,2.7128878,-0.063555785,2.7915995,0.95001644,-0.6324326,2.7518709,2.8723354,2.821354,2.7805238,0.5080871,1.8176935,2.8362856,2.8635252,2.740968,2.7198048,2.8376293,-0.063555785,-0.063555785,-0.027459579,2.7744794,2.7200284,2.2617443,2.8975348,-0.027459579,-0.027459579,-0.063555785,1.0930898,-0.027459579,2.7561955,2.3488512,2.700041,-1.771639,2.134297,-0.027459579,2.736085,2.8727994,2.6594083,2.779353,2.7976213,2.6321857,2.6323822,2.8137372,2.4219444,2.7145379,2.653586,2.7705014,2.8703213,2.8863738,2.8870308,2.660082,2.7016592,2.6909122,2.8021898,2.8621066,2.8003767,2.8698318,2.7341397,2.757026,-1.2584231,2.7003458,-0.063555785,2.8865843,2.8877897,2.8540952,2.848349,2.649671,1.1681142,2.0574174,2.855637,2.8374033,2.843352,2.8412774,2.8454702,2.899863,-0.063555785,2.8000767,2.8950253,-0.027459579,2.7801175,2.7979784,2.7048333,-0.027459579,2.7903075,2.8131034,2.8627474,2.824946,2.7322726,2.8696117,2.8329155,2.8829646,2.7460423,2.8555593,2.835852,2.8061347,2.8081336,2.842533,2.842689,2.9110827,2.8413496,2.8250046,1.8289146,2.8668778,2.8614802,2.7833164,2.8688455,2.9076552,2.2510417,2.849124,2.7460532,2.9030201,2.8389251,2.755175,2.553762,2.8776608,2.8413103,2.718871,2.7171016,2.8482027,2.8807232,2.8827384,2.8536272,2.7707748,2.591988,2.843185,2.3408651,2.6191952,-0.063555785,2.772651,2.8023074,2.867847,2.8777149,2.8758428,1.831001,2.8228261,2.7513773,2.8808177,2.7427204,2.8148887,2.8806503,1.6969,2.859272,2.9105752,2.8507817,2.7800632,2.8228679,2.587081,2.8487954,2.8280797,2.698494,2.7907324,2.8464205,2.8348298,2.8745565,2.8917775,2.8830051,2.865644,2.7904773,2.74693,2.877489,2.764756,2.8765416,2.8053434,2.901982,2.8827274,2.7554917,0.5455085,2.8883076,2.7182617,-0.027459579,2.8210268,2.539118,2.628716,1.9624643,2.760722,2.9283383,2.9004858,2.8108172,2.5780523,2.011118,2.886954,2.4275734,2.737032,2.6508846,-0.027459579,2.8685725,2.6934147,2.8155074,0.7747042,2.8875883,2.8947656,2.778392,2.7225704,2.7166739,2.8047194,2.7032537,2.7921863,2.7954578,2.8668892,2.8804314,2.7495804,2.8859863,2.6674986,-0.063555785,2.7302473,2.8636906,0.098218136,2.6138468,2.6859558,2.8419795,2.8032012,2.4851737,2.8075516,2.81701,2.7759788,2.8060937,2.872439,2.7870111,2.8675482,2.5568972,2.7518709,2.755557,2.665327,2.7894542,2.734477,2.8929253,1.4842495,2.8389237,2.89024,2.7749887,2.2867274,2.8549252,2.7252367,2.791987],\"y0\":\" \",\"yaxis\":\"y\",\"type\":\"box\"},{\"alignmentgroup\":\"True\",\"boxpoints\":\"all\",\"hovertemplate\":\"experiment=%{x}\\u003cbr\\u003ereward=%{y}\\u003cextra\\u003e\\u003c\\u002fextra\\u003e\",\"legendgroup\":\"kto\",\"marker\":{\"color\":\"darkgreen\"},\"name\":\"kto\",\"notched\":false,\"offsetgroup\":\"kto\",\"orientation\":\"v\",\"showlegend\":true,\"x\":[\"kto\",\"kto\",\"kto\",\"kto\",\"kto\",\"kto\",\"kto\",\"kto\",\"kto\",\"kto\",\"kto\",\"kto\",\"kto\",\"kto\",\"kto\",\"kto\",\"kto\",\"kto\",\"kto\",\"kto\",\"kto\",\"kto\",\"kto\",\"kto\",\"kto\",\"kto\",\"kto\",\"kto\",\"kto\",\"kto\",\"kto\",\"kto\",\"kto\",\"kto\",\"kto\",\"kto\",\"kto\",\"kto\",\"kto\",\"kto\",\"kto\",\"kto\",\"kto\",\"kto\",\"kto\",\"kto\",\"kto\",\"kto\",\"kto\",\"kto\",\"kto\",\"kto\",\"kto\",\"kto\",\"kto\",\"kto\",\"kto\",\"kto\",\"kto\",\"kto\",\"kto\",\"kto\",\"kto\",\"kto\",\"kto\",\"kto\",\"kto\",\"kto\",\"kto\",\"kto\",\"kto\",\"kto\",\"kto\",\"kto\",\"kto\",\"kto\",\"kto\",\"kto\",\"kto\",\"kto\",\"kto\",\"kto\",\"kto\",\"kto\",\"kto\",\"kto\",\"kto\",\"kto\",\"kto\",\"kto\",\"kto\",\"kto\",\"kto\",\"kto\",\"kto\",\"kto\",\"kto\",\"kto\",\"kto\",\"kto\",\"kto\",\"kto\",\"kto\",\"kto\",\"kto\",\"kto\",\"kto\",\"kto\",\"kto\",\"kto\",\"kto\",\"kto\",\"kto\",\"kto\",\"kto\",\"kto\",\"kto\",\"kto\",\"kto\",\"kto\",\"kto\",\"kto\",\"kto\",\"kto\",\"kto\",\"kto\",\"kto\",\"kto\",\"kto\",\"kto\",\"kto\",\"kto\",\"kto\",\"kto\",\"kto\",\"kto\",\"kto\",\"kto\",\"kto\",\"kto\",\"kto\",\"kto\",\"kto\",\"kto\",\"kto\",\"kto\",\"kto\",\"kto\",\"kto\",\"kto\",\"kto\",\"kto\",\"kto\",\"kto\",\"kto\",\"kto\",\"kto\",\"kto\",\"kto\",\"kto\",\"kto\",\"kto\",\"kto\",\"kto\",\"kto\",\"kto\",\"kto\",\"kto\",\"kto\",\"kto\",\"kto\",\"kto\",\"kto\",\"kto\",\"kto\",\"kto\",\"kto\",\"kto\",\"kto\",\"kto\",\"kto\",\"kto\",\"kto\",\"kto\",\"kto\",\"kto\",\"kto\",\"kto\",\"kto\",\"kto\",\"kto\",\"kto\",\"kto\",\"kto\",\"kto\",\"kto\",\"kto\",\"kto\",\"kto\",\"kto\",\"kto\",\"kto\",\"kto\",\"kto\",\"kto\",\"kto\",\"kto\",\"kto\",\"kto\",\"kto\",\"kto\",\"kto\",\"kto\",\"kto\",\"kto\",\"kto\",\"kto\",\"kto\",\"kto\",\"kto\",\"kto\",\"kto\",\"kto\",\"kto\",\"kto\",\"kto\",\"kto\",\"kto\",\"kto\",\"kto\",\"kto\",\"kto\",\"kto\",\"kto\",\"kto\",\"kto\",\"kto\",\"kto\",\"kto\",\"kto\",\"kto\",\"kto\",\"kto\",\"kto\",\"kto\",\"kto\",\"kto\",\"kto\",\"kto\",\"kto\",\"kto\",\"kto\",\"kto\",\"kto\",\"kto\",\"kto\",\"kto\",\"kto\",\"kto\",\"kto\",\"kto\",\"kto\",\"kto\",\"kto\",\"kto\",\"kto\",\"kto\",\"kto\",\"kto\",\"kto\",\"kto\",\"kto\",\"kto\",\"kto\",\"kto\",\"kto\",\"kto\",\"kto\",\"kto\",\"kto\",\"kto\",\"kto\",\"kto\",\"kto\",\"kto\",\"kto\",\"kto\",\"kto\",\"kto\",\"kto\",\"kto\",\"kto\",\"kto\",\"kto\",\"kto\",\"kto\",\"kto\",\"kto\",\"kto\",\"kto\",\"kto\",\"kto\",\"kto\",\"kto\",\"kto\",\"kto\",\"kto\",\"kto\",\"kto\",\"kto\",\"kto\",\"kto\",\"kto\",\"kto\",\"kto\",\"kto\",\"kto\",\"kto\",\"kto\",\"kto\",\"kto\",\"kto\",\"kto\",\"kto\",\"kto\",\"kto\",\"kto\",\"kto\",\"kto\",\"kto\",\"kto\",\"kto\",\"kto\",\"kto\",\"kto\",\"kto\",\"kto\",\"kto\",\"kto\",\"kto\",\"kto\",\"kto\",\"kto\",\"kto\",\"kto\",\"kto\",\"kto\",\"kto\",\"kto\",\"kto\",\"kto\",\"kto\",\"kto\",\"kto\",\"kto\",\"kto\",\"kto\",\"kto\",\"kto\",\"kto\",\"kto\",\"kto\",\"kto\",\"kto\",\"kto\",\"kto\",\"kto\",\"kto\",\"kto\",\"kto\",\"kto\",\"kto\",\"kto\",\"kto\",\"kto\",\"kto\",\"kto\",\"kto\",\"kto\",\"kto\",\"kto\",\"kto\",\"kto\",\"kto\",\"kto\",\"kto\",\"kto\",\"kto\",\"kto\",\"kto\",\"kto\",\"kto\",\"kto\",\"kto\",\"kto\",\"kto\",\"kto\",\"kto\",\"kto\",\"kto\",\"kto\",\"kto\",\"kto\",\"kto\",\"kto\",\"kto\",\"kto\",\"kto\",\"kto\",\"kto\",\"kto\",\"kto\",\"kto\",\"kto\",\"kto\",\"kto\",\"kto\",\"kto\",\"kto\",\"kto\",\"kto\",\"kto\",\"kto\",\"kto\",\"kto\",\"kto\",\"kto\",\"kto\",\"kto\",\"kto\",\"kto\",\"kto\",\"kto\",\"kto\",\"kto\",\"kto\",\"kto\",\"kto\",\"kto\",\"kto\",\"kto\",\"kto\",\"kto\",\"kto\",\"kto\",\"kto\",\"kto\",\"kto\",\"kto\",\"kto\",\"kto\",\"kto\",\"kto\",\"kto\",\"kto\",\"kto\",\"kto\",\"kto\",\"kto\",\"kto\",\"kto\",\"kto\",\"kto\",\"kto\",\"kto\",\"kto\",\"kto\",\"kto\",\"kto\",\"kto\",\"kto\",\"kto\",\"kto\",\"kto\",\"kto\",\"kto\",\"kto\",\"kto\",\"kto\",\"kto\",\"kto\",\"kto\",\"kto\",\"kto\",\"kto\",\"kto\",\"kto\",\"kto\",\"kto\",\"kto\",\"kto\",\"kto\",\"kto\",\"kto\",\"kto\",\"kto\",\"kto\",\"kto\",\"kto\",\"kto\"],\"x0\":\" \",\"xaxis\":\"x\",\"y\":[2.8060775,2.909248,2.823102,2.5255182,2.2162855,2.8572063,2.8152757,2.833876,2.7084415,2.7886014,2.7915316,2.864767,2.8554525,2.8662484,2.6081197,2.7883182,2.8842778,2.8350465,2.7984629,2.794787,2.6848288,2.867038,2.7445936,2.830863,2.8364162,2.7462668,2.7171621,2.7588491,2.8509986,2.863327,2.8307092,2.8455892,2.7081594,2.8359292,2.7587712,2.8404403,2.8791258,2.7368963,2.7335799,2.7660217,2.893522,2.69494,2.7844841,2.8442726,2.9240649,2.835663,2.8900797,2.864257,2.8685732,0.5013448,2.7476044,2.8485374,2.734104,2.8502665,-0.027459579,-0.027459579,2.887282,2.900516,2.8945594,2.827887,2.7811937,1.9455495,2.6001096,-2.2162347,2.725811,2.819991,2.316266,2.8501189,2.8316195,2.208008,-0.027459579,2.1890461,2.7928948,2.865429,2.8305264,2.6880708,2.791602,2.8782802,2.8761935,2.7164035,2.7967577,2.6646461,2.8648186,2.8993678,2.646253,2.8481054,2.720387,2.8289733,2.6100755,2.7270734,2.901072,2.7584457,2.7229054,2.9020452,2.848752,-0.063555785,2.8188965,2.9198728,2.833167,2.6008377,2.1778867,2.8458016,2.7070937,2.8254619,2.2513156,2.809558,2.6386027,1.7333336,2.6351194,-0.047088012,2.737276,2.5651708,-0.23563012,2.7191331,2.7840307,2.7428129,2.9030356,-0.027459579,2.804825,2.8843393,2.766022,2.7784712,2.7571788,2.7296402,2.8366723,2.7445936,2.796847,2.6660638,2.8115377,2.4374244,2.6746101,2.8049679,-0.027459579,2.703517,-0.027459579,2.836188,2.8642914,2.5088582,-0.027459579,1.1882854,2.5852427,2.851774,2.6850626,2.6661606,2.4350307,2.733601,1.7170519,2.7712142,2.834375,2.6972466,2.6166563,2.7756262,2.669851,2.8125107,2.6692102,2.7760394,2.7717514,1.9364024,2.3971996,-0.063555785,-0.063555785,2.8404493,2.8353755,2.7689977,-0.063555785,2.7549758,-0.063555785,2.8907752,2.4245663,2.8643284,2.8135242,2.5252264,2.8766165,-0.027459579,2.7034771,-0.063555785,2.8558438,2.864274,2.7777364,2.687927,2.622835,2.466087,2.0173464,2.6633847,2.154798,2.688947,2.823183,-0.027459579,2.567324,-0.027459579,2.8619843,2.805431,2.5803406,2.4208715,2.7756262,2.70776,2.3777077,0.5416541,2.532235,2.6392062,2.8060775,2.909248,2.823102,2.5255182,2.2162855,2.8572063,2.8152757,2.833876,2.7084415,2.7886014,2.7915316,2.864767,2.8554525,2.8662484,2.6081197,2.7883182,2.8842778,2.8350465,2.7984629,2.794787,2.6848288,2.867038,2.7445936,2.830863,2.8364162,2.7462668,2.7171621,2.7588491,2.8509986,2.863327,2.8307092,2.8455892,2.7081594,2.8359292,2.7587712,2.8404403,2.8791258,2.7368963,2.7335799,2.7660217,2.893522,2.69494,2.7844841,2.8442726,2.9240649,2.835663,2.8900797,2.864257,2.8685732,0.5013448,2.7476044,2.8485374,2.734104,2.8502665,-0.027459579,-0.027459579,2.887282,2.900516,2.8945594,2.827887,2.7811937,1.9455495,2.6001096,-2.2162347,2.725811,2.819991,2.316266,2.8501189,2.8316195,2.208008,-0.027459579,2.1890461,2.7928948,2.865429,2.8305264,2.6880708,2.791602,2.8782802,2.8761935,2.7164035,2.7967577,2.6646461,2.8648186,2.8993678,2.646253,2.8481054,2.720387,2.8289733,2.6100755,2.7270734,2.901072,2.7584457,2.7229054,2.9020452,2.848752,-0.063555785,2.8188965,2.9198728,2.833167,2.6008377,2.1778867,2.8458016,2.7070937,2.8254619,2.2513156,2.809558,2.6386027,1.7333336,2.6351194,-0.047088012,2.737276,2.5651708,-0.23563012,2.7191331,2.7840307,2.7428129,2.9030356,-0.027459579,2.804825,2.8843393,2.766022,2.7784712,2.7571788,2.7296402,2.8366723,2.7445936,2.796847,2.6660638,2.8115377,2.4374244,2.6746101,2.8049679,-0.027459579,2.703517,-0.027459579,2.836188,2.8642914,2.5088582,-0.027459579,1.1882854,2.5852427,2.851774,2.6850626,2.6661606,2.4350307,2.733601,1.7170519,2.7712142,2.834375,2.6972466,2.6166563,2.7756262,2.669851,2.8125107,2.6692102,2.7760394,2.7717514,1.9364024,2.3971996,-0.063555785,-0.063555785,2.8404493,2.8353755,2.7689977,-0.063555785,2.7549758,-0.063555785,2.8907752,2.4245663,2.8643284,2.8135242,2.5252264,2.8766165,-0.027459579,2.7034771,-0.063555785,2.8558438,2.864274,2.7777364,2.687927,2.622835,2.466087,2.0173464,2.6633847,2.154798,2.688947,2.823183,-0.027459579,2.567324,-0.027459579,2.8619843,2.805431,2.5803406,2.4208715,2.7756262,2.70776,2.3777077,0.5416541,2.532235,2.6392062,1.046506,2.8378065,2.473053,2.7232358,2.3841362,2.8154106,2.8009734,-0.063555785,2.6853976,-0.027459579,2.8469899,2.8321853,2.6800447,2.8191996,2.0902288,-0.063555785,2.641959,2.372603,1.9867368,2.744153,2.686557,2.2585948,2.8778522,-0.063555785,2.7178326,1.2571042,2.8821821,-0.027459579,-0.063555785,-0.063555785,-0.063555785,2.6945417,1.1115645,2.6314247,2.850135,-0.027459579,2.4454103,2.6527886,2.8959816,2.0368884,2.8694892,0.522582,2.7883463,2.7532117,0.77483404,2.874676,2.7841456,2.6094787,2.7021163,2.769652,2.8450906,-0.027459579,0.6890803,2.6357596,2.7760394,2.8482013,2.6837258,2.7803695,2.716977,2.400783,2.58592,2.7154624,2.752276,2.65863,2.6997433,2.705043,2.648981,2.7128878,-0.063555785,2.7915995,0.95001644,-0.6324326,2.7518709,2.8723354,2.821354,2.7805238,0.5080871,1.8176935,2.8362856,2.8635252,2.740968,2.7198048,2.8376293,-0.063555785,-0.063555785,-0.027459579,2.7744794,2.7200284,2.2617443,2.8975348,-0.027459579,-0.027459579,-0.063555785,1.0930898,-0.027459579,2.7561955,2.3488512,2.700041,-1.771639,2.134297],\"y0\":\" \",\"yaxis\":\"y\",\"type\":\"box\"}],                        {\"template\":{\"data\":{\"histogram2dcontour\":[{\"type\":\"histogram2dcontour\",\"colorbar\":{\"outlinewidth\":0,\"ticks\":\"\"},\"colorscale\":[[0.0,\"#0d0887\"],[0.1111111111111111,\"#46039f\"],[0.2222222222222222,\"#7201a8\"],[0.3333333333333333,\"#9c179e\"],[0.4444444444444444,\"#bd3786\"],[0.5555555555555556,\"#d8576b\"],[0.6666666666666666,\"#ed7953\"],[0.7777777777777778,\"#fb9f3a\"],[0.8888888888888888,\"#fdca26\"],[1.0,\"#f0f921\"]]}],\"choropleth\":[{\"type\":\"choropleth\",\"colorbar\":{\"outlinewidth\":0,\"ticks\":\"\"}}],\"histogram2d\":[{\"type\":\"histogram2d\",\"colorbar\":{\"outlinewidth\":0,\"ticks\":\"\"},\"colorscale\":[[0.0,\"#0d0887\"],[0.1111111111111111,\"#46039f\"],[0.2222222222222222,\"#7201a8\"],[0.3333333333333333,\"#9c179e\"],[0.4444444444444444,\"#bd3786\"],[0.5555555555555556,\"#d8576b\"],[0.6666666666666666,\"#ed7953\"],[0.7777777777777778,\"#fb9f3a\"],[0.8888888888888888,\"#fdca26\"],[1.0,\"#f0f921\"]]}],\"heatmap\":[{\"type\":\"heatmap\",\"colorbar\":{\"outlinewidth\":0,\"ticks\":\"\"},\"colorscale\":[[0.0,\"#0d0887\"],[0.1111111111111111,\"#46039f\"],[0.2222222222222222,\"#7201a8\"],[0.3333333333333333,\"#9c179e\"],[0.4444444444444444,\"#bd3786\"],[0.5555555555555556,\"#d8576b\"],[0.6666666666666666,\"#ed7953\"],[0.7777777777777778,\"#fb9f3a\"],[0.8888888888888888,\"#fdca26\"],[1.0,\"#f0f921\"]]}],\"heatmapgl\":[{\"type\":\"heatmapgl\",\"colorbar\":{\"outlinewidth\":0,\"ticks\":\"\"},\"colorscale\":[[0.0,\"#0d0887\"],[0.1111111111111111,\"#46039f\"],[0.2222222222222222,\"#7201a8\"],[0.3333333333333333,\"#9c179e\"],[0.4444444444444444,\"#bd3786\"],[0.5555555555555556,\"#d8576b\"],[0.6666666666666666,\"#ed7953\"],[0.7777777777777778,\"#fb9f3a\"],[0.8888888888888888,\"#fdca26\"],[1.0,\"#f0f921\"]]}],\"contourcarpet\":[{\"type\":\"contourcarpet\",\"colorbar\":{\"outlinewidth\":0,\"ticks\":\"\"}}],\"contour\":[{\"type\":\"contour\",\"colorbar\":{\"outlinewidth\":0,\"ticks\":\"\"},\"colorscale\":[[0.0,\"#0d0887\"],[0.1111111111111111,\"#46039f\"],[0.2222222222222222,\"#7201a8\"],[0.3333333333333333,\"#9c179e\"],[0.4444444444444444,\"#bd3786\"],[0.5555555555555556,\"#d8576b\"],[0.6666666666666666,\"#ed7953\"],[0.7777777777777778,\"#fb9f3a\"],[0.8888888888888888,\"#fdca26\"],[1.0,\"#f0f921\"]]}],\"surface\":[{\"type\":\"surface\",\"colorbar\":{\"outlinewidth\":0,\"ticks\":\"\"},\"colorscale\":[[0.0,\"#0d0887\"],[0.1111111111111111,\"#46039f\"],[0.2222222222222222,\"#7201a8\"],[0.3333333333333333,\"#9c179e\"],[0.4444444444444444,\"#bd3786\"],[0.5555555555555556,\"#d8576b\"],[0.6666666666666666,\"#ed7953\"],[0.7777777777777778,\"#fb9f3a\"],[0.8888888888888888,\"#fdca26\"],[1.0,\"#f0f921\"]]}],\"mesh3d\":[{\"type\":\"mesh3d\",\"colorbar\":{\"outlinewidth\":0,\"ticks\":\"\"}}],\"scatter\":[{\"fillpattern\":{\"fillmode\":\"overlay\",\"size\":10,\"solidity\":0.2},\"type\":\"scatter\"}],\"parcoords\":[{\"type\":\"parcoords\",\"line\":{\"colorbar\":{\"outlinewidth\":0,\"ticks\":\"\"}}}],\"scatterpolargl\":[{\"type\":\"scatterpolargl\",\"marker\":{\"colorbar\":{\"outlinewidth\":0,\"ticks\":\"\"}}}],\"bar\":[{\"error_x\":{\"color\":\"#2a3f5f\"},\"error_y\":{\"color\":\"#2a3f5f\"},\"marker\":{\"line\":{\"color\":\"#E5ECF6\",\"width\":0.5},\"pattern\":{\"fillmode\":\"overlay\",\"size\":10,\"solidity\":0.2}},\"type\":\"bar\"}],\"scattergeo\":[{\"type\":\"scattergeo\",\"marker\":{\"colorbar\":{\"outlinewidth\":0,\"ticks\":\"\"}}}],\"scatterpolar\":[{\"type\":\"scatterpolar\",\"marker\":{\"colorbar\":{\"outlinewidth\":0,\"ticks\":\"\"}}}],\"histogram\":[{\"marker\":{\"pattern\":{\"fillmode\":\"overlay\",\"size\":10,\"solidity\":0.2}},\"type\":\"histogram\"}],\"scattergl\":[{\"type\":\"scattergl\",\"marker\":{\"colorbar\":{\"outlinewidth\":0,\"ticks\":\"\"}}}],\"scatter3d\":[{\"type\":\"scatter3d\",\"line\":{\"colorbar\":{\"outlinewidth\":0,\"ticks\":\"\"}},\"marker\":{\"colorbar\":{\"outlinewidth\":0,\"ticks\":\"\"}}}],\"scattermapbox\":[{\"type\":\"scattermapbox\",\"marker\":{\"colorbar\":{\"outlinewidth\":0,\"ticks\":\"\"}}}],\"scatterternary\":[{\"type\":\"scatterternary\",\"marker\":{\"colorbar\":{\"outlinewidth\":0,\"ticks\":\"\"}}}],\"scattercarpet\":[{\"type\":\"scattercarpet\",\"marker\":{\"colorbar\":{\"outlinewidth\":0,\"ticks\":\"\"}}}],\"carpet\":[{\"aaxis\":{\"endlinecolor\":\"#2a3f5f\",\"gridcolor\":\"white\",\"linecolor\":\"white\",\"minorgridcolor\":\"white\",\"startlinecolor\":\"#2a3f5f\"},\"baxis\":{\"endlinecolor\":\"#2a3f5f\",\"gridcolor\":\"white\",\"linecolor\":\"white\",\"minorgridcolor\":\"white\",\"startlinecolor\":\"#2a3f5f\"},\"type\":\"carpet\"}],\"table\":[{\"cells\":{\"fill\":{\"color\":\"#EBF0F8\"},\"line\":{\"color\":\"white\"}},\"header\":{\"fill\":{\"color\":\"#C8D4E3\"},\"line\":{\"color\":\"white\"}},\"type\":\"table\"}],\"barpolar\":[{\"marker\":{\"line\":{\"color\":\"#E5ECF6\",\"width\":0.5},\"pattern\":{\"fillmode\":\"overlay\",\"size\":10,\"solidity\":0.2}},\"type\":\"barpolar\"}],\"pie\":[{\"automargin\":true,\"type\":\"pie\"}]},\"layout\":{\"autotypenumbers\":\"strict\",\"colorway\":[\"#636efa\",\"#EF553B\",\"#00cc96\",\"#ab63fa\",\"#FFA15A\",\"#19d3f3\",\"#FF6692\",\"#B6E880\",\"#FF97FF\",\"#FECB52\"],\"font\":{\"color\":\"#2a3f5f\"},\"hovermode\":\"closest\",\"hoverlabel\":{\"align\":\"left\"},\"paper_bgcolor\":\"white\",\"plot_bgcolor\":\"#E5ECF6\",\"polar\":{\"bgcolor\":\"#E5ECF6\",\"angularaxis\":{\"gridcolor\":\"white\",\"linecolor\":\"white\",\"ticks\":\"\"},\"radialaxis\":{\"gridcolor\":\"white\",\"linecolor\":\"white\",\"ticks\":\"\"}},\"ternary\":{\"bgcolor\":\"#E5ECF6\",\"aaxis\":{\"gridcolor\":\"white\",\"linecolor\":\"white\",\"ticks\":\"\"},\"baxis\":{\"gridcolor\":\"white\",\"linecolor\":\"white\",\"ticks\":\"\"},\"caxis\":{\"gridcolor\":\"white\",\"linecolor\":\"white\",\"ticks\":\"\"}},\"coloraxis\":{\"colorbar\":{\"outlinewidth\":0,\"ticks\":\"\"}},\"colorscale\":{\"sequential\":[[0.0,\"#0d0887\"],[0.1111111111111111,\"#46039f\"],[0.2222222222222222,\"#7201a8\"],[0.3333333333333333,\"#9c179e\"],[0.4444444444444444,\"#bd3786\"],[0.5555555555555556,\"#d8576b\"],[0.6666666666666666,\"#ed7953\"],[0.7777777777777778,\"#fb9f3a\"],[0.8888888888888888,\"#fdca26\"],[1.0,\"#f0f921\"]],\"sequentialminus\":[[0.0,\"#0d0887\"],[0.1111111111111111,\"#46039f\"],[0.2222222222222222,\"#7201a8\"],[0.3333333333333333,\"#9c179e\"],[0.4444444444444444,\"#bd3786\"],[0.5555555555555556,\"#d8576b\"],[0.6666666666666666,\"#ed7953\"],[0.7777777777777778,\"#fb9f3a\"],[0.8888888888888888,\"#fdca26\"],[1.0,\"#f0f921\"]],\"diverging\":[[0,\"#8e0152\"],[0.1,\"#c51b7d\"],[0.2,\"#de77ae\"],[0.3,\"#f1b6da\"],[0.4,\"#fde0ef\"],[0.5,\"#f7f7f7\"],[0.6,\"#e6f5d0\"],[0.7,\"#b8e186\"],[0.8,\"#7fbc41\"],[0.9,\"#4d9221\"],[1,\"#276419\"]]},\"xaxis\":{\"gridcolor\":\"white\",\"linecolor\":\"white\",\"ticks\":\"\",\"title\":{\"standoff\":15},\"zerolinecolor\":\"white\",\"automargin\":true,\"zerolinewidth\":2},\"yaxis\":{\"gridcolor\":\"white\",\"linecolor\":\"white\",\"ticks\":\"\",\"title\":{\"standoff\":15},\"zerolinecolor\":\"white\",\"automargin\":true,\"zerolinewidth\":2},\"scene\":{\"xaxis\":{\"backgroundcolor\":\"#E5ECF6\",\"gridcolor\":\"white\",\"linecolor\":\"white\",\"showbackground\":true,\"ticks\":\"\",\"zerolinecolor\":\"white\",\"gridwidth\":2},\"yaxis\":{\"backgroundcolor\":\"#E5ECF6\",\"gridcolor\":\"white\",\"linecolor\":\"white\",\"showbackground\":true,\"ticks\":\"\",\"zerolinecolor\":\"white\",\"gridwidth\":2},\"zaxis\":{\"backgroundcolor\":\"#E5ECF6\",\"gridcolor\":\"white\",\"linecolor\":\"white\",\"showbackground\":true,\"ticks\":\"\",\"zerolinecolor\":\"white\",\"gridwidth\":2}},\"shapedefaults\":{\"line\":{\"color\":\"#2a3f5f\"}},\"annotationdefaults\":{\"arrowcolor\":\"#2a3f5f\",\"arrowhead\":0,\"arrowwidth\":1},\"geo\":{\"bgcolor\":\"white\",\"landcolor\":\"#E5ECF6\",\"subunitcolor\":\"white\",\"showland\":true,\"showlakes\":true,\"lakecolor\":\"white\"},\"title\":{\"x\":0.05},\"mapbox\":{\"style\":\"light\"}}},\"xaxis\":{\"anchor\":\"y\",\"domain\":[0.0,1.0],\"title\":{\"text\":\"experiment\"},\"categoryorder\":\"array\",\"categoryarray\":[\"hinge\",\"sigmoid\",\"ipo\",\"kto\"]},\"yaxis\":{\"anchor\":\"x\",\"domain\":[0.0,1.0],\"title\":{\"text\":\"reward\"}},\"legend\":{\"title\":{\"text\":\"experiment\"},\"tracegroupgap\":0},\"margin\":{\"t\":60},\"boxmode\":\"overlay\",\"title\":{\"text\":\"Experiment reward distributions\"}},                        {\"responsive\": true}                    ).then(function(){\n",
       "                            \n",
       "var gd = document.getElementById('47c52289-eff6-4878-b901-59afc19506fc');\n",
       "var x = new MutationObserver(function (mutations, observer) {{\n",
       "        var display = window.getComputedStyle(gd).display;\n",
       "        if (!display || display === 'none') {{\n",
       "            console.log([gd, 'removed!']);\n",
       "            Plotly.purge(gd);\n",
       "            observer.disconnect();\n",
       "        }}\n",
       "}});\n",
       "\n",
       "// Listen for the removal of the full notebook cells\n",
       "var notebookContainer = gd.closest('#notebook-container');\n",
       "if (notebookContainer) {{\n",
       "    x.observe(notebookContainer, {childList: true});\n",
       "}}\n",
       "\n",
       "// Listen for the clearing of the current output cell\n",
       "var outputEl = gd.closest('.output');\n",
       "if (outputEl) {{\n",
       "    x.observe(outputEl, {childList: true});\n",
       "}}\n",
       "\n",
       "                        })                };                });            </script>        </div>"
      ]
     },
     "metadata": {},
     "output_type": "display_data"
    }
   ],
   "source": [
    "import plotly.express as px\n",
    "\n",
    "names = [\"hinge\", \"sigmoid\", \"ipo\", \"kto\"]\n",
    "summary = agg_experiments(names, agg=False)\n",
    "\n",
    "fig = px.box(\n",
    "    summary, y=\"reward\", x=\"experiment\", color=\"experiment\", points=\"all\",\n",
    "    color_discrete_sequence=[\"crimson\", \"midnightblue\", \"goldenrod\", \"darkgreen\"]\n",
    ")\n",
    "fig.update_layout(title=\"Experiment reward distributions\")\n",
    "fig.show(\"notebook_connected\")"
   ]
  },
  {
   "cell_type": "markdown",
   "id": "0f6c1f1d-a936-46de-9b91-055b6f95b1c5",
   "metadata": {},
   "source": [
    "К сожалению или к счастью, альтернативные лоссы ничего особенного не дают с точки зреняи качество. Всё равно всё в целом на одном уровне"
   ]
  },
  {
   "cell_type": "code",
   "execution_count": 7,
   "id": "5129fa60-c040-4d6f-8a47-e22c24e787e9",
   "metadata": {},
   "outputs": [
    {
     "data": {
      "text/html": [
       "        <script type=\"text/javascript\">\n",
       "        window.PlotlyConfig = {MathJaxConfig: 'local'};\n",
       "        if (window.MathJax && window.MathJax.Hub && window.MathJax.Hub.Config) {window.MathJax.Hub.Config({SVG: {font: \"STIX-Web\"}});}\n",
       "        if (typeof require !== 'undefined') {\n",
       "        require.undef(\"plotly\");\n",
       "        requirejs.config({\n",
       "            paths: {\n",
       "                'plotly': ['https://cdn.plot.ly/plotly-2.27.0.min']\n",
       "            }\n",
       "        });\n",
       "        require(['plotly'], function(Plotly) {\n",
       "            window._Plotly = Plotly;\n",
       "        });\n",
       "        }\n",
       "        </script>\n",
       "        "
      ]
     },
     "metadata": {},
     "output_type": "display_data"
    },
    {
     "data": {
      "text/html": [
       "<div>                            <div id=\"237a0a15-db6c-47f5-99c9-75397e46d60e\" class=\"plotly-graph-div\" style=\"height:525px; width:100%;\"></div>            <script type=\"text/javascript\">                require([\"plotly\"], function(Plotly) {                    window.PLOTLYENV=window.PLOTLYENV || {};                                    if (document.getElementById(\"237a0a15-db6c-47f5-99c9-75397e46d60e\")) {                    Plotly.newPlot(                        \"237a0a15-db6c-47f5-99c9-75397e46d60e\",                        [{\"alignmentgroup\":\"True\",\"bingroup\":\"x\",\"hovertemplate\":\"experiment=ipo\\u003cbr\\u003ereward=%{x}\\u003cbr\\u003ecount=%{y}\\u003cextra\\u003e\\u003c\\u002fextra\\u003e\",\"legendgroup\":\"ipo\",\"marker\":{\"color\":\"goldenrod\",\"opacity\":0.5,\"pattern\":{\"shape\":\"\"},\"line\":{\"color\":\"white\",\"width\":0.5}},\"name\":\"ipo\",\"nbinsx\":150,\"offsetgroup\":\"ipo\",\"orientation\":\"v\",\"showlegend\":true,\"x\":[2.8060775,2.909248,2.823102,2.5255182,2.2162855,2.8572063,2.8152757,2.833876,2.7084415,2.7886014,2.7915316,2.864767,2.8554525,2.8662484,2.6081197,2.7883182,2.8842778,2.8350465,2.7984629,2.794787,2.6848288,2.867038,2.7445936,2.830863,2.8364162,2.7462668,2.7171621,2.7588491,2.8509986,2.863327,2.8307092,2.8455892,2.7081594,2.8359292,2.7587712,2.8404403,2.8791258,2.7368963,2.7335799,2.7660217,2.893522,2.69494,2.7844841,2.8442726,2.9240649,2.835663,2.8900797,2.864257,2.8685732,0.5013448,2.7476044,2.8485374,2.734104,2.8502665,-0.027459579,-0.027459579,2.887282,2.900516,2.8945594,2.827887,2.7811937,1.9455495,2.6001096,-2.2162347,2.725811,2.819991,2.316266,2.8501189,2.8316195,2.208008,-0.027459579,2.1890461,2.7928948,2.865429,2.8305264,2.6880708,2.791602,2.8782802,2.8761935,2.7164035,2.7967577,2.6646461,2.8648186,2.8993678,2.646253,2.8481054,2.720387,2.8289733,2.6100755,2.7270734,2.901072,2.7584457,2.7229054,2.9020452,2.848752,-0.063555785,2.8188965,2.9198728,2.833167,2.6008377,2.1778867,2.8458016,2.7070937,2.8254619,2.2513156,2.809558,2.6386027,1.7333336,2.6351194,-0.047088012,2.737276,2.5651708,-0.23563012,2.7191331,2.7840307,2.7428129,2.9030356,-0.027459579,2.804825,2.8843393,2.766022,2.7784712,2.7571788,2.7296402,2.8366723,2.7445936,2.796847,2.6660638,2.8115377,2.4374244,2.6746101,2.8049679,-0.027459579,2.703517,-0.027459579,2.836188,2.8642914,2.5088582,-0.027459579,1.1882854,2.5852427,2.851774,2.6850626,2.6661606,2.4350307,2.733601,1.7170519,2.7712142,2.834375,2.6972466,2.6166563,2.7756262,2.669851,2.8125107,2.6692102,2.7760394,2.7717514,1.9364024,2.3971996,-0.063555785,-0.063555785,2.8404493,2.8353755,2.7689977,-0.063555785,2.7549758,-0.063555785,2.8907752,2.4245663,2.8643284,2.8135242,2.5252264,2.8766165,-0.027459579,2.7034771,-0.063555785,2.8558438,2.864274,2.7777364,2.687927,2.622835,2.466087,2.0173464,2.6633847,2.154798,2.688947,2.823183,-0.027459579,2.567324,-0.027459579,2.8619843,2.805431,2.5803406,2.4208715,2.7756262,2.70776,2.3777077,0.5416541,2.532235,2.6392062,1.046506,2.8378065,2.473053,2.7232358,2.3841362,2.8154106,2.8009734,-0.063555785,2.6853976,-0.027459579,2.8469899,2.8321853,2.6800447,2.8191996,2.0902288,-0.063555785,2.641959,2.372603,1.9867368,2.744153,2.686557,2.2585948,2.8778522,-0.063555785,2.7178326,1.2571042,2.8821821,-0.027459579,-0.063555785,-0.063555785,-0.063555785,2.6945417,1.1115645,2.6314247,2.850135,-0.027459579,2.4454103,2.6527886,2.8959816,2.0368884,2.8694892,0.522582,2.7883463,2.7532117,0.77483404,2.874676,2.7841456,2.6094787,2.7021163,2.769652,2.8450906,-0.027459579,0.6890803,2.6357596,2.7760394,2.8482013,2.6837258,2.7803695,2.716977,2.400783,2.58592,2.7154624,2.752276,2.65863,2.6997433,2.705043,2.648981,2.7128878,-0.063555785,2.7915995,0.95001644,-0.6324326,2.7518709,2.8723354,2.821354,2.7805238,0.5080871,1.8176935,2.8362856,2.8635252,2.740968,2.7198048,2.8376293,-0.063555785,-0.063555785,-0.027459579,2.7744794,2.7200284,2.2617443,2.8975348,-0.027459579,-0.027459579,-0.063555785,1.0930898,-0.027459579,2.7561955,2.3488512,2.700041,-1.771639,2.134297,-0.027459579,2.736085,2.8727994,2.6594083,2.779353,2.7976213,2.6321857,2.6323822,2.8137372,2.4219444,2.7145379,2.653586,2.7705014,2.8703213,2.8863738,2.8870308,2.660082,2.7016592,2.6909122,2.8021898,2.8621066,2.8003767,2.8698318,2.7341397,2.757026,-1.2584231,2.7003458,-0.063555785,2.8865843,2.8877897,2.8540952,2.848349,2.649671,1.1681142,2.0574174,2.855637,2.8374033,2.843352,2.8412774,2.8454702,2.899863,-0.063555785,2.8000767,2.8950253,-0.027459579,2.7801175,2.7979784,2.7048333,-0.027459579,2.7903075,2.8131034,2.8627474,2.824946,2.7322726,2.8696117,2.8329155,2.8829646,2.7460423,2.8555593,2.835852,2.8061347,2.8081336,2.842533,2.842689,2.9110827,2.8413496,2.8250046,1.8289146,2.8668778,2.8614802,2.7833164,2.8688455,2.9076552,2.2510417,2.849124,2.7460532,2.9030201,2.8389251,2.755175,2.553762,2.8776608,2.8413103,2.718871,2.7171016,2.8482027,2.8807232,2.8827384,2.8536272,2.7707748,2.591988,2.843185,2.3408651,2.6191952,-0.063555785,2.772651,2.8023074,2.867847,2.8777149,2.8758428,1.831001,2.8228261,2.7513773,2.8808177,2.7427204,2.8148887,2.8806503,1.6969,2.859272,2.9105752,2.8507817,2.7800632,2.8228679,2.587081,2.8487954,2.8280797,2.698494,2.7907324,2.8464205,2.8348298,2.8745565,2.8917775,2.8830051,2.865644,2.7904773,2.74693,2.877489,2.764756,2.8765416,2.8053434,2.901982,2.8827274,2.7554917,0.5455085,2.8883076,2.7182617,-0.027459579,2.8210268,2.539118,2.628716,1.9624643,2.760722,2.9283383,2.9004858,2.8108172,2.5780523,2.011118,2.886954,2.4275734,2.737032,2.6508846,-0.027459579,2.8685725,2.6934147,2.8155074,0.7747042,2.8875883,2.8947656,2.778392,2.7225704,2.7166739,2.8047194,2.7032537,2.7921863,2.7954578,2.8668892,2.8804314,2.7495804,2.8859863,2.6674986,-0.063555785,2.7302473,2.8636906,0.098218136,2.6138468,2.6859558,2.8419795,2.8032012,2.4851737,2.8075516,2.81701,2.7759788,2.8060937,2.872439,2.7870111,2.8675482,2.5568972,2.7518709,2.755557,2.665327,2.7894542,2.734477,2.8929253,1.4842495,2.8389237,2.89024,2.7749887,2.2867274,2.8549252,2.7252367,2.791987],\"xaxis\":\"x\",\"yaxis\":\"y\",\"type\":\"histogram\"},{\"alignmentgroup\":\"True\",\"bingroup\":\"x\",\"hovertemplate\":\"experiment=kto\\u003cbr\\u003ereward=%{x}\\u003cbr\\u003ecount=%{y}\\u003cextra\\u003e\\u003c\\u002fextra\\u003e\",\"legendgroup\":\"kto\",\"marker\":{\"color\":\"darkgreen\",\"opacity\":0.5,\"pattern\":{\"shape\":\"\"},\"line\":{\"color\":\"white\",\"width\":0.5}},\"name\":\"kto\",\"nbinsx\":150,\"offsetgroup\":\"kto\",\"orientation\":\"v\",\"showlegend\":true,\"x\":[2.8060775,2.909248,2.823102,2.5255182,2.2162855,2.8572063,2.8152757,2.833876,2.7084415,2.7886014,2.7915316,2.864767,2.8554525,2.8662484,2.6081197,2.7883182,2.8842778,2.8350465,2.7984629,2.794787,2.6848288,2.867038,2.7445936,2.830863,2.8364162,2.7462668,2.7171621,2.7588491,2.8509986,2.863327,2.8307092,2.8455892,2.7081594,2.8359292,2.7587712,2.8404403,2.8791258,2.7368963,2.7335799,2.7660217,2.893522,2.69494,2.7844841,2.8442726,2.9240649,2.835663,2.8900797,2.864257,2.8685732,0.5013448,2.7476044,2.8485374,2.734104,2.8502665,-0.027459579,-0.027459579,2.887282,2.900516,2.8945594,2.827887,2.7811937,1.9455495,2.6001096,-2.2162347,2.725811,2.819991,2.316266,2.8501189,2.8316195,2.208008,-0.027459579,2.1890461,2.7928948,2.865429,2.8305264,2.6880708,2.791602,2.8782802,2.8761935,2.7164035,2.7967577,2.6646461,2.8648186,2.8993678,2.646253,2.8481054,2.720387,2.8289733,2.6100755,2.7270734,2.901072,2.7584457,2.7229054,2.9020452,2.848752,-0.063555785,2.8188965,2.9198728,2.833167,2.6008377,2.1778867,2.8458016,2.7070937,2.8254619,2.2513156,2.809558,2.6386027,1.7333336,2.6351194,-0.047088012,2.737276,2.5651708,-0.23563012,2.7191331,2.7840307,2.7428129,2.9030356,-0.027459579,2.804825,2.8843393,2.766022,2.7784712,2.7571788,2.7296402,2.8366723,2.7445936,2.796847,2.6660638,2.8115377,2.4374244,2.6746101,2.8049679,-0.027459579,2.703517,-0.027459579,2.836188,2.8642914,2.5088582,-0.027459579,1.1882854,2.5852427,2.851774,2.6850626,2.6661606,2.4350307,2.733601,1.7170519,2.7712142,2.834375,2.6972466,2.6166563,2.7756262,2.669851,2.8125107,2.6692102,2.7760394,2.7717514,1.9364024,2.3971996,-0.063555785,-0.063555785,2.8404493,2.8353755,2.7689977,-0.063555785,2.7549758,-0.063555785,2.8907752,2.4245663,2.8643284,2.8135242,2.5252264,2.8766165,-0.027459579,2.7034771,-0.063555785,2.8558438,2.864274,2.7777364,2.687927,2.622835,2.466087,2.0173464,2.6633847,2.154798,2.688947,2.823183,-0.027459579,2.567324,-0.027459579,2.8619843,2.805431,2.5803406,2.4208715,2.7756262,2.70776,2.3777077,0.5416541,2.532235,2.6392062,2.8060775,2.909248,2.823102,2.5255182,2.2162855,2.8572063,2.8152757,2.833876,2.7084415,2.7886014,2.7915316,2.864767,2.8554525,2.8662484,2.6081197,2.7883182,2.8842778,2.8350465,2.7984629,2.794787,2.6848288,2.867038,2.7445936,2.830863,2.8364162,2.7462668,2.7171621,2.7588491,2.8509986,2.863327,2.8307092,2.8455892,2.7081594,2.8359292,2.7587712,2.8404403,2.8791258,2.7368963,2.7335799,2.7660217,2.893522,2.69494,2.7844841,2.8442726,2.9240649,2.835663,2.8900797,2.864257,2.8685732,0.5013448,2.7476044,2.8485374,2.734104,2.8502665,-0.027459579,-0.027459579,2.887282,2.900516,2.8945594,2.827887,2.7811937,1.9455495,2.6001096,-2.2162347,2.725811,2.819991,2.316266,2.8501189,2.8316195,2.208008,-0.027459579,2.1890461,2.7928948,2.865429,2.8305264,2.6880708,2.791602,2.8782802,2.8761935,2.7164035,2.7967577,2.6646461,2.8648186,2.8993678,2.646253,2.8481054,2.720387,2.8289733,2.6100755,2.7270734,2.901072,2.7584457,2.7229054,2.9020452,2.848752,-0.063555785,2.8188965,2.9198728,2.833167,2.6008377,2.1778867,2.8458016,2.7070937,2.8254619,2.2513156,2.809558,2.6386027,1.7333336,2.6351194,-0.047088012,2.737276,2.5651708,-0.23563012,2.7191331,2.7840307,2.7428129,2.9030356,-0.027459579,2.804825,2.8843393,2.766022,2.7784712,2.7571788,2.7296402,2.8366723,2.7445936,2.796847,2.6660638,2.8115377,2.4374244,2.6746101,2.8049679,-0.027459579,2.703517,-0.027459579,2.836188,2.8642914,2.5088582,-0.027459579,1.1882854,2.5852427,2.851774,2.6850626,2.6661606,2.4350307,2.733601,1.7170519,2.7712142,2.834375,2.6972466,2.6166563,2.7756262,2.669851,2.8125107,2.6692102,2.7760394,2.7717514,1.9364024,2.3971996,-0.063555785,-0.063555785,2.8404493,2.8353755,2.7689977,-0.063555785,2.7549758,-0.063555785,2.8907752,2.4245663,2.8643284,2.8135242,2.5252264,2.8766165,-0.027459579,2.7034771,-0.063555785,2.8558438,2.864274,2.7777364,2.687927,2.622835,2.466087,2.0173464,2.6633847,2.154798,2.688947,2.823183,-0.027459579,2.567324,-0.027459579,2.8619843,2.805431,2.5803406,2.4208715,2.7756262,2.70776,2.3777077,0.5416541,2.532235,2.6392062,1.046506,2.8378065,2.473053,2.7232358,2.3841362,2.8154106,2.8009734,-0.063555785,2.6853976,-0.027459579,2.8469899,2.8321853,2.6800447,2.8191996,2.0902288,-0.063555785,2.641959,2.372603,1.9867368,2.744153,2.686557,2.2585948,2.8778522,-0.063555785,2.7178326,1.2571042,2.8821821,-0.027459579,-0.063555785,-0.063555785,-0.063555785,2.6945417,1.1115645,2.6314247,2.850135,-0.027459579,2.4454103,2.6527886,2.8959816,2.0368884,2.8694892,0.522582,2.7883463,2.7532117,0.77483404,2.874676,2.7841456,2.6094787,2.7021163,2.769652,2.8450906,-0.027459579,0.6890803,2.6357596,2.7760394,2.8482013,2.6837258,2.7803695,2.716977,2.400783,2.58592,2.7154624,2.752276,2.65863,2.6997433,2.705043,2.648981,2.7128878,-0.063555785,2.7915995,0.95001644,-0.6324326,2.7518709,2.8723354,2.821354,2.7805238,0.5080871,1.8176935,2.8362856,2.8635252,2.740968,2.7198048,2.8376293,-0.063555785,-0.063555785,-0.027459579,2.7744794,2.7200284,2.2617443,2.8975348,-0.027459579,-0.027459579,-0.063555785,1.0930898,-0.027459579,2.7561955,2.3488512,2.700041,-1.771639,2.134297],\"xaxis\":\"x\",\"yaxis\":\"y\",\"type\":\"histogram\"}],                        {\"template\":{\"data\":{\"histogram2dcontour\":[{\"type\":\"histogram2dcontour\",\"colorbar\":{\"outlinewidth\":0,\"ticks\":\"\"},\"colorscale\":[[0.0,\"#0d0887\"],[0.1111111111111111,\"#46039f\"],[0.2222222222222222,\"#7201a8\"],[0.3333333333333333,\"#9c179e\"],[0.4444444444444444,\"#bd3786\"],[0.5555555555555556,\"#d8576b\"],[0.6666666666666666,\"#ed7953\"],[0.7777777777777778,\"#fb9f3a\"],[0.8888888888888888,\"#fdca26\"],[1.0,\"#f0f921\"]]}],\"choropleth\":[{\"type\":\"choropleth\",\"colorbar\":{\"outlinewidth\":0,\"ticks\":\"\"}}],\"histogram2d\":[{\"type\":\"histogram2d\",\"colorbar\":{\"outlinewidth\":0,\"ticks\":\"\"},\"colorscale\":[[0.0,\"#0d0887\"],[0.1111111111111111,\"#46039f\"],[0.2222222222222222,\"#7201a8\"],[0.3333333333333333,\"#9c179e\"],[0.4444444444444444,\"#bd3786\"],[0.5555555555555556,\"#d8576b\"],[0.6666666666666666,\"#ed7953\"],[0.7777777777777778,\"#fb9f3a\"],[0.8888888888888888,\"#fdca26\"],[1.0,\"#f0f921\"]]}],\"heatmap\":[{\"type\":\"heatmap\",\"colorbar\":{\"outlinewidth\":0,\"ticks\":\"\"},\"colorscale\":[[0.0,\"#0d0887\"],[0.1111111111111111,\"#46039f\"],[0.2222222222222222,\"#7201a8\"],[0.3333333333333333,\"#9c179e\"],[0.4444444444444444,\"#bd3786\"],[0.5555555555555556,\"#d8576b\"],[0.6666666666666666,\"#ed7953\"],[0.7777777777777778,\"#fb9f3a\"],[0.8888888888888888,\"#fdca26\"],[1.0,\"#f0f921\"]]}],\"heatmapgl\":[{\"type\":\"heatmapgl\",\"colorbar\":{\"outlinewidth\":0,\"ticks\":\"\"},\"colorscale\":[[0.0,\"#0d0887\"],[0.1111111111111111,\"#46039f\"],[0.2222222222222222,\"#7201a8\"],[0.3333333333333333,\"#9c179e\"],[0.4444444444444444,\"#bd3786\"],[0.5555555555555556,\"#d8576b\"],[0.6666666666666666,\"#ed7953\"],[0.7777777777777778,\"#fb9f3a\"],[0.8888888888888888,\"#fdca26\"],[1.0,\"#f0f921\"]]}],\"contourcarpet\":[{\"type\":\"contourcarpet\",\"colorbar\":{\"outlinewidth\":0,\"ticks\":\"\"}}],\"contour\":[{\"type\":\"contour\",\"colorbar\":{\"outlinewidth\":0,\"ticks\":\"\"},\"colorscale\":[[0.0,\"#0d0887\"],[0.1111111111111111,\"#46039f\"],[0.2222222222222222,\"#7201a8\"],[0.3333333333333333,\"#9c179e\"],[0.4444444444444444,\"#bd3786\"],[0.5555555555555556,\"#d8576b\"],[0.6666666666666666,\"#ed7953\"],[0.7777777777777778,\"#fb9f3a\"],[0.8888888888888888,\"#fdca26\"],[1.0,\"#f0f921\"]]}],\"surface\":[{\"type\":\"surface\",\"colorbar\":{\"outlinewidth\":0,\"ticks\":\"\"},\"colorscale\":[[0.0,\"#0d0887\"],[0.1111111111111111,\"#46039f\"],[0.2222222222222222,\"#7201a8\"],[0.3333333333333333,\"#9c179e\"],[0.4444444444444444,\"#bd3786\"],[0.5555555555555556,\"#d8576b\"],[0.6666666666666666,\"#ed7953\"],[0.7777777777777778,\"#fb9f3a\"],[0.8888888888888888,\"#fdca26\"],[1.0,\"#f0f921\"]]}],\"mesh3d\":[{\"type\":\"mesh3d\",\"colorbar\":{\"outlinewidth\":0,\"ticks\":\"\"}}],\"scatter\":[{\"fillpattern\":{\"fillmode\":\"overlay\",\"size\":10,\"solidity\":0.2},\"type\":\"scatter\"}],\"parcoords\":[{\"type\":\"parcoords\",\"line\":{\"colorbar\":{\"outlinewidth\":0,\"ticks\":\"\"}}}],\"scatterpolargl\":[{\"type\":\"scatterpolargl\",\"marker\":{\"colorbar\":{\"outlinewidth\":0,\"ticks\":\"\"}}}],\"bar\":[{\"error_x\":{\"color\":\"#2a3f5f\"},\"error_y\":{\"color\":\"#2a3f5f\"},\"marker\":{\"line\":{\"color\":\"#E5ECF6\",\"width\":0.5},\"pattern\":{\"fillmode\":\"overlay\",\"size\":10,\"solidity\":0.2}},\"type\":\"bar\"}],\"scattergeo\":[{\"type\":\"scattergeo\",\"marker\":{\"colorbar\":{\"outlinewidth\":0,\"ticks\":\"\"}}}],\"scatterpolar\":[{\"type\":\"scatterpolar\",\"marker\":{\"colorbar\":{\"outlinewidth\":0,\"ticks\":\"\"}}}],\"histogram\":[{\"marker\":{\"pattern\":{\"fillmode\":\"overlay\",\"size\":10,\"solidity\":0.2}},\"type\":\"histogram\"}],\"scattergl\":[{\"type\":\"scattergl\",\"marker\":{\"colorbar\":{\"outlinewidth\":0,\"ticks\":\"\"}}}],\"scatter3d\":[{\"type\":\"scatter3d\",\"line\":{\"colorbar\":{\"outlinewidth\":0,\"ticks\":\"\"}},\"marker\":{\"colorbar\":{\"outlinewidth\":0,\"ticks\":\"\"}}}],\"scattermapbox\":[{\"type\":\"scattermapbox\",\"marker\":{\"colorbar\":{\"outlinewidth\":0,\"ticks\":\"\"}}}],\"scatterternary\":[{\"type\":\"scatterternary\",\"marker\":{\"colorbar\":{\"outlinewidth\":0,\"ticks\":\"\"}}}],\"scattercarpet\":[{\"type\":\"scattercarpet\",\"marker\":{\"colorbar\":{\"outlinewidth\":0,\"ticks\":\"\"}}}],\"carpet\":[{\"aaxis\":{\"endlinecolor\":\"#2a3f5f\",\"gridcolor\":\"white\",\"linecolor\":\"white\",\"minorgridcolor\":\"white\",\"startlinecolor\":\"#2a3f5f\"},\"baxis\":{\"endlinecolor\":\"#2a3f5f\",\"gridcolor\":\"white\",\"linecolor\":\"white\",\"minorgridcolor\":\"white\",\"startlinecolor\":\"#2a3f5f\"},\"type\":\"carpet\"}],\"table\":[{\"cells\":{\"fill\":{\"color\":\"#EBF0F8\"},\"line\":{\"color\":\"white\"}},\"header\":{\"fill\":{\"color\":\"#C8D4E3\"},\"line\":{\"color\":\"white\"}},\"type\":\"table\"}],\"barpolar\":[{\"marker\":{\"line\":{\"color\":\"#E5ECF6\",\"width\":0.5},\"pattern\":{\"fillmode\":\"overlay\",\"size\":10,\"solidity\":0.2}},\"type\":\"barpolar\"}],\"pie\":[{\"automargin\":true,\"type\":\"pie\"}]},\"layout\":{\"autotypenumbers\":\"strict\",\"colorway\":[\"#636efa\",\"#EF553B\",\"#00cc96\",\"#ab63fa\",\"#FFA15A\",\"#19d3f3\",\"#FF6692\",\"#B6E880\",\"#FF97FF\",\"#FECB52\"],\"font\":{\"color\":\"#2a3f5f\"},\"hovermode\":\"closest\",\"hoverlabel\":{\"align\":\"left\"},\"paper_bgcolor\":\"white\",\"plot_bgcolor\":\"#E5ECF6\",\"polar\":{\"bgcolor\":\"#E5ECF6\",\"angularaxis\":{\"gridcolor\":\"white\",\"linecolor\":\"white\",\"ticks\":\"\"},\"radialaxis\":{\"gridcolor\":\"white\",\"linecolor\":\"white\",\"ticks\":\"\"}},\"ternary\":{\"bgcolor\":\"#E5ECF6\",\"aaxis\":{\"gridcolor\":\"white\",\"linecolor\":\"white\",\"ticks\":\"\"},\"baxis\":{\"gridcolor\":\"white\",\"linecolor\":\"white\",\"ticks\":\"\"},\"caxis\":{\"gridcolor\":\"white\",\"linecolor\":\"white\",\"ticks\":\"\"}},\"coloraxis\":{\"colorbar\":{\"outlinewidth\":0,\"ticks\":\"\"}},\"colorscale\":{\"sequential\":[[0.0,\"#0d0887\"],[0.1111111111111111,\"#46039f\"],[0.2222222222222222,\"#7201a8\"],[0.3333333333333333,\"#9c179e\"],[0.4444444444444444,\"#bd3786\"],[0.5555555555555556,\"#d8576b\"],[0.6666666666666666,\"#ed7953\"],[0.7777777777777778,\"#fb9f3a\"],[0.8888888888888888,\"#fdca26\"],[1.0,\"#f0f921\"]],\"sequentialminus\":[[0.0,\"#0d0887\"],[0.1111111111111111,\"#46039f\"],[0.2222222222222222,\"#7201a8\"],[0.3333333333333333,\"#9c179e\"],[0.4444444444444444,\"#bd3786\"],[0.5555555555555556,\"#d8576b\"],[0.6666666666666666,\"#ed7953\"],[0.7777777777777778,\"#fb9f3a\"],[0.8888888888888888,\"#fdca26\"],[1.0,\"#f0f921\"]],\"diverging\":[[0,\"#8e0152\"],[0.1,\"#c51b7d\"],[0.2,\"#de77ae\"],[0.3,\"#f1b6da\"],[0.4,\"#fde0ef\"],[0.5,\"#f7f7f7\"],[0.6,\"#e6f5d0\"],[0.7,\"#b8e186\"],[0.8,\"#7fbc41\"],[0.9,\"#4d9221\"],[1,\"#276419\"]]},\"xaxis\":{\"gridcolor\":\"white\",\"linecolor\":\"white\",\"ticks\":\"\",\"title\":{\"standoff\":15},\"zerolinecolor\":\"white\",\"automargin\":true,\"zerolinewidth\":2},\"yaxis\":{\"gridcolor\":\"white\",\"linecolor\":\"white\",\"ticks\":\"\",\"title\":{\"standoff\":15},\"zerolinecolor\":\"white\",\"automargin\":true,\"zerolinewidth\":2},\"scene\":{\"xaxis\":{\"backgroundcolor\":\"#E5ECF6\",\"gridcolor\":\"white\",\"linecolor\":\"white\",\"showbackground\":true,\"ticks\":\"\",\"zerolinecolor\":\"white\",\"gridwidth\":2},\"yaxis\":{\"backgroundcolor\":\"#E5ECF6\",\"gridcolor\":\"white\",\"linecolor\":\"white\",\"showbackground\":true,\"ticks\":\"\",\"zerolinecolor\":\"white\",\"gridwidth\":2},\"zaxis\":{\"backgroundcolor\":\"#E5ECF6\",\"gridcolor\":\"white\",\"linecolor\":\"white\",\"showbackground\":true,\"ticks\":\"\",\"zerolinecolor\":\"white\",\"gridwidth\":2}},\"shapedefaults\":{\"line\":{\"color\":\"#2a3f5f\"}},\"annotationdefaults\":{\"arrowcolor\":\"#2a3f5f\",\"arrowhead\":0,\"arrowwidth\":1},\"geo\":{\"bgcolor\":\"white\",\"landcolor\":\"#E5ECF6\",\"subunitcolor\":\"white\",\"showland\":true,\"showlakes\":true,\"lakecolor\":\"white\"},\"title\":{\"x\":0.05},\"mapbox\":{\"style\":\"light\"}}},\"xaxis\":{\"anchor\":\"y\",\"domain\":[0.0,1.0],\"title\":{\"text\":\"reward\"}},\"yaxis\":{\"anchor\":\"x\",\"domain\":[0.0,1.0],\"title\":{\"text\":\"count\"}},\"legend\":{\"title\":{\"text\":\"experiment\"},\"tracegroupgap\":0},\"margin\":{\"t\":60},\"barmode\":\"overlay\",\"title\":{\"text\":\"Experiment reward histograms\"}},                        {\"responsive\": true}                    ).then(function(){\n",
       "                            \n",
       "var gd = document.getElementById('237a0a15-db6c-47f5-99c9-75397e46d60e');\n",
       "var x = new MutationObserver(function (mutations, observer) {{\n",
       "        var display = window.getComputedStyle(gd).display;\n",
       "        if (!display || display === 'none') {{\n",
       "            console.log([gd, 'removed!']);\n",
       "            Plotly.purge(gd);\n",
       "            observer.disconnect();\n",
       "        }}\n",
       "}});\n",
       "\n",
       "// Listen for the removal of the full notebook cells\n",
       "var notebookContainer = gd.closest('#notebook-container');\n",
       "if (notebookContainer) {{\n",
       "    x.observe(notebookContainer, {childList: true});\n",
       "}}\n",
       "\n",
       "// Listen for the clearing of the current output cell\n",
       "var outputEl = gd.closest('.output');\n",
       "if (outputEl) {{\n",
       "    x.observe(outputEl, {childList: true});\n",
       "}}\n",
       "\n",
       "                        })                };                });            </script>        </div>"
      ]
     },
     "metadata": {},
     "output_type": "display_data"
    }
   ],
   "source": [
    "import plotly.express as px\n",
    "\n",
    "sub_df = summary[summary.experiment.isin([\"ipo\", \"kto\"])]\n",
    "fig = px.histogram(\n",
    "    sub_df, x=\"reward\", color=\"experiment\",\n",
    "    nbins=150, opacity=0.5, barmode=\"overlay\",\n",
    "    color_discrete_sequence=[\"goldenrod\", \"darkgreen\"]\n",
    ")\n",
    "fig.update_layout(title=\"Experiment reward histograms\")\n",
    "fig.update_traces(marker_line_width=0.5 ,marker_line_color=\"white\")\n",
    "fig.show(\"notebook_connected\")"
   ]
  },
  {
   "cell_type": "markdown",
   "id": "c6ba5135-b151-460f-8efb-c10ebc666c57",
   "metadata": {},
   "source": [
    "Если же сравнивать только новые лоссы, они всё равно оказываются уж очень похожими. По сравнению со своими конкурентами, их результаты получаются немного разнообразнее, возможно, это плюс, но на явное улучшение, к сожалению, не тянет "
   ]
  }
 ],
 "metadata": {
  "kernelspec": {
   "display_name": "Python 3 (ipykernel)",
   "language": "python",
   "name": "python3"
  },
  "language_info": {
   "codemirror_mode": {
    "name": "ipython",
    "version": 3
   },
   "file_extension": ".py",
   "mimetype": "text/x-python",
   "name": "python",
   "nbconvert_exporter": "python",
   "pygments_lexer": "ipython3",
   "version": "3.11.5"
  }
 },
 "nbformat": 4,
 "nbformat_minor": 5
}
