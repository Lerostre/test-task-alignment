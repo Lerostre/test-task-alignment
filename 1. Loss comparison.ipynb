{
 "cells": [
  {
   "cell_type": "markdown",
   "id": "0c24c65e-00ed-49c0-b77a-c2db889470a6",
   "metadata": {},
   "source": [
    "### Использованные библиотеки"
   ]
  },
  {
   "cell_type": "code",
   "execution_count": null,
   "id": "bf2aa76a-857a-412b-a0b4-611ba66f699d",
   "metadata": {
    "tags": []
   },
   "outputs": [],
   "source": [
    "!pip install -q -r requirements.txt"
   ]
  },
  {
   "cell_type": "markdown",
   "id": "38aaa4b8-998f-420d-b181-2f1e1b8933fe",
   "metadata": {},
   "source": [
    "### Часть 1"
   ]
  },
  {
   "cell_type": "markdown",
   "id": "7d4d3e72-a0b3-4c8f-a1cc-b0525e9ab034",
   "metadata": {},
   "source": [
    "Здесь мы научимся генерировать положительные отзывы, посмотрим, какие есть нюансы, и проанализируем, как работает SFT, модель с hinge-лоссом и модель с sigmoid-лоссом"
   ]
  },
  {
   "cell_type": "code",
   "execution_count": 8,
   "id": "f479d065-faa5-4e36-893f-4d750923c70d",
   "metadata": {
    "tags": []
   },
   "outputs": [
    {
     "data": {
      "text/plain": [
       "'cpu'"
      ]
     },
     "execution_count": 8,
     "metadata": {},
     "output_type": "execute_result"
    }
   ],
   "source": [
    "from scipy.stats import entropy\n",
    "import numpy as np\n",
    "\n",
    "import torch\n",
    "from torch import nn\n",
    "\n",
    "import random\n",
    "import os\n",
    "\n",
    "from tqdm.auto import tqdm, trange\n",
    "\n",
    "from datasets import Dataset, load_dataset\n",
    "from transformers import TrainingArguments\n",
    "from transformers import GPT2Tokenizer, GPT2LMHeadModel\n",
    "from transformers import DistilBertTokenizer, DistilBertForSequenceClassification\n",
    "from trl import DPOTrainer\n",
    "\n",
    "from typing import Optional, Dict\n",
    "from collections import defaultdict\n",
    "import warnings\n",
    "warnings.filterwarnings(\"ignore\")\n",
    "\n",
    "device = \"cuda\" if torch.cuda.is_available() else \"cpu\"\n",
    "device"
   ]
  },
  {
   "cell_type": "code",
   "execution_count": 9,
   "id": "7e579c93-89d6-4d78-985c-864123d69728",
   "metadata": {
    "tags": []
   },
   "outputs": [],
   "source": [
    "def seed_everything(seed):\n",
    "    random.seed(seed)\n",
    "    os.environ[\"PYTHONHASHSEED\"] = str(seed)\n",
    "    np.random.seed(seed)\n",
    "    torch.manual_seed(seed)\n",
    "    torch.cuda.manual_seed(seed)\n",
    "    torch.backends.cudnn.deterministic = True"
   ]
  },
  {
   "cell_type": "code",
   "execution_count": 10,
   "id": "d1ed3dc1-9b6e-4871-b750-3c791bf37b78",
   "metadata": {
    "tags": []
   },
   "outputs": [],
   "source": [
    "def token_entropy(generations, tokenizer):\n",
    "    stats = defaultdict(int)\n",
    "    num_tokens = 0\n",
    "    for example in generations:\n",
    "        tokens = tokenizer.encode(example)\n",
    "        for t in tokens:\n",
    "            if t == tokenizer.pad_token_id:\n",
    "                continue\n",
    "            stats[t] += 1\n",
    "            num_tokens += 1\n",
    "    for k in stats.keys():\n",
    "        stats[k] /= num_tokens\n",
    "    return entropy(list(stats.values()))"
   ]
  },
  {
   "cell_type": "markdown",
   "id": "fe439f1f-b315-46d1-bd6e-8f2386336f72",
   "metadata": {},
   "source": [
    "Вроде бы такая функция уже неплохо оценивает разнообразие, ведь это буквально доля уникальных токенов, даже сложно придумать, что могло бы быть лучше. Можно было бы попробовать подсчитать долю использованных слов из всего словаря или долю разных токенов по предложениям, но непонятно, чем это должно быть лучше. К тому же именно такая мера была использована в статье"
   ]
  },
  {
   "cell_type": "markdown",
   "id": "2e2276ea-d5d0-4983-9a38-5bb785b660e0",
   "metadata": {},
   "source": [
    "#### 1.1 Генерация позитивных отзывов\n",
    "----------------"
   ]
  },
  {
   "cell_type": "markdown",
   "id": "4ffa58f6-c3bd-4f4e-9059-1f56e78d9e2c",
   "metadata": {},
   "source": [
    "Сначала нужно взять sft-модель и разобраться, как она работает. Для этого достаточно ознакомиться с интерфейсом с huggingface"
   ]
  },
  {
   "cell_type": "code",
   "execution_count": 4,
   "id": "640f0e85-3e66-41b2-a7cc-89ee71d219fc",
   "metadata": {
    "tags": []
   },
   "outputs": [],
   "source": [
    "model_name = \"lvwerra/gpt2-imdb\"\n",
    "\n",
    "tokenizer = GPT2Tokenizer.from_pretrained(\n",
    "    model_name, padding_side='left', add_prefix_space=True\n",
    ")\n",
    "tokenizer.pad_token = tokenizer.eos_token\n",
    "\n",
    "model = GPT2LMHeadModel.from_pretrained(\n",
    "    model_name, pad_token_id=tokenizer.pad_token_id,\n",
    ").to(device)"
   ]
  },
  {
   "cell_type": "markdown",
   "id": "6dbd053c-196a-467a-8ca4-853af69e28fd",
   "metadata": {},
   "source": [
    "Ниже простенькая функция генерации вместо той, что есть по дефолту. Параметры я подобрал такие, чтобы получалось что-то более-менее осмысленное, но не слишком длинное, а то долго обучаться. Сразу же добавил дефолтные опции для генерации положительных отзывов, подобрал чисто экспериментально. В генерации встречаются мусорные токены от html разметки, ну да что поделать. Я вычистил всё, что попалось мне на глаза"
   ]
  },
  {
   "cell_type": "code",
   "execution_count": 5,
   "id": "66f8865f-01c4-4f40-9786-4bf13513655a",
   "metadata": {
    "tags": []
   },
   "outputs": [],
   "source": [
    "from token_data import good_tokens, bad_tokens, omit_tokens\n",
    "\n",
    "def get_tokens_as_tuple(word):\n",
    "    return tuple(tokenizer([word], add_special_tokens=False).input_ids[0])\n",
    "\n",
    "def generate_from_input(\n",
    "    inp: Optional[str] = \"\",\n",
    "    debug: Optional[bool] = False,\n",
    "    naive_guidance: Optional[str] = None,\n",
    "    sequence_bias: Optional[Dict[str, float]] = None,\n",
    "    **generation_config\n",
    "):\n",
    "    guidance_dict = {\n",
    "        \"positive\": f\"This movie is great. {inp}\",\n",
    "        \"negative\": f\"This movie is bad. {inp}\",\n",
    "        None: \"...\" if inp == \"\" else inp\n",
    "    }\n",
    "    inp = guidance_dict[naive_guidance].rstrip()\n",
    "    input_ids = tokenizer.encode(\n",
    "        inp, return_tensors='pt',\n",
    "        add_special_tokens=True,\n",
    "        add_prefix_space=False,\n",
    "        padding=True\n",
    "    ).to(device)\n",
    "    beam_output = model.generate(\n",
    "        input_ids, do_sample=True,\n",
    "        sequence_bias=sequence_bias,\n",
    "        **generation_config\n",
    "    ).to(device)\n",
    "    output = tokenizer.decode(\n",
    "        beam_output[0], skip_special_tokens=True,\n",
    "        clean_up_tokenization_spaces=True,\n",
    "    )\n",
    "    if debug:\n",
    "        print(beam_output[0])\n",
    "    return \".\".join(output.split(\".\")[:-1]) + \".\"\n",
    "\n",
    "bad_words_ids = [ids[1:] for ids in tokenizer(omit_tokens, add_special_tokens=False).input_ids]\n",
    "default_generation_config = dict(\n",
    "    top_k=50,\n",
    "    num_beams=5,\n",
    "    max_length=200,\n",
    "    early_stopping=False,\n",
    "    no_repeat_ngram_size=2,\n",
    "    renormalize_logits=True,\n",
    "    min_new_tokens=5,\n",
    "    repetition_penalty=1.5,\n",
    "    temperature=1.5,\n",
    "    bad_words_ids=bad_words_ids,\n",
    ")\n",
    "\n",
    "factor = 0.33 # начальный bias слишком сильный\n",
    "bias_tokens = dict(good_tokens, **bad_tokens)\n",
    "pos_bias = {get_tokens_as_tuple(k): factor*v for k, v in bias_tokens.items()}\n",
    "neg_bias = {k: -v for k, v in pos_bias.items()}"
   ]
  },
  {
   "cell_type": "code",
   "execution_count": 5,
   "id": "ee848275-660a-4d3a-9260-0fd560f46463",
   "metadata": {
    "tags": []
   },
   "outputs": [
    {
     "data": {
      "text/plain": [
       "tensor([0, 0, 1, 0, 0, 0, 0, 0, 0, 0])"
      ]
     },
     "execution_count": 5,
     "metadata": {},
     "output_type": "execute_result"
    }
   ],
   "source": [
    "torch.nn.functional.one_hot(torch.tensor(2),10)"
   ]
  },
  {
   "cell_type": "markdown",
   "id": "74dc9e7b-ff6f-4ff4-a34c-1c79e098f7af",
   "metadata": {},
   "source": [
    "Кажется, это самый простой способ сделать отзыв более положительным - а именно вставить ключевые слова в промпт, у меня это параметр `naive_guidance`. Очень прогрессивно, но работает не то, чтобы слишком хорошо. Что ещё можно сделать:\n",
    "\n",
    "1. **Beam Search**. У меня была мысль с более хитрым отбором кандидатов во время бим сёрча - можно оставлять такие опции, которые не только более вероятны, но и имеют положительную тональность. Как если бы была задача максимизировать и вероятность предложения, и тональность, как при мультилейбл Это можно сделать даже при помощи той же gpt2, если взять другую архитектуру, но пришлось бы переделывать функцию генерации, это во-первых не очень очевидно, во-вторых будет не совсем эффективно вроде как, потокенная генерация дело долгое. В общем, показалось, что это просто слишком сложно для самого начала задания, ответ наверное должен быть проще. Если бы я мог решить эту проблему на этапе бим сёрча, всё задание ниже не имело бы смысла. Ну и код в transformers не такой очевидный, чтобы можно было его пропатчить, так что я забил\n",
    "\n",
    "2. **The more the better**. Была мысль с банальной генерацией как можно большего числа примеров. Среди них осталось бы выделить позитивные примеры и радоваться жизни, но это не модификация генерации. К тому же я и так буду генерировать сразу кучу, почему бы и нет\n",
    "\n",
    "3. **(Supervised) Fine-Tuning**. Файн-тюн это тоже опция, конечно, но это фактически попытка решить нашу задачу, тоже не то. К тому же мне придётся откуда-то взять позитивные отзывы, это можно, но это чит. Понятно, что этот же IMDB датасет можно легко стащить, он есть в открытом доступе, оттуда взять положительных примеров, но это слишком легко, и это не адаптация модели. Я реализовал эту вещь, но не использовал\n",
    "\n",
    "4. **Prompt Engineering**. Модифицировать промпт это тоже не совсем понятная вещь, потому что прописать можно много всего разного. Я остановился на 'Good Review', он вполне себе даёт результаты, как будет видно ниже. Понятно, что есть другие ключевые слова, их я тоже попробовал вставить через байас, чтобы не принуждать модель, но побуждать генерировать то, что я хочу. Синонимы я достал через [сайтик](https://www.thesaurus.com/browse/good), потому что nltk даёт либо слишком мало, либо много. Это не очень много времени занимает. Байас дал соответственно силе синонимов, но это тоже спорно, ведь никакого порядка на самом деле нет, это очевидно. Но всё равно это вещь очень тонкая, потому что чем больше байас, тем меньше дайвёрсити, если смотреть не только на скор классификатора, но и на сами тексты. Можно покрутить, я всё для этого оставил. В общем, такую опцию я тожн реализовал, но делал всё же тоже без неё\n",
    "\n",
    "Проверять качество я буду в первую очередь глазами. Даже в статье среди примеров оказывается, что при казалось бы неплохих показателях качества сами тексты состоят из одного слова например. Очевидно, такое нам не слишком подходит. Проверять я буду на пустом инпуте, чтобы проверить, что модель подстроилась даже без гайданса\n",
    "\n",
    "Ниже парочка примеров генерации"
   ]
  },
  {
   "cell_type": "code",
   "execution_count": 70,
   "id": "5c581807-17cd-4377-aba7-f2556109dfba",
   "metadata": {
    "tags": []
   },
   "outputs": [
    {
     "data": {
      "text/plain": [
       "'... - I must say, this movie really surprised me.'"
      ]
     },
     "execution_count": 70,
     "metadata": {},
     "output_type": "execute_result"
    }
   ],
   "source": [
    "generate_from_input()"
   ]
  },
  {
   "cell_type": "code",
   "execution_count": 17,
   "id": "902fa5ce-ff13-448d-a88e-8c79a87ef890",
   "metadata": {
    "tags": []
   },
   "outputs": [
    {
     "data": {
      "text/plain": [
       "\"... and I don't know what to say about it. If you are a fan of the series, you will like this one.\""
      ]
     },
     "execution_count": 17,
     "metadata": {},
     "output_type": "execute_result"
    }
   ],
   "source": [
    "generate_from_input(**default_generation_config)"
   ]
  },
  {
   "cell_type": "code",
   "execution_count": 90,
   "id": "8fd14cf3-c65e-417c-a47e-6fc6e453fb4f",
   "metadata": {
    "tags": []
   },
   "outputs": [
    {
     "data": {
      "text/plain": [
       "\"This movie is great. If you are looking for a good action/thriller, or if you just want to know how to make a horror movie, this is the movie for you. There is a lot going on in this movie that I didn't know about before. This movie takes itself seriously. Don't be fooled into thinking that it will be your cup of tea. You will not be disappointed. It is definitely one of the best movies I have ever seen. I highly recommend it to anyone who wants to see an action movie.\""
      ]
     },
     "execution_count": 90,
     "metadata": {},
     "output_type": "execute_result"
    }
   ],
   "source": [
    "generate_from_input(naive_guidance=\"positive\", **default_generation_config)"
   ]
  },
  {
   "cell_type": "code",
   "execution_count": 91,
   "id": "01e5ef53-c8cb-4157-858d-2ee8bf643d26",
   "metadata": {
    "tags": []
   },
   "outputs": [
    {
     "data": {
      "text/plain": [
       "\"This movie is great. The cast is excellent and the direction is superb. This movie could have been great in it's own right, but it didn't. I think this movie will be great for those who like to watch great movies with great actors and good directing. If you're looking for a great movie, this isn't it. However, if you just want to see great films with good acting and great directing, then this is the movie for you. And if your looking to rent a good movie with excellent directing and excellent acting, go ahead and give this one a shot.\""
      ]
     },
     "execution_count": 91,
     "metadata": {},
     "output_type": "execute_result"
    }
   ],
   "source": [
    "generate_from_input(\n",
    "    naive_guidance=\"positive\",\n",
    "    sequence_bias=pos_bias,\n",
    "    **default_generation_config\n",
    ")"
   ]
  },
  {
   "cell_type": "markdown",
   "id": "f4ff64be-e096-47f6-8080-2da0627f96b1",
   "metadata": {},
   "source": [
    "---------\n",
    "Дальше нужна модель, которая будет эти отзывы оценивать, та же, что требуется по заданию"
   ]
  },
  {
   "cell_type": "code",
   "execution_count": 6,
   "id": "0c57a3a0-7d98-4a2d-9a15-93418e2e2a46",
   "metadata": {
    "tags": []
   },
   "outputs": [],
   "source": [
    "model_name = \"lvwerra/distilbert-imdb\"\n",
    "\n",
    "clf_tokenizer = DistilBertTokenizer.from_pretrained(model_name)\n",
    "clf = DistilBertForSequenceClassification.from_pretrained(model_name).to(device)\n",
    "sigmoid = nn.Sigmoid()"
   ]
  },
  {
   "cell_type": "markdown",
   "id": "0c0e2f42-c278-4dce-8fa1-ffaae8077882",
   "metadata": {},
   "source": [
    "Сразу же добавлю функцию классификации и посчитаю средний скор по каждой из стратегий генерации - рандомной, позитивной, негативной. Заодно посмотрим на влияние байаса"
   ]
  },
  {
   "cell_type": "code",
   "execution_count": 7,
   "id": "6eee0868-5aa1-4975-bc4e-ba603620b9ed",
   "metadata": {
    "tags": []
   },
   "outputs": [],
   "source": [
    "def classify(inp, as_proba=True):\n",
    "    inputs = clf_tokenizer(inp, return_tensors=\"pt\").to(device)\n",
    "    with torch.no_grad():\n",
    "        logits = clf(**inputs).logits\n",
    "    if as_proba:\n",
    "        logits = sigmoid(logits)\n",
    "    return logits[:, 1].cpu().numpy()\n",
    "\n",
    "multiclassify = np.vectorize(classify)"
   ]
  },
  {
   "cell_type": "code",
   "execution_count": 96,
   "id": "96c32223-ecfa-45de-9a76-7c88f9378da8",
   "metadata": {
    "tags": []
   },
   "outputs": [
    {
     "data": {
      "application/vnd.jupyter.widget-view+json": {
       "model_id": "6dcf0d1e76d84fbc8ca1cc8e6911d79d",
       "version_major": 2,
       "version_minor": 0
      },
      "text/plain": [
       "  0%|          | 0/30 [00:00<?, ?it/s]"
      ]
     },
     "metadata": {},
     "output_type": "display_data"
    },
    {
     "name": "stdout",
     "output_type": "stream",
     "text": [
      "This movie is great. It's a must see if you are looking for a good horror movie or just want to see the best of the genre. You will love this movie. A must-see for any horror fan. If you don't like horror movies, don´t waste your time on this one.\n",
      "This movie is great. It has a great script and a good cast. This movie should have been made in the 90's. The only bad thing about this movie was that it didn't have anything to do with the \"movie\" at all. There was nothing to talk about other than the fact that no one cared about the movie. I felt sorry for these people who lost their jobs and had to go to college, but I feel sorry more for the people involved in this film. Don't waste your money on this crap. If you want to see a better version of this kind of movie, don't rent it.\n",
      "This movie is great. I love it so much that I am renting it on DVD. It is the only movie I have ever seen in my whole life. If you are looking for a good horror movie, check this one out. Don't miss it.\n"
     ]
    },
    {
     "data": {
      "text/plain": [
       "{'random': 0.44256103, 'negative': 0.0569645, 'positive': 0.8428106}"
      ]
     },
     "execution_count": 96,
     "metadata": {},
     "output_type": "execute_result"
    }
   ],
   "source": [
    "n_samples = 30\n",
    "samples = np.empty((n_samples, 3), dtype=object)\n",
    "for i in trange(n_samples):\n",
    "    for j, guidance in enumerate([None, \"negative\", \"positive\"]):\n",
    "        samples[i, j] = generate_from_input(\n",
    "            naive_guidance=guidance, **default_generation_config\n",
    "        )\n",
    "\n",
    "scores = multiclassify(samples)\n",
    "print(*samples[:3, 2], sep=\"\\n\")\n",
    "dict(zip([\"random\", \"negative\", \"positive\"], scores.mean(0)))"
   ]
  },
  {
   "cell_type": "code",
   "execution_count": 97,
   "id": "15e3fd32-d9db-470f-9d3c-619dcf853f50",
   "metadata": {
    "tags": []
   },
   "outputs": [
    {
     "data": {
      "application/vnd.jupyter.widget-view+json": {
       "model_id": "540dd60a70264cdbb0e5b17bb0a8c86c",
       "version_major": 2,
       "version_minor": 0
      },
      "text/plain": [
       "  0%|          | 0/30 [00:00<?, ?it/s]"
      ]
     },
     "metadata": {},
     "output_type": "display_data"
    },
    {
     "name": "stdout",
     "output_type": "stream",
     "text": [
      "This movie is great. I love the good acting and the wonderful soundtrack. The sound quality is good too. This is a good movie to watch over and over again. If you like good horror movies with good music, great cinematography and good special effects, then check this one out. Even if you don't like this movie, stay away from it. Don't rent this film unless you are a fan of great horror films.\n",
      "This movie is great. I don't think I've ever seen a movie like this before. The acting is good, the story is interesting, and the music is wonderful. It's good to see the good old days of the 70's and 80's. Don't get me wrong, it's great to watch great movies. However, if you're a fan of good movies, you'll love this movie. You won't regret it. If you are looking for a good movie with good music, good acting, great songs, excellent cinematography, or good special effects, this is the movie for you.\n",
      "This movie is great. It has great chemistry with all the great actors in this movie. I love the fact that every one of them was great and it's nice to know that many of the actors are great in their own way. The movie has a great story, great special effects, good music and great characters. This movie will make you want to see more movies like this one. Check it out if you haven't already. You'll be glad you did.\n"
     ]
    },
    {
     "data": {
      "text/plain": [
       "{'random': 0.56497085, 'negative': 0.050454352, 'positive': 0.88085556}"
      ]
     },
     "execution_count": 97,
     "metadata": {},
     "output_type": "execute_result"
    }
   ],
   "source": [
    "n_samples = 30\n",
    "samples = np.empty((n_samples, 3), dtype=object)\n",
    "for i in trange(n_samples):\n",
    "    for j, (guidance, bias) in enumerate(\n",
    "        zip([None, \"negative\", \"positive\"], [None, neg_bias, pos_bias])\n",
    "    ):\n",
    "        samples[i, j] = generate_from_input(\n",
    "            naive_guidance=guidance, sequence_bias=bias, **default_generation_config\n",
    "        )\n",
    "\n",
    "scores = multiclassify(samples)\n",
    "print(*samples[:3, 2], sep=\"\\n\")\n",
    "dict(zip([\"random\", \"negative\", \"positive\"], scores.mean(0)))"
   ]
  },
  {
   "cell_type": "markdown",
   "id": "062b647b-ed66-4f23-8347-9e02da0e1544",
   "metadata": {},
   "source": [
    "Как можно заметить, если добавить байас, то позитивность растёт сильно, но это бьёт по дайверсити, как мы неоднократно похже увидим - там одни и те же слова. Позже я приду к выводу, что нужны и как можно более разные тексты, и как можно более положительные, так что можно это обеспечить сразу и выбрать всё же вариант без байаса, но отобрать из него всё самое положительное. Нагенерирую побольше образцов, хотя для обучения понадобится не так много. В целом всё вроде работает, это успех. Разве что сами отзывы порой бредовые из-за температуры"
   ]
  },
  {
   "cell_type": "code",
   "execution_count": 11,
   "id": "0f0b34b1-6dc3-4884-ab15-755911386420",
   "metadata": {
    "tags": []
   },
   "outputs": [
    {
     "data": {
      "application/vnd.jupyter.widget-view+json": {
       "model_id": "c4dcd12932d048cf8bf0cd4d8553077b",
       "version_major": 2,
       "version_minor": 0
      },
      "text/plain": [
       "  0%|          | 0/3000 [00:00<?, ?it/s]"
      ]
     },
     "metadata": {},
     "output_type": "display_data"
    }
   ],
   "source": [
    "seed_everything(69)\n",
    "\n",
    "n_samples = 3000\n",
    "samples = np.empty(n_samples, dtype=object)\n",
    "for i in trange(n_samples):\n",
    "    sample = generate_from_input(naive_guidance=\"positive\", **default_generation_config)\n",
    "    samples[i] = sample.replace(\"This movie is great. \", \"\")"
   ]
  },
  {
   "cell_type": "markdown",
   "id": "a5e7e822-87a2-4aec-adf4-926313b66479",
   "metadata": {},
   "source": [
    "------------------------\n",
    "Дальше нужно каждый из них оценить, благо это не очень долго. Средний реворд действительно больше 0, всё в целом нормально, разнообразие тоже посчитано внизу, но кажется, что разницы между сентиментом и ревордом нет, так что who cares"
   ]
  },
  {
   "cell_type": "code",
   "execution_count": 13,
   "id": "12e75d77-9136-4c96-96d4-4fbde2610344",
   "metadata": {
    "tags": []
   },
   "outputs": [
    {
     "data": {
      "text/plain": [
       "'Mean reward: 1.5335084199905396, Max reward: 2.936217784881592, Diversity: 5.668224415824242'"
      ]
     },
     "execution_count": 13,
     "metadata": {},
     "output_type": "execute_result"
    }
   ],
   "source": [
    "reward = np.vectorize(lambda x: classify(x, False))(samples)\n",
    "diversity = token_entropy(samples, tokenizer)\n",
    "f\"Mean reward: {reward.mean()}, Max reward: {reward.max()}, Diversity: {diversity}\""
   ]
  },
  {
   "cell_type": "markdown",
   "id": "d6a7e8f0-3c0e-4431-9f65-c2cade8272a8",
   "metadata": {},
   "source": [
    "Все отзывы и реворды я на всякий случай сохранил, ведь считаются они долго"
   ]
  },
  {
   "cell_type": "code",
   "execution_count": 4,
   "id": "50f73dd6-e6de-4438-a221-3255bd2315c4",
   "metadata": {
    "tags": []
   },
   "outputs": [],
   "source": [
    "# np.savez(\"src/samples\", samples)\n",
    "# np.savez(\"src/rewards\", reward)\n",
    "\n",
    "samples = np.load(\"src/samples.npz\", allow_pickle=True)[\"arr_0\"]\n",
    "reward = np.load(\"src/rewards.npz\")[\"arr_0\"]"
   ]
  },
  {
   "cell_type": "markdown",
   "id": "88335b05-35b9-4b8b-87b1-338f93cf1d5a",
   "metadata": {},
   "source": [
    "Я возьму за хорошие пары все те, у которых реворд больше 2.5, кажется, что они достаточно положительные. Если взять больший трешхолд, то в rejected могут оказаться положительные отзывы, но недостаточно подробные, например. Проблема может быть в том, что некоторые тексты окажутся уж слишком похожи и нашей модели ничего нового не сообщат. На самом деле это вполне успешно фиксится убиранием байаса, как я сделал выше, но фильтр по дайвёрсити тоже можно добавить, я сделал ниже. Но он работает очень долго, лучше решить проблему сразу на этапе генерации. Отрицательные пары это те, реворд которых меньше 1.75. Ниже примерчики"
   ]
  },
  {
   "cell_type": "code",
   "execution_count": 13,
   "id": "0ab7f3d4-3cab-4ce1-b585-7c3a42f08336",
   "metadata": {
    "tags": []
   },
   "outputs": [
    {
     "data": {
      "text/plain": [
       "(1163, 1089)"
      ]
     },
     "execution_count": 13,
     "metadata": {},
     "output_type": "execute_result"
    }
   ],
   "source": [
    "winner = reward >= 2.5\n",
    "loser = reward < 1.75\n",
    "\n",
    "winner.sum(), loser.sum()"
   ]
  },
  {
   "cell_type": "code",
   "execution_count": 14,
   "id": "d8c643b3-11c2-4f18-896b-a28adc9ef98e",
   "metadata": {
    "tags": []
   },
   "outputs": [
    {
     "data": {
      "text/plain": [
       "(array([\"I loved it so much that I rented it on DVD and watched it several times over the course of a couple of weeks. It's a fun film to watch, and I'm not going to tell you how many times I watched this movie. But if you're looking for a great romantic comedy, check it out.\"],\n",
       "       dtype=object),\n",
       " array([\"It's a great story, but at the same time it's one of the most boring movies I've ever seen. I don't know about you, or maybe you haven't seen the movie yet, and I'm sure you won't. But if you do see this movie, be prepared for an hour and a half that will make you want to kill yourself. Don't waste your time with this bad movie.\"],\n",
       "       dtype=object))"
      ]
     },
     "execution_count": 14,
     "metadata": {},
     "output_type": "execute_result"
    }
   ],
   "source": [
    "np.random.choice(samples[winner], 1), np.random.choice(samples[loser], 1), "
   ]
  },
  {
   "cell_type": "code",
   "execution_count": 6,
   "id": "d5918fc0-5b78-4569-b5a4-0f766b590e8c",
   "metadata": {
    "tags": []
   },
   "outputs": [],
   "source": [
    "# # pdist from scipy is not as convenient\n",
    "# # да, это довольно долго\n",
    "\n",
    "# dist_set = winner_samples\n",
    "# N = len(dist_set)\n",
    "# pdist = np.empty((N, N), dtype=float)\n",
    "\n",
    "# for i in trange(N):\n",
    "#     for j in range(i+1, N):\n",
    "#         pdist[i, j] = token_entropy([dist_set[i], dist_set[j]], tokenizer)\n",
    "#         pdist[j, i] = pdist[i, j]"
   ]
  },
  {
   "cell_type": "markdown",
   "id": "f0771ec6-4047-42b8-b825-41a95a68f9e9",
   "metadata": {},
   "source": [
    "Останется только собрать из них датасет и можно будет приступать к обучению. Всё это уже завёрнуто в пайплайн, но здесь тоже можно полюбоваться"
   ]
  },
  {
   "cell_type": "code",
   "execution_count": 13,
   "id": "34bec805-15a1-4b84-b20f-657d91152892",
   "metadata": {
    "tags": []
   },
   "outputs": [],
   "source": [
    "def generate_dataset(n_samples):\n",
    "    \n",
    "    dpo_dataset = defaultdict(list)\n",
    "\n",
    "    winner_sample = np.random.choice(winner_samples, size=n_samples)\n",
    "    loser_sample = np.random.choice(loser_samples, size=n_samples)\n",
    "    prompts = [\"This movie is great. \"]*n_samples\n",
    "\n",
    "    dpo_dataset[\"prompt\"] = prompts\n",
    "    dpo_dataset[\"chosen\"] = winner_sample  \n",
    "    dpo_dataset[\"rejected\"] = loser_sample\n",
    "\n",
    "    dpo_dataset = Dataset.from_dict(dpo_dataset)\n",
    "    dpo_dataset = dpo_dataset.map(batched=True)\n",
    "    \n",
    "    return dpo_dataset\n",
    "\n",
    "def get_imdb_prompts(n_samples):\n",
    "    dataset = load_dataset(\"imdb\")\n",
    "    imdb_prompts = [row[\"text\"].split(\".\")[0] for row in dataset[\"train\"] if row[\"label\"] == 1]\n",
    "    return np.random.choice(imdb_prompts, n_samples)"
   ]
  },
  {
   "cell_type": "markdown",
   "id": "58d03655-7d2e-4582-a595-324d617045e0",
   "metadata": {},
   "source": [
    "#### 1.2 Сравнение лоссов\n",
    "------------\n",
    "Всю логику обучения я оформил в отдельном классе, потому что вызывать её придётся очень часто, можно с этим ознакомиться там. Вкратце: загружаем датасет, копируем модельки, запускаем `DPOTrainer` с нужными параметрами, обучаем, сохраняем метрики. Фактически делается всё то же самое, что я только что описал в ячейках выше. Запусков несколько, но сид между ними общий, чтобы можно было адекватно сравнивать"
   ]
  },
  {
   "cell_type": "code",
   "execution_count": 14,
   "id": "b00f4060-3200-478c-b8b7-d3714e010292",
   "metadata": {
    "tags": []
   },
   "outputs": [],
   "source": [
    "import pandas as pd\n",
    "import numpy as np\n",
    "from pipeline import Pipeline\n",
    "from tqdm.auto import trange\n",
    "from glob import glob"
   ]
  },
  {
   "cell_type": "markdown",
   "id": "9a2ae553-c5c7-4604-88d4-656604c8baf1",
   "metadata": {},
   "source": [
    "Сперва всё равно нужен обычный запуск, чтобы сравнивать, насколько улучшилось качество"
   ]
  },
  {
   "cell_type": "code",
   "execution_count": null,
   "id": "7bcb725a-2665-45ba-a243-65291bc1b56a",
   "metadata": {
    "tags": []
   },
   "outputs": [],
   "source": [
    "pipe = Pipeline()\n",
    "pipe.evaluate(f\"default\", n_samples=100)"
   ]
  },
  {
   "cell_type": "markdown",
   "id": "50b64979-0fef-461f-8a92-dc717c40fc73",
   "metadata": {},
   "source": [
    "Дальше уже можно делать собственно задание"
   ]
  },
  {
   "cell_type": "code",
   "execution_count": null,
   "id": "e0f092e3-f565-4212-b468-ec3dbf5c6118",
   "metadata": {
    "scrolled": true,
    "tags": []
   },
   "outputs": [
    {
     "data": {
      "application/vnd.jupyter.widget-view+json": {
       "model_id": "bef54f45038848f3bd903f342636b06c",
       "version_major": 2,
       "version_minor": 0
      },
      "text/plain": [
       "  0%|          | 0/5 [00:00<?, ?it/s]"
      ]
     },
     "metadata": {},
     "output_type": "display_data"
    },
    {
     "data": {
      "application/vnd.jupyter.widget-view+json": {
       "model_id": "66ac3dbeb78240f7a2ebf4ec4f3988ed",
       "version_major": 2,
       "version_minor": 0
      },
      "text/plain": [
       "Map:   0%|          | 0/1000 [00:00<?, ? examples/s]"
      ]
     },
     "metadata": {},
     "output_type": "display_data"
    },
    {
     "data": {
      "application/vnd.jupyter.widget-view+json": {
       "model_id": "7e3b133b37c94902a323a4b1c989c147",
       "version_major": 2,
       "version_minor": 0
      },
      "text/plain": [
       "Map:   0%|          | 0/800 [00:00<?, ? examples/s]"
      ]
     },
     "metadata": {},
     "output_type": "display_data"
    },
    {
     "data": {
      "application/vnd.jupyter.widget-view+json": {
       "model_id": "0b6cad2d20cf4dcda25ba2abad83caba",
       "version_major": 2,
       "version_minor": 0
      },
      "text/plain": [
       "Map:   0%|          | 0/200 [00:00<?, ? examples/s]"
      ]
     },
     "metadata": {},
     "output_type": "display_data"
    },
    {
     "name": "stderr",
     "output_type": "stream",
     "text": [
      "Detected kernel version 4.15.0, which is below the recommended minimum of 5.5.0; this can cause the process to hang. It is recommended to upgrade the kernel to the minimum version or higher.\n",
      "Could not estimate the number of tokens of the input, floating-point operations will not be computed\n"
     ]
    },
    {
     "name": "stdout",
     "output_type": "stream",
     "text": [
      "{'eval_loss': 1.0, 'eval_runtime': 109.4007, 'eval_samples_per_second': 1.828, 'eval_steps_per_second': 1.828, 'eval_rewards/chosen': 0.0, 'eval_rewards/rejected': 0.0, 'eval_rewards/accuracies': 0.0, 'eval_rewards/margins': 0.0, 'eval_logps/rejected': -1280.8216552734375, 'eval_logps/chosen': -322.8234558105469, 'eval_logits/rejected': -52.44643020629883, 'eval_logits/chosen': -51.158809661865234, 'epoch': 1.0}\n",
      "{'eval_loss': 1.0, 'eval_runtime': 107.1882, 'eval_samples_per_second': 1.866, 'eval_steps_per_second': 1.866, 'eval_rewards/chosen': 0.0, 'eval_rewards/rejected': 0.0, 'eval_rewards/accuracies': 0.0, 'eval_rewards/margins': 0.0, 'eval_logps/rejected': -6991.60205078125, 'eval_logps/chosen': -2182.47314453125, 'eval_logits/rejected': -33.1998176574707, 'eval_logits/chosen': -36.7837028503418, 'epoch': 2.0}\n"
     ]
    },
    {
     "name": "stderr",
     "output_type": "stream",
     "text": [
      "Checkpoint destination directory experiment_logs/checkpoint-500 already exists and is non-empty.Saving will proceed but saved results may be invalid.\n"
     ]
    },
    {
     "name": "stdout",
     "output_type": "stream",
     "text": [
      "{'loss': 1.0, 'learning_rate': 2.702702702702703e-06, 'rewards/chosen': 0.0, 'rewards/rejected': 0.0, 'rewards/accuracies': 0.0, 'rewards/margins': 0.0, 'logps/rejected': -3741.187744140625, 'logps/chosen': -1396.5260009765625, 'logits/rejected': -41.03522872924805, 'logits/chosen': -41.643829345703125, 'epoch': 2.5}\n",
      "{'eval_loss': 1.0, 'eval_runtime': 98.6584, 'eval_samples_per_second': 2.027, 'eval_steps_per_second': 2.027, 'eval_rewards/chosen': 0.0, 'eval_rewards/rejected': 0.0, 'eval_rewards/accuracies': 0.0, 'eval_rewards/margins': 0.0, 'eval_logps/rejected': -8539.861328125, 'eval_logps/chosen': -2721.215087890625, 'eval_logits/rejected': -33.41294860839844, 'eval_logits/chosen': -36.64543533325195, 'epoch': 3.0}\n"
     ]
    }
   ],
   "source": [
    "for i in trange(5):\n",
    "    pipe = Pipeline()\n",
    "    pipe.train(loss_type=\"hinge\", n_samples=1000, random_state=i)\n",
    "    pipe.evaluate(f\"hinge_{i}\", n_samples=100)"
   ]
  },
  {
   "cell_type": "markdown",
   "id": "7967ffe9-8673-4e46-9886-d9b5b5393fc8",
   "metadata": {},
   "source": [
    "Если взять какой-нибудь нейтральный промпт, то результаты будут очень даже ничего"
   ]
  },
  {
   "cell_type": "code",
   "execution_count": 5,
   "id": "6e95c1a5-983f-4d2f-b768-c0da5c354bf1",
   "metadata": {
    "tags": []
   },
   "outputs": [
    {
     "name": "stdout",
     "output_type": "stream",
     "text": [
      "This movie is a must-see for all fans of science fiction, sci-fi and fantasy.\n",
      "This movie is one of my all-time favorites.\n",
      "This movie is well worth every minute of your time. I highly recommend this movie to all of you.\n"
     ]
    }
   ],
   "source": [
    "# hinge\n",
    "\n",
    "for _ in range(3):\n",
    "    print(pipe.generate_from_input(\"This movie\"))"
   ]
  },
  {
   "cell_type": "markdown",
   "id": "e6ad39aa-b047-4bb6-911a-e3664aabef13",
   "metadata": {},
   "source": [
    "Ну и из того, что модель нагенерировала во время оценки качества, тоже неплохо, только мусорные теги немного уродуют тексты"
   ]
  },
  {
   "cell_type": "code",
   "execution_count": 41,
   "id": "f3d71b51-f3cd-47ce-9ab2-078436049ff9",
   "metadata": {
    "tags": []
   },
   "outputs": [
    {
     "data": {
      "text/plain": [
       "array(['... the music is outstanding, and the acting is superb. I highly recommend this film to anyone interested in the world of music. 10 out of 10.',\n",
       "       \"... and it's worth a watch.<BR><Br />8/10.\",\n",
       "       '... of this film. I highly recommend this movie to anyone who loves suspense and thriller. 10 out of 10.'],\n",
       "      dtype=object)"
      ]
     },
     "execution_count": 41,
     "metadata": {},
     "output_type": "execute_result"
    }
   ],
   "source": [
    "pd.read_csv(\"experiments/hinge_0.csv\").sample(3)[\"sample\"].values"
   ]
  },
  {
   "cell_type": "markdown",
   "id": "3cb858bf-10b0-4db0-b49f-b5ce930dc8fd",
   "metadata": {},
   "source": [
    "Осталось посмотреть на sigmoid лосс"
   ]
  },
  {
   "cell_type": "code",
   "execution_count": null,
   "id": "426eb5b2-28eb-424c-a527-a3521135587a",
   "metadata": {
    "scrolled": true,
    "tags": []
   },
   "outputs": [],
   "source": [
    "for i in trange(10):\n",
    "    pipe = Pipeline()\n",
    "    pipe.train(loss_type=\"sigmoid\", n_samples=200, random_state=i)\n",
    "    pipe.evaluate(f\"sigmoid_{i}\", n_samples=100)"
   ]
  },
  {
   "cell_type": "code",
   "execution_count": 4,
   "id": "3e3dba69-5368-4f43-bdb0-4a980dde0545",
   "metadata": {
    "tags": []
   },
   "outputs": [
    {
     "name": "stdout",
     "output_type": "stream",
     "text": [
      "This movie great this movie. It is great. The acting is good, the story is well told, and the special effects are very good. This is one of the best movies I have seen in a long time.\n",
      "This movie great this movie. It is great. The acting is good, the story is well told, and the characters are well developed. This is one of the best movies I have seen in a long time.\n",
      "This movie great this movie. It is great. The acting is good, the story is well told, and the special effects are very good. This is one of the best movies I have seen in a long time.\n"
     ]
    }
   ],
   "source": [
    "# sigmoid\n",
    "\n",
    "for _ in range(3):\n",
    "    print(pipe.generate_from_input(\"This movie\"))"
   ]
  },
  {
   "cell_type": "code",
   "execution_count": 19,
   "id": "edc175c5-b5af-4e6a-ab18-f1062658ad1a",
   "metadata": {
    "tags": []
   },
   "outputs": [],
   "source": [
    "all_dfs = [df for loss in [\"sigmoid\", \"hinge\", \"default\"] for df in glob(f\"experiments/{loss}*.csv\")]\n",
    "summary = pd.concat([pd.read_csv(df) for df in all_dfs])\n",
    "summary[\"experiment\"] = summary.experiment.map(lambda x: x.split(\"_\")[0])"
   ]
  },
  {
   "cell_type": "code",
   "execution_count": 21,
   "id": "d0be4683-71a5-410d-954a-8734ed1e1bba",
   "metadata": {
    "tags": []
   },
   "outputs": [
    {
     "data": {
      "text/html": [
       "<div>\n",
       "<style scoped>\n",
       "    .dataframe tbody tr th:only-of-type {\n",
       "        vertical-align: middle;\n",
       "    }\n",
       "\n",
       "    .dataframe tbody tr th {\n",
       "        vertical-align: top;\n",
       "    }\n",
       "\n",
       "    .dataframe thead th {\n",
       "        text-align: right;\n",
       "    }\n",
       "</style>\n",
       "<table border=\"1\" class=\"dataframe\">\n",
       "  <thead>\n",
       "    <tr style=\"text-align: right;\">\n",
       "      <th></th>\n",
       "      <th>0</th>\n",
       "      <th>1</th>\n",
       "      <th>2</th>\n",
       "      <th>3</th>\n",
       "    </tr>\n",
       "  </thead>\n",
       "  <tbody>\n",
       "    <tr>\n",
       "      <th>experiment</th>\n",
       "      <td>default</td>\n",
       "      <td>hinge</td>\n",
       "      <td>sigmoid</td>\n",
       "      <td>best</td>\n",
       "    </tr>\n",
       "    <tr>\n",
       "      <th>reward</th>\n",
       "      <td>-0.068486</td>\n",
       "      <td>2.5702</td>\n",
       "      <td>2.579585</td>\n",
       "      <td>2.935</td>\n",
       "    </tr>\n",
       "    <tr>\n",
       "      <th>diversity</th>\n",
       "      <td>5.825884</td>\n",
       "      <td>4.65901</td>\n",
       "      <td>4.661635</td>\n",
       "      <td>4.732</td>\n",
       "    </tr>\n",
       "  </tbody>\n",
       "</table>\n",
       "</div>"
      ],
      "text/plain": [
       "                   0        1         2      3\n",
       "experiment   default    hinge   sigmoid   best\n",
       "reward     -0.068486   2.5702  2.579585  2.935\n",
       "diversity   5.825884  4.65901  4.661635  4.732"
      ]
     },
     "execution_count": 21,
     "metadata": {},
     "output_type": "execute_result"
    }
   ],
   "source": [
    "mean_summary = (\n",
    "    summary \\\n",
    "    .groupby(\"experiment\") \\\n",
    "    .mean(\"reward\") \\\n",
    "    .sort_values(\"reward\") \\\n",
    "    .reset_index()\n",
    ")\n",
    "mean_summary.loc[mean_summary.shape[0]] = [\"best\", 2.935, 4.732]\n",
    "mean_summary.T"
   ]
  },
  {
   "cell_type": "markdown",
   "id": "99bd87c3-42ad-4718-aa1e-90b7deb984a6",
   "metadata": {},
   "source": [
    "Как видно, между лоссами нет особой разницы, как обычно её нет при обучении свм и логрега. В общем и целом можно заметить, что средний реворд действительно вырос и очень даже неплохо, но при этом сильно пострадало разнообразие текстов. К сожалению, это суровая реальность - если генерировать только позитив, негатива, например, не будет. Можно заметить, что лоссы почти одинаковые, это может быть не очень хорошо, но быть может и обучение было проведено тоже не идеально. За `best` я взял распределение из виннеров, которое получилось после отбора кандидатов, в идеале хотели бы что-то такое, что я отфильтровал из датасета в части 1.1"
   ]
  },
  {
   "cell_type": "markdown",
   "id": "1cad2753-eed2-43b5-902f-c196d9126850",
   "metadata": {},
   "source": [
    "Последнее, что можно сделать, это в целом оценить распределение ревордов и дайвёрсити разных лоссов, может быть хотя бы в этом они отличаются. Тогда лучше взять то, что будет постабильнее. Тут как раз и сравним с исходной sft моделью. Графики издалека выглядят не очень, но всегда можно приблизить, если что"
   ]
  },
  {
   "cell_type": "code",
   "execution_count": 24,
   "id": "ae58973e-2c8b-4b6f-bf06-5c5abdf35795",
   "metadata": {
    "tags": []
   },
   "outputs": [
    {
     "data": {
      "application/vnd.plotly.v1+json": {
       "config": {
        "plotlyServerURL": "https://plot.ly"
       },
       "data": [
        {
         "alignmentgroup": "True",
         "bingroup": "x",
         "hovertemplate": "experiment=sigmoid<br>reward=%{x}<br>count=%{y}<extra></extra>",
         "legendgroup": "sigmoid",
         "marker": {
          "color": "crimson",
          "line": {
           "color": "white",
           "width": 1
          },
          "opacity": 0.5,
          "pattern": {
           "shape": ""
          }
         },
         "name": "sigmoid",
         "nbinsx": 150,
         "offsetgroup": "sigmoid",
         "orientation": "v",
         "showlegend": true,
         "type": "histogram",
         "x": [
          2.585515,
          2.9021287,
          2.8297346,
          2.8253546,
          0.21739426,
          2.3805833,
          2.888997,
          2.8008602,
          2.866629,
          2.8457034,
          2.8499668,
          2.7910154,
          2.8891811,
          2.9250681,
          2.8141584,
          2.8792553,
          2.7543697,
          2.8729892,
          2.8805203,
          2.8561816,
          2.237292,
          2.830462,
          2.887426,
          2.8813736,
          2.8842084,
          2.852761,
          2.884945,
          2.764987,
          2.5505643,
          2.8140597,
          2.8689044,
          2.843741,
          2.8118134,
          2.9107366,
          2.797085,
          2.8468907,
          2.8381772,
          2.853007,
          2.7426188,
          2.8875108,
          2.901116,
          2.7182562,
          2.8460777,
          2.6003335,
          2.8302963,
          2.7389653,
          2.7124066,
          2.7604697,
          2.8466086,
          2.6552072,
          2.9209454,
          2.871612,
          2.88888,
          2.7346325,
          2.6009831,
          2.7304838,
          2.8000329,
          2.806707,
          2.8450422,
          2.8272054,
          -0.063555785,
          2.778283,
          2.7252533,
          2.841313,
          2.802558,
          2.8596473,
          -0.063555785,
          2.8135371,
          2.8344204,
          2.5979564,
          2.8059096,
          2.7302473,
          2.784375,
          2.8771937,
          2.85158,
          -0.063555785,
          2.8619015,
          2.8208745,
          2.658858,
          2.6451812,
          1.437103,
          2.790075,
          2.833533,
          2.8154175,
          2.8488052,
          2.7247484,
          2.875708,
          2.8080313,
          2.6395144,
          2.7527595,
          2.878439,
          2.7101967,
          2.8550675,
          -0.027459579,
          2.796991,
          2.7502959,
          2.877357,
          2.7869387,
          2.6401174,
          2.8946283,
          2.7817554,
          2.8388305,
          2.721525,
          -0.063555785,
          2.7769368,
          2.6167738,
          2.6887622,
          2.8557043,
          2.8251996,
          2.8092208,
          2.8081217,
          2.7537298,
          2.7733915,
          2.8547554,
          2.7612596,
          2.7082765,
          2.7694383,
          1.686842,
          2.734498,
          2.5163336,
          1.6459178,
          2.7149239,
          2.7623236,
          2.82048,
          2.7882643,
          2.8457136,
          2.7554722,
          1.2088616,
          2.5220551,
          2.5841932,
          2.820825,
          2.769859,
          2.76802,
          2.800989,
          2.8135242,
          2.7533479,
          2.7791486,
          -0.063555785,
          2.814965,
          2.852724,
          -0.063555785,
          0.012570442,
          2.6932075,
          2.5872495,
          -2.8318448,
          2.6866412,
          2.7171593,
          2.700575,
          2.8013773,
          2.788872,
          -0.063555785,
          2.6220944,
          2.2732718,
          2.7228737,
          2.726109,
          -0.063555785,
          1.3513677,
          2.5512023,
          2.8520637,
          2.16347,
          2.793903,
          2.6908646,
          2.603672,
          2.6516693,
          2.6961985,
          2.4766047,
          2.689796,
          2.0422971,
          2.86819,
          2.7373855,
          2.874999,
          2.5046487,
          2.806933,
          2.8461258,
          2.7639098,
          2.531295,
          2.879064,
          2.7418292,
          2.8240008,
          2.8105936,
          2.7701378,
          2.8441315,
          2.8341022,
          2.7725854,
          2.9079525,
          2.2737155,
          2.7077389,
          2.8036761,
          2.5829482,
          0.48965082,
          1.1758293,
          2.698053,
          2.7749887,
          2.8135567,
          2.845998,
          2.477024,
          2.7028816,
          2.8626668,
          2.7610314,
          1.708024,
          2.8591022,
          2.8837986,
          2.8961377,
          2.6584573,
          2.8742213,
          2.8708751,
          2.4759395,
          2.8529637,
          -0.027459579,
          2.8542538,
          2.8278594,
          2.5986762,
          2.7924123,
          2.8416421,
          2.9111128,
          2.4942906,
          2.8237824,
          2.8286767,
          2.854529,
          -0.063555785,
          2.8262818,
          2.8584094,
          2.8828278,
          2.8660975,
          2.87678,
          2.9246812,
          2.859716,
          2.7998667,
          2.3345957,
          2.8849914,
          -0.063555785,
          2.878672,
          2.869385,
          2.7068033,
          2.7709591,
          2.739257,
          2.7729158,
          2.884533,
          2.9093723,
          0.91308856,
          2.8551254,
          2.824269,
          2.3291354,
          2.7919533,
          -0.027459579,
          -0.063555785,
          2.8683589,
          2.744744,
          2.7485218,
          2.6559196,
          2.0725188,
          2.8266764,
          2.8211608,
          2.847781,
          2.862696,
          2.6102545,
          2.7725263,
          2.8294568,
          2.888329,
          2.880019,
          2.8731966,
          2.701091,
          2.8227584,
          2.8243945,
          -0.027459579,
          2.7903469,
          2.8765395,
          2.7749887,
          -0.027459579,
          2.7643936,
          2.7508304,
          2.8081384,
          2.8836858,
          2.9313698,
          2.637124,
          2.854424,
          2.837416,
          2.8506393,
          2.764215,
          2.8545008,
          2.7184598,
          2.8177836,
          2.8001792,
          2.7790387,
          2.8555813,
          2.8262997,
          2.8827703,
          2.7712345,
          2.7753077,
          2.7801003,
          2.8281653,
          2.8013577,
          1.4716005,
          2.8989599,
          2.7606766,
          2.7179506,
          2.6909742,
          2.7729635,
          2.899989,
          -0.48074752,
          2.7524984,
          2.9001925,
          2.7369375,
          2.7962863,
          2.909465,
          0.735977,
          2.8666334,
          2.8080919,
          1.8741922,
          2.8190289,
          2.7962122,
          2.8517435,
          2.712542,
          2.8706698,
          2.8126142,
          2.6371088,
          2.75983,
          2.7888951,
          2.730978,
          2.8072553,
          2.902813,
          2.8748894,
          2.8739371,
          2.6594083,
          2.7631197,
          2.6786914,
          2.8551483,
          2.4286096,
          2.8089914,
          2.916109,
          2.5908284,
          2.928439,
          2.7873645,
          2.8880258,
          2.759655,
          2.7905672,
          2.7170932,
          2.8296347,
          2.9010317,
          2.8260386,
          2.7180054,
          2.8687549,
          2.9161851,
          2.7191894,
          2.853135,
          2.8341303,
          -0.027459579,
          2.7783022,
          2.842452,
          2.8402896,
          2.6351752,
          2.891768,
          2.7384746,
          2.8441498,
          2.854969,
          2.8608472,
          2.6753635,
          2.8832886,
          2.7857,
          2.6531475,
          2.8912096,
          -0.063555785,
          2.6550589,
          2.842316,
          2.8253803,
          1.6057396,
          2.8404562,
          2.7707644,
          2.655988,
          2.8790786,
          2.6323028,
          2.8624873,
          -0.027459579,
          2.8704767,
          -0.063555785,
          2.8364515,
          2.7106085,
          2.8756673,
          2.7826586,
          2.8714252,
          2.7208123,
          2.8573074,
          2.8013184,
          2.797436,
          2.8185654,
          2.5433826,
          2.77778,
          2.795089,
          2.834838,
          -0.027459579,
          2.5504534,
          2.8004208,
          2.6091192,
          2.8670282,
          2.736699,
          2.782496,
          2.8320632,
          2.7991881,
          2.8531785,
          2.3562837,
          2.656623,
          2.5770202,
          2.760689,
          2.848605,
          2.8040457,
          2.8438563,
          2.8757205,
          2.8942115,
          2.7522483,
          2.871957,
          2.8716347,
          2.8922682,
          2.868249,
          2.796768,
          2.8965104,
          0.80448174,
          2.8971143,
          2.814937,
          2.5718644,
          2.7015295,
          2.834873,
          2.799722,
          2.897996,
          2.9237761,
          2.9404128,
          2.8586671,
          2.8105202,
          2.8335757,
          2.8464353,
          2.8855727,
          2.8351834,
          2.8725448,
          2.8177924,
          2.292338,
          2.909367,
          2.90684,
          2.8836207,
          2.8787014,
          2.7698956,
          2.6247754,
          2.6415434,
          2.832687,
          2.4649808,
          2.8860083,
          2.748094,
          2.8607826,
          2.5453153,
          2.7838519,
          2.795435,
          2.9086347,
          2.6666915,
          2.797236,
          2.8047194,
          2.9276843,
          2.808404,
          2.8711145,
          2.793536,
          -0.047088012,
          2.8699384,
          2.815966,
          2.864305,
          2.7923048,
          2.8636,
          2.883063,
          2.802893,
          2.7657123,
          2.8960109,
          2.7990532,
          2.719264,
          2.8534138,
          2.861578,
          2.8140824,
          2.893855,
          2.73941,
          2.8409736,
          2.8811617,
          2.812482,
          2.888119,
          2.7687793,
          2.7659636,
          2.7784712,
          2.7985978,
          2.8069227,
          2.7940898,
          2.8488057,
          2.7749557,
          2.7713077,
          2.8093765,
          2.7798474,
          2.7445445,
          2.6832857,
          2.8320158,
          -0.063555785,
          2.8682494,
          2.803628,
          2.8283634,
          2.8814397,
          2.8697875,
          2.781512,
          2.8564982
         ],
         "xaxis": "x",
         "yaxis": "y"
        },
        {
         "alignmentgroup": "True",
         "bingroup": "x",
         "hovertemplate": "experiment=hinge<br>reward=%{x}<br>count=%{y}<extra></extra>",
         "legendgroup": "hinge",
         "marker": {
          "color": "midnightblue",
          "line": {
           "color": "white",
           "width": 1
          },
          "opacity": 0.5,
          "pattern": {
           "shape": ""
          }
         },
         "name": "hinge",
         "nbinsx": 150,
         "offsetgroup": "hinge",
         "orientation": "v",
         "showlegend": true,
         "type": "histogram",
         "x": [
          2.585515,
          2.9021287,
          2.8297346,
          2.8253546,
          0.21739426,
          2.3805833,
          2.888997,
          2.8008602,
          2.866629,
          2.8457034,
          2.8499668,
          2.7910154,
          2.8891811,
          2.9250681,
          2.8141584,
          2.8792553,
          2.7543697,
          2.8729892,
          2.8805203,
          2.8561816,
          2.237292,
          2.830462,
          2.887426,
          2.8813736,
          2.8842084,
          2.852761,
          2.884945,
          2.764987,
          2.5505643,
          2.8140597,
          2.8689044,
          2.843741,
          2.8118134,
          2.9107366,
          2.797085,
          2.8468907,
          2.8381772,
          2.853007,
          2.7426188,
          2.8875108,
          2.901116,
          2.7182562,
          2.8460777,
          2.6003335,
          2.8302963,
          2.7389653,
          2.7124066,
          2.7604697,
          2.8466086,
          2.6552072,
          2.9209454,
          2.871612,
          2.88888,
          2.7346325,
          2.6009831,
          2.7304838,
          2.8000329,
          2.806707,
          2.8450422,
          2.8272054,
          -0.063555785,
          2.778283,
          2.7252533,
          2.841313,
          2.802558,
          2.8596473,
          -0.063555785,
          2.8135371,
          2.8344204,
          2.5979564,
          2.8059096,
          2.7302473,
          2.784375,
          2.8771937,
          2.85158,
          -0.063555785,
          2.8619015,
          2.8208745,
          2.658858,
          2.6451812,
          1.437103,
          2.790075,
          2.833533,
          2.8154175,
          2.8488052,
          2.7247484,
          2.875708,
          2.8080313,
          2.6395144,
          2.7527595,
          2.878439,
          2.7101967,
          2.8550675,
          -0.027459579,
          2.796991,
          2.7502959,
          2.877357,
          2.7869387,
          2.6401174,
          2.8946283,
          2.7817554,
          2.8388305,
          2.721525,
          -0.063555785,
          2.7769368,
          2.6167738,
          2.6887622,
          2.8557043,
          2.8251996,
          2.8092208,
          2.8081217,
          2.7537298,
          2.7733915,
          2.8547554,
          2.7612596,
          2.7082765,
          2.7694383,
          1.686842,
          2.734498,
          2.5163336,
          1.6459178,
          2.7149239,
          2.7623236,
          2.82048,
          2.7882643,
          2.8457136,
          2.7554722,
          1.2088616,
          2.5220551,
          2.5841932,
          2.820825,
          2.769859,
          2.76802,
          2.800989,
          2.8135242,
          2.7533479,
          2.7791486,
          -0.063555785,
          2.814965,
          2.852724,
          -0.063555785,
          0.012570442,
          2.6932075,
          2.5872495,
          -2.8318448,
          2.6866412,
          2.7171593,
          2.700575,
          2.8013773,
          2.788872,
          -0.063555785,
          2.6220944,
          2.2732718,
          2.7228737,
          2.726109,
          -0.063555785,
          1.3513677,
          2.5512023,
          2.8520637,
          2.16347,
          2.793903,
          2.6908646,
          2.603672,
          2.6516693,
          2.6961985,
          2.4766047,
          2.689796,
          2.0422971,
          2.86819,
          2.7373855,
          2.874999,
          2.5046487,
          2.806933,
          2.8461258,
          2.7639098,
          2.531295,
          2.879064,
          2.7418292,
          2.8240008,
          2.8105936,
          2.7701378,
          2.8441315,
          2.8341022,
          2.7725854,
          2.9079525,
          2.2737155,
          2.7077389,
          2.8036761,
          2.5829482,
          0.48965082,
          1.1758293,
          2.698053,
          2.7749887,
          2.8135567,
          2.845998,
          2.477024,
          2.7028816,
          2.8626668,
          2.7610314,
          1.708024,
          2.8591022,
          2.8837986,
          2.8961377,
          2.6584573,
          2.8742213,
          2.8708751,
          2.4759395,
          2.8529637,
          -0.027459579,
          2.8542538,
          2.8278594,
          2.5986762,
          2.7924123,
          2.8416421,
          2.9111128,
          2.4942906,
          2.8237824,
          2.8286767,
          2.854529,
          -0.063555785,
          2.8262818,
          2.8584094,
          2.8828278,
          2.8660975,
          2.87678,
          2.9246812,
          2.859716,
          2.7998667,
          2.3345957,
          2.8849914,
          -0.063555785,
          2.878672,
          2.869385,
          2.7068033,
          2.7709591,
          2.739257,
          2.7729158,
          2.884533,
          2.9093723,
          0.91308856,
          2.8551254,
          2.824269,
          2.3291354,
          2.7919533,
          -0.027459579,
          -0.063555785,
          2.8683589,
          2.744744,
          2.7485218,
          2.6559196,
          2.0725188,
          2.8266764,
          2.8211608,
          2.847781,
          2.862696,
          2.6102545,
          2.7725263,
          2.8294568,
          2.888329,
          2.880019,
          2.8731966,
          2.701091,
          2.8227584,
          2.8243945,
          -0.027459579,
          2.7903469,
          2.8765395,
          2.7749887,
          -0.027459579,
          2.7643936,
          2.7508304,
          2.8081384,
          2.8836858,
          2.9313698,
          2.637124,
          2.854424,
          2.837416,
          2.8506393,
          2.764215,
          2.8545008,
          2.7184598,
          2.8177836,
          2.8001792,
          2.7790387,
          2.8555813,
          2.8262997,
          2.8827703,
          2.7712345,
          2.7753077,
          2.7801003,
          2.8281653,
          2.8013577,
          1.4716005,
          2.8989599,
          2.7606766,
          2.7179506,
          2.6909742,
          2.7729635,
          2.899989,
          -0.48074752,
          2.7524984,
          2.9001925,
          2.7369375,
          2.7962863,
          2.909465,
          0.735977,
          2.8666334,
          2.8080919,
          1.8741922,
          2.8190289,
          2.7962122,
          2.8517435,
          2.712542,
          2.8706698,
          2.8126142,
          2.6371088,
          2.75983,
          2.7888951,
          2.730978,
          2.8072553,
          2.902813,
          2.8748894,
          2.8739371,
          2.6594083,
          2.7631197,
          2.6786914,
          2.8551483,
          2.4286096,
          2.8089914,
          2.916109,
          2.5908284,
          2.928439,
          2.7873645,
          2.8880258,
          2.759655,
          2.7905672,
          2.7170932,
          2.8296347,
          2.9010317,
          2.8260386,
          2.7180054,
          2.8687549,
          2.9161851,
          2.7191894,
          2.853135,
          2.8341303,
          -0.027459579,
          2.7783022,
          2.842452,
          2.8402896,
          2.6351752,
          2.891768,
          2.7384746,
          2.8441498,
          2.854969,
          2.8608472,
          2.6753635,
          2.8832886,
          2.7857,
          2.6531475,
          2.8912096,
          -0.063555785,
          2.6550589,
          2.842316,
          2.8253803,
          1.6057396,
          2.8404562,
          2.7707644,
          2.655988,
          2.8790786,
          2.6323028,
          2.8624873,
          -0.027459579,
          2.8704767,
          -0.063555785,
          2.8364515,
          2.7106085,
          2.8756673,
          2.7826586,
          2.8714252,
          2.7208123,
          2.8573074,
          2.8013184,
          2.797436,
          2.8185654,
          2.5433826,
          2.77778,
          2.795089,
          2.834838,
          -0.027459579,
          2.5504534,
          2.8004208,
          2.6091192,
          2.8670282,
          2.736699,
          2.782496,
          2.8320632,
          2.7991881,
          2.8531785,
          2.3562837,
          2.656623,
          2.5770202,
          2.760689,
          2.848605,
          2.8040457,
          2.8438563,
          2.8757205,
          2.8942115,
          2.7522483,
          2.871957,
          2.8716347,
          2.8922682,
          2.868249,
          2.796768,
          2.8965104,
          0.80448174,
          2.8971143,
          2.814937,
          2.5718644,
          2.7015295,
          2.834873,
          2.799722,
          2.897996,
          2.9237761,
          2.9404128,
          2.8586671,
          2.8105202,
          2.8335757,
          2.8464353,
          2.8855727,
          2.8351834,
          2.8725448,
          2.8177924,
          2.292338,
          2.909367,
          2.90684,
          2.8836207,
          2.8787014,
          2.7698956,
          2.6247754,
          2.6415434,
          2.832687,
          2.4649808,
          2.8860083,
          2.748094,
          2.8607826,
          2.5453153,
          2.7838519,
          2.795435,
          2.9086347,
          2.6666915,
          2.797236,
          2.8047194,
          2.9276843,
          2.808404,
          2.8711145,
          2.793536,
          -0.047088012,
          2.8699384,
          2.815966,
          2.864305,
          2.7923048,
          2.8636,
          2.8330355,
          2.8256447,
          2.6652102,
          2.828263,
          2.8515456,
          2.5252264,
          2.765777,
          2.715531,
          2.8518386,
          -1.4599059,
          2.7509716,
          2.751268,
          2.530785,
          2.614937,
          2.8466985,
          2.8146186,
          2.7619622,
          2.8704052,
          2.8351471,
          2.7689703,
          2.7807703,
          2.9082706,
          2.8215191,
          2.7648613,
          2.9125583,
          2.900326,
          2.8400445,
          2.7709346,
          2.9025435,
          2.846592,
          2.8330784,
          2.8675017,
          2.8342729,
          -0.027459579,
          2.858726,
          2.8646555,
          2.914408
         ],
         "xaxis": "x",
         "yaxis": "y"
        },
        {
         "alignmentgroup": "True",
         "bingroup": "x",
         "hovertemplate": "experiment=default<br>reward=%{x}<br>count=%{y}<extra></extra>",
         "legendgroup": "default",
         "marker": {
          "color": "grey",
          "line": {
           "color": "white",
           "width": 1
          },
          "opacity": 0.5,
          "pattern": {
           "shape": ""
          }
         },
         "name": "default",
         "nbinsx": 150,
         "offsetgroup": "default",
         "orientation": "v",
         "showlegend": true,
         "type": "histogram",
         "x": [
          -2.8129768,
          -1.4093937,
          -1.3602644,
          0.46088335,
          2.7807703,
          -1.1276789,
          2.7728903,
          1.2527378,
          -1.2533876,
          2.6187444,
          -0.5809598,
          2.78489,
          2.0050302,
          2.156068,
          -2.956729,
          -1.0747193,
          2.7940643,
          0.5036289,
          -1.4376702,
          -1.7464274,
          1.9400086,
          -0.93273735,
          2.1147902,
          -1.9808995,
          -0.5382225,
          1.119144,
          -0.8072792,
          2.6526473,
          2.8147829,
          2.6438675,
          -0.6487645,
          -3.0186892,
          2.089253,
          -2.4621234,
          -3.0274746,
          1.3061585,
          2.7406378,
          -2.483464,
          -2.9915376,
          2.3182456,
          2.2200956,
          0.8643728,
          -2.6379716,
          2.796961,
          0.20727333,
          -0.4245082,
          -3.005061,
          -2.5251324,
          1.068912,
          -0.8827211,
          -0.98904395,
          -2.8741446,
          -2.4121637,
          -2.6788492,
          1.3583838,
          -0.7993343,
          1.3675042,
          -2.9003105,
          -3.0102684,
          2.279749,
          -2.6434495,
          2.818435,
          2.7824802,
          -2.957143,
          2.277001,
          -2.8002021,
          1.105612,
          -0.98332494,
          1.5387845,
          0.25369,
          2.4307008,
          2.5625331,
          0.5443977,
          -2.8156562,
          -1.718106,
          2.711224,
          -2.7049325,
          -2.5350633,
          -3.057151,
          1.4724748,
          -2.9763536,
          -2.1548934,
          -1.292407,
          -1.7323594,
          2.4763322,
          -3.0220108,
          2.0746992,
          -2.840038,
          2.7680507,
          1.6590472,
          -1.9409039,
          2.7266378,
          1.888186,
          1.7985657,
          2.6992779,
          2.07787,
          -1.4576902,
          2.6278214,
          -2.023028,
          -2.7292836,
          -2.8129768,
          -2.8129768,
          -2.8129768,
          -2.8129768,
          -1.4093937,
          -1.4093937,
          -1.4093937,
          -1.4093937,
          -1.3602644,
          -1.3602644,
          -1.3602644,
          -1.3602644,
          0.46088335,
          0.46088335,
          0.46088335,
          0.46088335,
          2.7807703,
          2.7807703,
          2.7807703,
          2.7807703,
          -1.1276789,
          -1.1276789,
          -1.1276789,
          -1.1276789,
          2.7728903,
          2.7728903,
          2.7728903,
          2.7728903,
          1.2527378,
          1.2527378,
          1.2527378,
          1.2527378,
          -1.2533876,
          -1.2533876,
          -1.2533876,
          -1.2533876,
          2.6187444,
          2.6187444,
          2.6187444,
          2.6187444,
          -0.5809598,
          -0.5809598,
          -0.5809598,
          -0.5809598,
          2.78489,
          2.78489,
          2.78489,
          2.78489,
          2.0050302,
          2.0050302,
          2.0050302,
          2.0050302,
          2.156068,
          2.156068,
          2.156068,
          2.156068,
          -2.956729,
          -2.956729,
          -2.956729,
          -2.956729,
          -1.0747193,
          -1.0747193,
          -1.0747193,
          -1.0747193,
          2.7940643,
          2.7940643,
          2.7940643,
          2.7940643,
          0.5036289,
          0.5036289,
          0.5036289,
          0.5036289,
          -1.4376702,
          -1.4376702,
          -1.4376702,
          -1.4376702,
          -1.7464274,
          -1.7464274,
          -1.7464274,
          -1.7464274,
          1.9400086,
          1.9400086,
          1.9400086,
          1.9400086,
          -0.93273735,
          -0.93273735,
          -0.93273735,
          -0.93273735,
          2.1147902,
          2.1147902,
          2.1147902,
          2.1147902,
          -1.9808995,
          -1.9808995,
          -1.9808995,
          -1.9808995,
          -0.5382225,
          -0.5382225,
          -0.5382225,
          -0.5382225,
          1.119144,
          1.119144,
          1.119144,
          1.119144,
          -0.8072792,
          -0.8072792,
          -0.8072792,
          -0.8072792,
          2.6526473,
          2.6526473,
          2.6526473,
          2.6526473,
          2.8147829,
          2.8147829,
          2.8147829,
          2.8147829,
          2.6438675,
          2.6438675,
          2.6438675,
          2.6438675,
          -0.6487645,
          -0.6487645,
          -0.6487645,
          -0.6487645,
          -3.0186892,
          -3.0186892,
          -3.0186892,
          -3.0186892,
          2.089253,
          2.089253,
          2.089253,
          2.089253,
          -2.4621234,
          -2.4621234,
          -2.4621234,
          -2.4621234,
          -3.0274746,
          -3.0274746,
          -3.0274746,
          -3.0274746,
          1.3061585,
          1.3061585,
          1.3061585,
          1.3061585,
          2.7406378,
          2.7406378,
          2.7406378,
          2.7406378,
          -2.483464,
          -2.483464,
          -2.483464,
          -2.483464,
          -2.9915376,
          -2.9915376,
          -2.9915376,
          -2.9915376,
          2.3182456,
          2.3182456,
          2.3182456,
          2.3182456,
          2.2200956,
          2.2200956,
          2.2200956,
          2.2200956,
          0.8643728,
          0.8643728,
          0.8643728,
          0.8643728,
          -2.6379716,
          -2.6379716,
          -2.6379716,
          -2.6379716,
          2.796961,
          2.796961,
          2.796961,
          2.796961,
          0.20727333,
          0.20727333,
          0.20727333,
          0.20727333,
          -0.4245082,
          -0.4245082,
          -0.4245082,
          -0.4245082,
          -3.005061,
          -3.005061,
          -3.005061,
          -3.005061,
          -2.5251324,
          -2.5251324,
          -2.5251324,
          -2.5251324,
          1.068912,
          1.068912,
          1.068912,
          1.068912,
          -0.8827211,
          -0.8827211,
          -0.8827211,
          -0.8827211,
          -0.98904395,
          -0.98904395,
          -0.98904395,
          -0.98904395,
          -2.8741446,
          -2.8741446,
          -2.8741446,
          -2.8741446,
          -2.4121637,
          -2.4121637,
          -2.4121637,
          -2.4121637,
          -2.6788492,
          -2.6788492,
          -2.6788492,
          -2.6788492,
          1.3583838,
          1.3583838,
          1.3583838,
          1.3583838,
          -0.7993343,
          -0.7993343,
          -0.7993343,
          -0.7993343,
          1.3675042,
          1.3675042,
          1.3675042,
          1.3675042,
          -2.9003105,
          -2.9003105,
          -2.9003105,
          -2.9003105,
          -3.0102684,
          -3.0102684,
          -3.0102684,
          -3.0102684,
          2.279749,
          2.279749,
          2.279749,
          2.279749,
          -2.6434495,
          -2.6434495,
          -2.6434495,
          -2.6434495,
          2.818435,
          2.818435,
          2.818435,
          2.818435,
          2.7824802,
          2.7824802,
          2.7824802,
          2.7824802,
          -2.957143,
          -2.957143,
          -2.957143,
          -2.957143,
          2.277001,
          2.277001,
          2.277001,
          2.277001,
          -2.8002021,
          -2.8002021,
          -2.8002021,
          -2.8002021,
          1.105612,
          1.105612,
          1.105612,
          1.105612,
          -0.98332494,
          -0.98332494,
          -0.98332494,
          -0.98332494,
          1.5387845,
          1.5387845,
          1.5387845,
          1.5387845,
          0.25369,
          0.25369,
          0.25369,
          0.25369,
          2.4307008,
          2.4307008,
          2.4307008,
          2.4307008,
          2.5625331,
          2.5625331,
          2.5625331,
          2.5625331,
          0.5443977,
          0.5443977,
          0.5443977,
          0.5443977,
          -2.8156562,
          -2.8156562,
          -2.8156562,
          -2.8156562,
          -1.718106,
          -1.718106,
          -1.718106,
          -1.718106,
          2.711224,
          2.711224,
          2.711224,
          2.711224,
          -2.7049325,
          -2.7049325,
          -2.7049325,
          -2.7049325,
          -2.5350633,
          -2.5350633,
          -2.5350633,
          -2.5350633,
          -3.057151,
          -3.057151,
          -3.057151,
          -3.057151,
          1.4724748,
          1.4724748,
          1.4724748,
          1.4724748,
          -2.9763536,
          -2.9763536,
          -2.9763536,
          -2.9763536,
          -2.1548934,
          -2.1548934,
          -2.1548934,
          -2.1548934,
          -1.292407,
          -1.292407,
          -1.292407,
          -1.292407,
          -1.7323594,
          -1.7323594,
          -1.7323594,
          -1.7323594,
          2.4763322,
          2.4763322,
          2.4763322,
          2.4763322,
          -3.0220108,
          -3.0220108,
          -3.0220108,
          -3.0220108,
          2.0746992,
          2.0746992,
          2.0746992,
          2.0746992,
          -2.840038,
          -2.840038,
          -2.840038,
          -2.840038,
          2.7680507,
          2.7680507,
          2.7680507,
          2.7680507,
          1.6590472,
          1.6590472,
          1.6590472,
          1.6590472,
          -1.9409039,
          -1.9409039,
          -1.9409039,
          -1.9409039,
          2.7266378,
          2.7266378,
          2.7266378,
          2.7266378,
          1.888186,
          1.888186,
          1.888186,
          1.888186,
          1.7985657,
          1.7985657,
          1.7985657,
          1.7985657,
          2.6992779,
          2.6992779,
          2.6992779,
          2.6992779,
          2.07787,
          2.07787,
          2.07787,
          2.07787,
          -1.4576902,
          -1.4576902,
          -1.4576902,
          -1.4576902,
          2.6278214,
          2.6278214,
          2.6278214,
          2.6278214,
          -2.023028,
          -2.023028,
          -2.023028,
          -2.023028,
          -2.7292836,
          -2.7292836,
          -2.7292836,
          -2.7292836
         ],
         "xaxis": "x",
         "yaxis": "y"
        }
       ],
       "layout": {
        "autosize": true,
        "barmode": "overlay",
        "legend": {
         "title": {
          "text": "experiment"
         },
         "tracegroupgap": 0
        },
        "margin": {
         "t": 60
        },
        "template": {
         "data": {
          "bar": [
           {
            "error_x": {
             "color": "#2a3f5f"
            },
            "error_y": {
             "color": "#2a3f5f"
            },
            "marker": {
             "line": {
              "color": "#E5ECF6",
              "width": 0.5
             },
             "pattern": {
              "fillmode": "overlay",
              "size": 10,
              "solidity": 0.2
             }
            },
            "type": "bar"
           }
          ],
          "barpolar": [
           {
            "marker": {
             "line": {
              "color": "#E5ECF6",
              "width": 0.5
             },
             "pattern": {
              "fillmode": "overlay",
              "size": 10,
              "solidity": 0.2
             }
            },
            "type": "barpolar"
           }
          ],
          "carpet": [
           {
            "aaxis": {
             "endlinecolor": "#2a3f5f",
             "gridcolor": "white",
             "linecolor": "white",
             "minorgridcolor": "white",
             "startlinecolor": "#2a3f5f"
            },
            "baxis": {
             "endlinecolor": "#2a3f5f",
             "gridcolor": "white",
             "linecolor": "white",
             "minorgridcolor": "white",
             "startlinecolor": "#2a3f5f"
            },
            "type": "carpet"
           }
          ],
          "choropleth": [
           {
            "colorbar": {
             "outlinewidth": 0,
             "ticks": ""
            },
            "type": "choropleth"
           }
          ],
          "contour": [
           {
            "colorbar": {
             "outlinewidth": 0,
             "ticks": ""
            },
            "colorscale": [
             [
              0,
              "#0d0887"
             ],
             [
              0.1111111111111111,
              "#46039f"
             ],
             [
              0.2222222222222222,
              "#7201a8"
             ],
             [
              0.3333333333333333,
              "#9c179e"
             ],
             [
              0.4444444444444444,
              "#bd3786"
             ],
             [
              0.5555555555555556,
              "#d8576b"
             ],
             [
              0.6666666666666666,
              "#ed7953"
             ],
             [
              0.7777777777777778,
              "#fb9f3a"
             ],
             [
              0.8888888888888888,
              "#fdca26"
             ],
             [
              1,
              "#f0f921"
             ]
            ],
            "type": "contour"
           }
          ],
          "contourcarpet": [
           {
            "colorbar": {
             "outlinewidth": 0,
             "ticks": ""
            },
            "type": "contourcarpet"
           }
          ],
          "heatmap": [
           {
            "colorbar": {
             "outlinewidth": 0,
             "ticks": ""
            },
            "colorscale": [
             [
              0,
              "#0d0887"
             ],
             [
              0.1111111111111111,
              "#46039f"
             ],
             [
              0.2222222222222222,
              "#7201a8"
             ],
             [
              0.3333333333333333,
              "#9c179e"
             ],
             [
              0.4444444444444444,
              "#bd3786"
             ],
             [
              0.5555555555555556,
              "#d8576b"
             ],
             [
              0.6666666666666666,
              "#ed7953"
             ],
             [
              0.7777777777777778,
              "#fb9f3a"
             ],
             [
              0.8888888888888888,
              "#fdca26"
             ],
             [
              1,
              "#f0f921"
             ]
            ],
            "type": "heatmap"
           }
          ],
          "heatmapgl": [
           {
            "colorbar": {
             "outlinewidth": 0,
             "ticks": ""
            },
            "colorscale": [
             [
              0,
              "#0d0887"
             ],
             [
              0.1111111111111111,
              "#46039f"
             ],
             [
              0.2222222222222222,
              "#7201a8"
             ],
             [
              0.3333333333333333,
              "#9c179e"
             ],
             [
              0.4444444444444444,
              "#bd3786"
             ],
             [
              0.5555555555555556,
              "#d8576b"
             ],
             [
              0.6666666666666666,
              "#ed7953"
             ],
             [
              0.7777777777777778,
              "#fb9f3a"
             ],
             [
              0.8888888888888888,
              "#fdca26"
             ],
             [
              1,
              "#f0f921"
             ]
            ],
            "type": "heatmapgl"
           }
          ],
          "histogram": [
           {
            "marker": {
             "pattern": {
              "fillmode": "overlay",
              "size": 10,
              "solidity": 0.2
             }
            },
            "type": "histogram"
           }
          ],
          "histogram2d": [
           {
            "colorbar": {
             "outlinewidth": 0,
             "ticks": ""
            },
            "colorscale": [
             [
              0,
              "#0d0887"
             ],
             [
              0.1111111111111111,
              "#46039f"
             ],
             [
              0.2222222222222222,
              "#7201a8"
             ],
             [
              0.3333333333333333,
              "#9c179e"
             ],
             [
              0.4444444444444444,
              "#bd3786"
             ],
             [
              0.5555555555555556,
              "#d8576b"
             ],
             [
              0.6666666666666666,
              "#ed7953"
             ],
             [
              0.7777777777777778,
              "#fb9f3a"
             ],
             [
              0.8888888888888888,
              "#fdca26"
             ],
             [
              1,
              "#f0f921"
             ]
            ],
            "type": "histogram2d"
           }
          ],
          "histogram2dcontour": [
           {
            "colorbar": {
             "outlinewidth": 0,
             "ticks": ""
            },
            "colorscale": [
             [
              0,
              "#0d0887"
             ],
             [
              0.1111111111111111,
              "#46039f"
             ],
             [
              0.2222222222222222,
              "#7201a8"
             ],
             [
              0.3333333333333333,
              "#9c179e"
             ],
             [
              0.4444444444444444,
              "#bd3786"
             ],
             [
              0.5555555555555556,
              "#d8576b"
             ],
             [
              0.6666666666666666,
              "#ed7953"
             ],
             [
              0.7777777777777778,
              "#fb9f3a"
             ],
             [
              0.8888888888888888,
              "#fdca26"
             ],
             [
              1,
              "#f0f921"
             ]
            ],
            "type": "histogram2dcontour"
           }
          ],
          "mesh3d": [
           {
            "colorbar": {
             "outlinewidth": 0,
             "ticks": ""
            },
            "type": "mesh3d"
           }
          ],
          "parcoords": [
           {
            "line": {
             "colorbar": {
              "outlinewidth": 0,
              "ticks": ""
             }
            },
            "type": "parcoords"
           }
          ],
          "pie": [
           {
            "automargin": true,
            "type": "pie"
           }
          ],
          "scatter": [
           {
            "fillpattern": {
             "fillmode": "overlay",
             "size": 10,
             "solidity": 0.2
            },
            "type": "scatter"
           }
          ],
          "scatter3d": [
           {
            "line": {
             "colorbar": {
              "outlinewidth": 0,
              "ticks": ""
             }
            },
            "marker": {
             "colorbar": {
              "outlinewidth": 0,
              "ticks": ""
             }
            },
            "type": "scatter3d"
           }
          ],
          "scattercarpet": [
           {
            "marker": {
             "colorbar": {
              "outlinewidth": 0,
              "ticks": ""
             }
            },
            "type": "scattercarpet"
           }
          ],
          "scattergeo": [
           {
            "marker": {
             "colorbar": {
              "outlinewidth": 0,
              "ticks": ""
             }
            },
            "type": "scattergeo"
           }
          ],
          "scattergl": [
           {
            "marker": {
             "colorbar": {
              "outlinewidth": 0,
              "ticks": ""
             }
            },
            "type": "scattergl"
           }
          ],
          "scattermapbox": [
           {
            "marker": {
             "colorbar": {
              "outlinewidth": 0,
              "ticks": ""
             }
            },
            "type": "scattermapbox"
           }
          ],
          "scatterpolar": [
           {
            "marker": {
             "colorbar": {
              "outlinewidth": 0,
              "ticks": ""
             }
            },
            "type": "scatterpolar"
           }
          ],
          "scatterpolargl": [
           {
            "marker": {
             "colorbar": {
              "outlinewidth": 0,
              "ticks": ""
             }
            },
            "type": "scatterpolargl"
           }
          ],
          "scatterternary": [
           {
            "marker": {
             "colorbar": {
              "outlinewidth": 0,
              "ticks": ""
             }
            },
            "type": "scatterternary"
           }
          ],
          "surface": [
           {
            "colorbar": {
             "outlinewidth": 0,
             "ticks": ""
            },
            "colorscale": [
             [
              0,
              "#0d0887"
             ],
             [
              0.1111111111111111,
              "#46039f"
             ],
             [
              0.2222222222222222,
              "#7201a8"
             ],
             [
              0.3333333333333333,
              "#9c179e"
             ],
             [
              0.4444444444444444,
              "#bd3786"
             ],
             [
              0.5555555555555556,
              "#d8576b"
             ],
             [
              0.6666666666666666,
              "#ed7953"
             ],
             [
              0.7777777777777778,
              "#fb9f3a"
             ],
             [
              0.8888888888888888,
              "#fdca26"
             ],
             [
              1,
              "#f0f921"
             ]
            ],
            "type": "surface"
           }
          ],
          "table": [
           {
            "cells": {
             "fill": {
              "color": "#EBF0F8"
             },
             "line": {
              "color": "white"
             }
            },
            "header": {
             "fill": {
              "color": "#C8D4E3"
             },
             "line": {
              "color": "white"
             }
            },
            "type": "table"
           }
          ]
         },
         "layout": {
          "annotationdefaults": {
           "arrowcolor": "#2a3f5f",
           "arrowhead": 0,
           "arrowwidth": 1
          },
          "autotypenumbers": "strict",
          "coloraxis": {
           "colorbar": {
            "outlinewidth": 0,
            "ticks": ""
           }
          },
          "colorscale": {
           "diverging": [
            [
             0,
             "#8e0152"
            ],
            [
             0.1,
             "#c51b7d"
            ],
            [
             0.2,
             "#de77ae"
            ],
            [
             0.3,
             "#f1b6da"
            ],
            [
             0.4,
             "#fde0ef"
            ],
            [
             0.5,
             "#f7f7f7"
            ],
            [
             0.6,
             "#e6f5d0"
            ],
            [
             0.7,
             "#b8e186"
            ],
            [
             0.8,
             "#7fbc41"
            ],
            [
             0.9,
             "#4d9221"
            ],
            [
             1,
             "#276419"
            ]
           ],
           "sequential": [
            [
             0,
             "#0d0887"
            ],
            [
             0.1111111111111111,
             "#46039f"
            ],
            [
             0.2222222222222222,
             "#7201a8"
            ],
            [
             0.3333333333333333,
             "#9c179e"
            ],
            [
             0.4444444444444444,
             "#bd3786"
            ],
            [
             0.5555555555555556,
             "#d8576b"
            ],
            [
             0.6666666666666666,
             "#ed7953"
            ],
            [
             0.7777777777777778,
             "#fb9f3a"
            ],
            [
             0.8888888888888888,
             "#fdca26"
            ],
            [
             1,
             "#f0f921"
            ]
           ],
           "sequentialminus": [
            [
             0,
             "#0d0887"
            ],
            [
             0.1111111111111111,
             "#46039f"
            ],
            [
             0.2222222222222222,
             "#7201a8"
            ],
            [
             0.3333333333333333,
             "#9c179e"
            ],
            [
             0.4444444444444444,
             "#bd3786"
            ],
            [
             0.5555555555555556,
             "#d8576b"
            ],
            [
             0.6666666666666666,
             "#ed7953"
            ],
            [
             0.7777777777777778,
             "#fb9f3a"
            ],
            [
             0.8888888888888888,
             "#fdca26"
            ],
            [
             1,
             "#f0f921"
            ]
           ]
          },
          "colorway": [
           "#636efa",
           "#EF553B",
           "#00cc96",
           "#ab63fa",
           "#FFA15A",
           "#19d3f3",
           "#FF6692",
           "#B6E880",
           "#FF97FF",
           "#FECB52"
          ],
          "font": {
           "color": "#2a3f5f"
          },
          "geo": {
           "bgcolor": "white",
           "lakecolor": "white",
           "landcolor": "#E5ECF6",
           "showlakes": true,
           "showland": true,
           "subunitcolor": "white"
          },
          "hoverlabel": {
           "align": "left"
          },
          "hovermode": "closest",
          "mapbox": {
           "style": "light"
          },
          "paper_bgcolor": "white",
          "plot_bgcolor": "#E5ECF6",
          "polar": {
           "angularaxis": {
            "gridcolor": "white",
            "linecolor": "white",
            "ticks": ""
           },
           "bgcolor": "#E5ECF6",
           "radialaxis": {
            "gridcolor": "white",
            "linecolor": "white",
            "ticks": ""
           }
          },
          "scene": {
           "xaxis": {
            "backgroundcolor": "#E5ECF6",
            "gridcolor": "white",
            "gridwidth": 2,
            "linecolor": "white",
            "showbackground": true,
            "ticks": "",
            "zerolinecolor": "white"
           },
           "yaxis": {
            "backgroundcolor": "#E5ECF6",
            "gridcolor": "white",
            "gridwidth": 2,
            "linecolor": "white",
            "showbackground": true,
            "ticks": "",
            "zerolinecolor": "white"
           },
           "zaxis": {
            "backgroundcolor": "#E5ECF6",
            "gridcolor": "white",
            "gridwidth": 2,
            "linecolor": "white",
            "showbackground": true,
            "ticks": "",
            "zerolinecolor": "white"
           }
          },
          "shapedefaults": {
           "line": {
            "color": "#2a3f5f"
           }
          },
          "ternary": {
           "aaxis": {
            "gridcolor": "white",
            "linecolor": "white",
            "ticks": ""
           },
           "baxis": {
            "gridcolor": "white",
            "linecolor": "white",
            "ticks": ""
           },
           "bgcolor": "#E5ECF6",
           "caxis": {
            "gridcolor": "white",
            "linecolor": "white",
            "ticks": ""
           }
          },
          "title": {
           "x": 0.05
          },
          "xaxis": {
           "automargin": true,
           "gridcolor": "white",
           "linecolor": "white",
           "ticks": "",
           "title": {
            "standoff": 15
           },
           "zerolinecolor": "white",
           "zerolinewidth": 2
          },
          "yaxis": {
           "automargin": true,
           "gridcolor": "white",
           "linecolor": "white",
           "ticks": "",
           "title": {
            "standoff": 15
           },
           "zerolinecolor": "white",
           "zerolinewidth": 2
          }
         }
        },
        "title": {
         "text": "Experiment reward histograms"
        },
        "xaxis": {
         "anchor": "y",
         "autorange": true,
         "domain": [
          0,
          1
         ],
         "range": [
          -3.1000000000000005,
          2.9499999999999993
         ],
         "title": {
          "text": "reward"
         },
         "type": "linear"
        },
        "yaxis": {
         "anchor": "x",
         "autorange": true,
         "domain": [
          0,
          1
         ],
         "range": [
          0,
          125.26315789473684
         ],
         "title": {
          "text": "count"
         }
        }
       }
      },
      "image/png": "[encoded data removed]",
      "text/html": [
       "<div>                            <div id=\"4b1a3233-104b-43d1-b8cb-9c75f25e8b85\" class=\"plotly-graph-div\" style=\"height:525px; width:100%;\"></div>            <script type=\"text/javascript\">                require([\"plotly\"], function(Plotly) {                    window.PLOTLYENV=window.PLOTLYENV || {};                                    if (document.getElementById(\"4b1a3233-104b-43d1-b8cb-9c75f25e8b85\")) {                    Plotly.newPlot(                        \"4b1a3233-104b-43d1-b8cb-9c75f25e8b85\",                        [{\"alignmentgroup\":\"True\",\"bingroup\":\"x\",\"hovertemplate\":\"experiment=sigmoid\\u003cbr\\u003ereward=%{x}\\u003cbr\\u003ecount=%{y}\\u003cextra\\u003e\\u003c\\u002fextra\\u003e\",\"legendgroup\":\"sigmoid\",\"marker\":{\"color\":\"crimson\",\"opacity\":0.5,\"pattern\":{\"shape\":\"\"},\"line\":{\"color\":\"white\",\"width\":1}},\"name\":\"sigmoid\",\"nbinsx\":150,\"offsetgroup\":\"sigmoid\",\"orientation\":\"v\",\"showlegend\":true,\"x\":[2.585515,2.9021287,2.8297346,2.8253546,0.21739426,2.3805833,2.888997,2.8008602,2.866629,2.8457034,2.8499668,2.7910154,2.8891811,2.9250681,2.8141584,2.8792553,2.7543697,2.8729892,2.8805203,2.8561816,2.237292,2.830462,2.887426,2.8813736,2.8842084,2.852761,2.884945,2.764987,2.5505643,2.8140597,2.8689044,2.843741,2.8118134,2.9107366,2.797085,2.8468907,2.8381772,2.853007,2.7426188,2.8875108,2.901116,2.7182562,2.8460777,2.6003335,2.8302963,2.7389653,2.7124066,2.7604697,2.8466086,2.6552072,2.9209454,2.871612,2.88888,2.7346325,2.6009831,2.7304838,2.8000329,2.806707,2.8450422,2.8272054,-0.063555785,2.778283,2.7252533,2.841313,2.802558,2.8596473,-0.063555785,2.8135371,2.8344204,2.5979564,2.8059096,2.7302473,2.784375,2.8771937,2.85158,-0.063555785,2.8619015,2.8208745,2.658858,2.6451812,1.437103,2.790075,2.833533,2.8154175,2.8488052,2.7247484,2.875708,2.8080313,2.6395144,2.7527595,2.878439,2.7101967,2.8550675,-0.027459579,2.796991,2.7502959,2.877357,2.7869387,2.6401174,2.8946283,2.7817554,2.8388305,2.721525,-0.063555785,2.7769368,2.6167738,2.6887622,2.8557043,2.8251996,2.8092208,2.8081217,2.7537298,2.7733915,2.8547554,2.7612596,2.7082765,2.7694383,1.686842,2.734498,2.5163336,1.6459178,2.7149239,2.7623236,2.82048,2.7882643,2.8457136,2.7554722,1.2088616,2.5220551,2.5841932,2.820825,2.769859,2.76802,2.800989,2.8135242,2.7533479,2.7791486,-0.063555785,2.814965,2.852724,-0.063555785,0.012570442,2.6932075,2.5872495,-2.8318448,2.6866412,2.7171593,2.700575,2.8013773,2.788872,-0.063555785,2.6220944,2.2732718,2.7228737,2.726109,-0.063555785,1.3513677,2.5512023,2.8520637,2.16347,2.793903,2.6908646,2.603672,2.6516693,2.6961985,2.4766047,2.689796,2.0422971,2.86819,2.7373855,2.874999,2.5046487,2.806933,2.8461258,2.7639098,2.531295,2.879064,2.7418292,2.8240008,2.8105936,2.7701378,2.8441315,2.8341022,2.7725854,2.9079525,2.2737155,2.7077389,2.8036761,2.5829482,0.48965082,1.1758293,2.698053,2.7749887,2.8135567,2.845998,2.477024,2.7028816,2.8626668,2.7610314,1.708024,2.8591022,2.8837986,2.8961377,2.6584573,2.8742213,2.8708751,2.4759395,2.8529637,-0.027459579,2.8542538,2.8278594,2.5986762,2.7924123,2.8416421,2.9111128,2.4942906,2.8237824,2.8286767,2.854529,-0.063555785,2.8262818,2.8584094,2.8828278,2.8660975,2.87678,2.9246812,2.859716,2.7998667,2.3345957,2.8849914,-0.063555785,2.878672,2.869385,2.7068033,2.7709591,2.739257,2.7729158,2.884533,2.9093723,0.91308856,2.8551254,2.824269,2.3291354,2.7919533,-0.027459579,-0.063555785,2.8683589,2.744744,2.7485218,2.6559196,2.0725188,2.8266764,2.8211608,2.847781,2.862696,2.6102545,2.7725263,2.8294568,2.888329,2.880019,2.8731966,2.701091,2.8227584,2.8243945,-0.027459579,2.7903469,2.8765395,2.7749887,-0.027459579,2.7643936,2.7508304,2.8081384,2.8836858,2.9313698,2.637124,2.854424,2.837416,2.8506393,2.764215,2.8545008,2.7184598,2.8177836,2.8001792,2.7790387,2.8555813,2.8262997,2.8827703,2.7712345,2.7753077,2.7801003,2.8281653,2.8013577,1.4716005,2.8989599,2.7606766,2.7179506,2.6909742,2.7729635,2.899989,-0.48074752,2.7524984,2.9001925,2.7369375,2.7962863,2.909465,0.735977,2.8666334,2.8080919,1.8741922,2.8190289,2.7962122,2.8517435,2.712542,2.8706698,2.8126142,2.6371088,2.75983,2.7888951,2.730978,2.8072553,2.902813,2.8748894,2.8739371,2.6594083,2.7631197,2.6786914,2.8551483,2.4286096,2.8089914,2.916109,2.5908284,2.928439,2.7873645,2.8880258,2.759655,2.7905672,2.7170932,2.8296347,2.9010317,2.8260386,2.7180054,2.8687549,2.9161851,2.7191894,2.853135,2.8341303,-0.027459579,2.7783022,2.842452,2.8402896,2.6351752,2.891768,2.7384746,2.8441498,2.854969,2.8608472,2.6753635,2.8832886,2.7857,2.6531475,2.8912096,-0.063555785,2.6550589,2.842316,2.8253803,1.6057396,2.8404562,2.7707644,2.655988,2.8790786,2.6323028,2.8624873,-0.027459579,2.8704767,-0.063555785,2.8364515,2.7106085,2.8756673,2.7826586,2.8714252,2.7208123,2.8573074,2.8013184,2.797436,2.8185654,2.5433826,2.77778,2.795089,2.834838,-0.027459579,2.5504534,2.8004208,2.6091192,2.8670282,2.736699,2.782496,2.8320632,2.7991881,2.8531785,2.3562837,2.656623,2.5770202,2.760689,2.848605,2.8040457,2.8438563,2.8757205,2.8942115,2.7522483,2.871957,2.8716347,2.8922682,2.868249,2.796768,2.8965104,0.80448174,2.8971143,2.814937,2.5718644,2.7015295,2.834873,2.799722,2.897996,2.9237761,2.9404128,2.8586671,2.8105202,2.8335757,2.8464353,2.8855727,2.8351834,2.8725448,2.8177924,2.292338,2.909367,2.90684,2.8836207,2.8787014,2.7698956,2.6247754,2.6415434,2.832687,2.4649808,2.8860083,2.748094,2.8607826,2.5453153,2.7838519,2.795435,2.9086347,2.6666915,2.797236,2.8047194,2.9276843,2.808404,2.8711145,2.793536,-0.047088012,2.8699384,2.815966,2.864305,2.7923048,2.8636,2.883063,2.802893,2.7657123,2.8960109,2.7990532,2.719264,2.8534138,2.861578,2.8140824,2.893855,2.73941,2.8409736,2.8811617,2.812482,2.888119,2.7687793,2.7659636,2.7784712,2.7985978,2.8069227,2.7940898,2.8488057,2.7749557,2.7713077,2.8093765,2.7798474,2.7445445,2.6832857,2.8320158,-0.063555785,2.8682494,2.803628,2.8283634,2.8814397,2.8697875,2.781512,2.8564982],\"xaxis\":\"x\",\"yaxis\":\"y\",\"type\":\"histogram\"},{\"alignmentgroup\":\"True\",\"bingroup\":\"x\",\"hovertemplate\":\"experiment=hinge\\u003cbr\\u003ereward=%{x}\\u003cbr\\u003ecount=%{y}\\u003cextra\\u003e\\u003c\\u002fextra\\u003e\",\"legendgroup\":\"hinge\",\"marker\":{\"color\":\"midnightblue\",\"opacity\":0.5,\"pattern\":{\"shape\":\"\"},\"line\":{\"color\":\"white\",\"width\":1}},\"name\":\"hinge\",\"nbinsx\":150,\"offsetgroup\":\"hinge\",\"orientation\":\"v\",\"showlegend\":true,\"x\":[2.585515,2.9021287,2.8297346,2.8253546,0.21739426,2.3805833,2.888997,2.8008602,2.866629,2.8457034,2.8499668,2.7910154,2.8891811,2.9250681,2.8141584,2.8792553,2.7543697,2.8729892,2.8805203,2.8561816,2.237292,2.830462,2.887426,2.8813736,2.8842084,2.852761,2.884945,2.764987,2.5505643,2.8140597,2.8689044,2.843741,2.8118134,2.9107366,2.797085,2.8468907,2.8381772,2.853007,2.7426188,2.8875108,2.901116,2.7182562,2.8460777,2.6003335,2.8302963,2.7389653,2.7124066,2.7604697,2.8466086,2.6552072,2.9209454,2.871612,2.88888,2.7346325,2.6009831,2.7304838,2.8000329,2.806707,2.8450422,2.8272054,-0.063555785,2.778283,2.7252533,2.841313,2.802558,2.8596473,-0.063555785,2.8135371,2.8344204,2.5979564,2.8059096,2.7302473,2.784375,2.8771937,2.85158,-0.063555785,2.8619015,2.8208745,2.658858,2.6451812,1.437103,2.790075,2.833533,2.8154175,2.8488052,2.7247484,2.875708,2.8080313,2.6395144,2.7527595,2.878439,2.7101967,2.8550675,-0.027459579,2.796991,2.7502959,2.877357,2.7869387,2.6401174,2.8946283,2.7817554,2.8388305,2.721525,-0.063555785,2.7769368,2.6167738,2.6887622,2.8557043,2.8251996,2.8092208,2.8081217,2.7537298,2.7733915,2.8547554,2.7612596,2.7082765,2.7694383,1.686842,2.734498,2.5163336,1.6459178,2.7149239,2.7623236,2.82048,2.7882643,2.8457136,2.7554722,1.2088616,2.5220551,2.5841932,2.820825,2.769859,2.76802,2.800989,2.8135242,2.7533479,2.7791486,-0.063555785,2.814965,2.852724,-0.063555785,0.012570442,2.6932075,2.5872495,-2.8318448,2.6866412,2.7171593,2.700575,2.8013773,2.788872,-0.063555785,2.6220944,2.2732718,2.7228737,2.726109,-0.063555785,1.3513677,2.5512023,2.8520637,2.16347,2.793903,2.6908646,2.603672,2.6516693,2.6961985,2.4766047,2.689796,2.0422971,2.86819,2.7373855,2.874999,2.5046487,2.806933,2.8461258,2.7639098,2.531295,2.879064,2.7418292,2.8240008,2.8105936,2.7701378,2.8441315,2.8341022,2.7725854,2.9079525,2.2737155,2.7077389,2.8036761,2.5829482,0.48965082,1.1758293,2.698053,2.7749887,2.8135567,2.845998,2.477024,2.7028816,2.8626668,2.7610314,1.708024,2.8591022,2.8837986,2.8961377,2.6584573,2.8742213,2.8708751,2.4759395,2.8529637,-0.027459579,2.8542538,2.8278594,2.5986762,2.7924123,2.8416421,2.9111128,2.4942906,2.8237824,2.8286767,2.854529,-0.063555785,2.8262818,2.8584094,2.8828278,2.8660975,2.87678,2.9246812,2.859716,2.7998667,2.3345957,2.8849914,-0.063555785,2.878672,2.869385,2.7068033,2.7709591,2.739257,2.7729158,2.884533,2.9093723,0.91308856,2.8551254,2.824269,2.3291354,2.7919533,-0.027459579,-0.063555785,2.8683589,2.744744,2.7485218,2.6559196,2.0725188,2.8266764,2.8211608,2.847781,2.862696,2.6102545,2.7725263,2.8294568,2.888329,2.880019,2.8731966,2.701091,2.8227584,2.8243945,-0.027459579,2.7903469,2.8765395,2.7749887,-0.027459579,2.7643936,2.7508304,2.8081384,2.8836858,2.9313698,2.637124,2.854424,2.837416,2.8506393,2.764215,2.8545008,2.7184598,2.8177836,2.8001792,2.7790387,2.8555813,2.8262997,2.8827703,2.7712345,2.7753077,2.7801003,2.8281653,2.8013577,1.4716005,2.8989599,2.7606766,2.7179506,2.6909742,2.7729635,2.899989,-0.48074752,2.7524984,2.9001925,2.7369375,2.7962863,2.909465,0.735977,2.8666334,2.8080919,1.8741922,2.8190289,2.7962122,2.8517435,2.712542,2.8706698,2.8126142,2.6371088,2.75983,2.7888951,2.730978,2.8072553,2.902813,2.8748894,2.8739371,2.6594083,2.7631197,2.6786914,2.8551483,2.4286096,2.8089914,2.916109,2.5908284,2.928439,2.7873645,2.8880258,2.759655,2.7905672,2.7170932,2.8296347,2.9010317,2.8260386,2.7180054,2.8687549,2.9161851,2.7191894,2.853135,2.8341303,-0.027459579,2.7783022,2.842452,2.8402896,2.6351752,2.891768,2.7384746,2.8441498,2.854969,2.8608472,2.6753635,2.8832886,2.7857,2.6531475,2.8912096,-0.063555785,2.6550589,2.842316,2.8253803,1.6057396,2.8404562,2.7707644,2.655988,2.8790786,2.6323028,2.8624873,-0.027459579,2.8704767,-0.063555785,2.8364515,2.7106085,2.8756673,2.7826586,2.8714252,2.7208123,2.8573074,2.8013184,2.797436,2.8185654,2.5433826,2.77778,2.795089,2.834838,-0.027459579,2.5504534,2.8004208,2.6091192,2.8670282,2.736699,2.782496,2.8320632,2.7991881,2.8531785,2.3562837,2.656623,2.5770202,2.760689,2.848605,2.8040457,2.8438563,2.8757205,2.8942115,2.7522483,2.871957,2.8716347,2.8922682,2.868249,2.796768,2.8965104,0.80448174,2.8971143,2.814937,2.5718644,2.7015295,2.834873,2.799722,2.897996,2.9237761,2.9404128,2.8586671,2.8105202,2.8335757,2.8464353,2.8855727,2.8351834,2.8725448,2.8177924,2.292338,2.909367,2.90684,2.8836207,2.8787014,2.7698956,2.6247754,2.6415434,2.832687,2.4649808,2.8860083,2.748094,2.8607826,2.5453153,2.7838519,2.795435,2.9086347,2.6666915,2.797236,2.8047194,2.9276843,2.808404,2.8711145,2.793536,-0.047088012,2.8699384,2.815966,2.864305,2.7923048,2.8636,2.8330355,2.8256447,2.6652102,2.828263,2.8515456,2.5252264,2.765777,2.715531,2.8518386,-1.4599059,2.7509716,2.751268,2.530785,2.614937,2.8466985,2.8146186,2.7619622,2.8704052,2.8351471,2.7689703,2.7807703,2.9082706,2.8215191,2.7648613,2.9125583,2.900326,2.8400445,2.7709346,2.9025435,2.846592,2.8330784,2.8675017,2.8342729,-0.027459579,2.858726,2.8646555,2.914408],\"xaxis\":\"x\",\"yaxis\":\"y\",\"type\":\"histogram\"},{\"alignmentgroup\":\"True\",\"bingroup\":\"x\",\"hovertemplate\":\"experiment=default\\u003cbr\\u003ereward=%{x}\\u003cbr\\u003ecount=%{y}\\u003cextra\\u003e\\u003c\\u002fextra\\u003e\",\"legendgroup\":\"default\",\"marker\":{\"color\":\"grey\",\"opacity\":0.5,\"pattern\":{\"shape\":\"\"},\"line\":{\"color\":\"white\",\"width\":1}},\"name\":\"default\",\"nbinsx\":150,\"offsetgroup\":\"default\",\"orientation\":\"v\",\"showlegend\":true,\"x\":[-2.8129768,-1.4093937,-1.3602644,0.46088335,2.7807703,-1.1276789,2.7728903,1.2527378,-1.2533876,2.6187444,-0.5809598,2.78489,2.0050302,2.156068,-2.956729,-1.0747193,2.7940643,0.5036289,-1.4376702,-1.7464274,1.9400086,-0.93273735,2.1147902,-1.9808995,-0.5382225,1.119144,-0.8072792,2.6526473,2.8147829,2.6438675,-0.6487645,-3.0186892,2.089253,-2.4621234,-3.0274746,1.3061585,2.7406378,-2.483464,-2.9915376,2.3182456,2.2200956,0.8643728,-2.6379716,2.796961,0.20727333,-0.4245082,-3.005061,-2.5251324,1.068912,-0.8827211,-0.98904395,-2.8741446,-2.4121637,-2.6788492,1.3583838,-0.7993343,1.3675042,-2.9003105,-3.0102684,2.279749,-2.6434495,2.818435,2.7824802,-2.957143,2.277001,-2.8002021,1.105612,-0.98332494,1.5387845,0.25369,2.4307008,2.5625331,0.5443977,-2.8156562,-1.718106,2.711224,-2.7049325,-2.5350633,-3.057151,1.4724748,-2.9763536,-2.1548934,-1.292407,-1.7323594,2.4763322,-3.0220108,2.0746992,-2.840038,2.7680507,1.6590472,-1.9409039,2.7266378,1.888186,1.7985657,2.6992779,2.07787,-1.4576902,2.6278214,-2.023028,-2.7292836,-2.8129768,-2.8129768,-2.8129768,-2.8129768,-1.4093937,-1.4093937,-1.4093937,-1.4093937,-1.3602644,-1.3602644,-1.3602644,-1.3602644,0.46088335,0.46088335,0.46088335,0.46088335,2.7807703,2.7807703,2.7807703,2.7807703,-1.1276789,-1.1276789,-1.1276789,-1.1276789,2.7728903,2.7728903,2.7728903,2.7728903,1.2527378,1.2527378,1.2527378,1.2527378,-1.2533876,-1.2533876,-1.2533876,-1.2533876,2.6187444,2.6187444,2.6187444,2.6187444,-0.5809598,-0.5809598,-0.5809598,-0.5809598,2.78489,2.78489,2.78489,2.78489,2.0050302,2.0050302,2.0050302,2.0050302,2.156068,2.156068,2.156068,2.156068,-2.956729,-2.956729,-2.956729,-2.956729,-1.0747193,-1.0747193,-1.0747193,-1.0747193,2.7940643,2.7940643,2.7940643,2.7940643,0.5036289,0.5036289,0.5036289,0.5036289,-1.4376702,-1.4376702,-1.4376702,-1.4376702,-1.7464274,-1.7464274,-1.7464274,-1.7464274,1.9400086,1.9400086,1.9400086,1.9400086,-0.93273735,-0.93273735,-0.93273735,-0.93273735,2.1147902,2.1147902,2.1147902,2.1147902,-1.9808995,-1.9808995,-1.9808995,-1.9808995,-0.5382225,-0.5382225,-0.5382225,-0.5382225,1.119144,1.119144,1.119144,1.119144,-0.8072792,-0.8072792,-0.8072792,-0.8072792,2.6526473,2.6526473,2.6526473,2.6526473,2.8147829,2.8147829,2.8147829,2.8147829,2.6438675,2.6438675,2.6438675,2.6438675,-0.6487645,-0.6487645,-0.6487645,-0.6487645,-3.0186892,-3.0186892,-3.0186892,-3.0186892,2.089253,2.089253,2.089253,2.089253,-2.4621234,-2.4621234,-2.4621234,-2.4621234,-3.0274746,-3.0274746,-3.0274746,-3.0274746,1.3061585,1.3061585,1.3061585,1.3061585,2.7406378,2.7406378,2.7406378,2.7406378,-2.483464,-2.483464,-2.483464,-2.483464,-2.9915376,-2.9915376,-2.9915376,-2.9915376,2.3182456,2.3182456,2.3182456,2.3182456,2.2200956,2.2200956,2.2200956,2.2200956,0.8643728,0.8643728,0.8643728,0.8643728,-2.6379716,-2.6379716,-2.6379716,-2.6379716,2.796961,2.796961,2.796961,2.796961,0.20727333,0.20727333,0.20727333,0.20727333,-0.4245082,-0.4245082,-0.4245082,-0.4245082,-3.005061,-3.005061,-3.005061,-3.005061,-2.5251324,-2.5251324,-2.5251324,-2.5251324,1.068912,1.068912,1.068912,1.068912,-0.8827211,-0.8827211,-0.8827211,-0.8827211,-0.98904395,-0.98904395,-0.98904395,-0.98904395,-2.8741446,-2.8741446,-2.8741446,-2.8741446,-2.4121637,-2.4121637,-2.4121637,-2.4121637,-2.6788492,-2.6788492,-2.6788492,-2.6788492,1.3583838,1.3583838,1.3583838,1.3583838,-0.7993343,-0.7993343,-0.7993343,-0.7993343,1.3675042,1.3675042,1.3675042,1.3675042,-2.9003105,-2.9003105,-2.9003105,-2.9003105,-3.0102684,-3.0102684,-3.0102684,-3.0102684,2.279749,2.279749,2.279749,2.279749,-2.6434495,-2.6434495,-2.6434495,-2.6434495,2.818435,2.818435,2.818435,2.818435,2.7824802,2.7824802,2.7824802,2.7824802,-2.957143,-2.957143,-2.957143,-2.957143,2.277001,2.277001,2.277001,2.277001,-2.8002021,-2.8002021,-2.8002021,-2.8002021,1.105612,1.105612,1.105612,1.105612,-0.98332494,-0.98332494,-0.98332494,-0.98332494,1.5387845,1.5387845,1.5387845,1.5387845,0.25369,0.25369,0.25369,0.25369,2.4307008,2.4307008,2.4307008,2.4307008,2.5625331,2.5625331,2.5625331,2.5625331,0.5443977,0.5443977,0.5443977,0.5443977,-2.8156562,-2.8156562,-2.8156562,-2.8156562,-1.718106,-1.718106,-1.718106,-1.718106,2.711224,2.711224,2.711224,2.711224,-2.7049325,-2.7049325,-2.7049325,-2.7049325,-2.5350633,-2.5350633,-2.5350633,-2.5350633,-3.057151,-3.057151,-3.057151,-3.057151,1.4724748,1.4724748,1.4724748,1.4724748,-2.9763536,-2.9763536,-2.9763536,-2.9763536,-2.1548934,-2.1548934,-2.1548934,-2.1548934,-1.292407,-1.292407,-1.292407,-1.292407,-1.7323594,-1.7323594,-1.7323594,-1.7323594,2.4763322,2.4763322,2.4763322,2.4763322,-3.0220108,-3.0220108,-3.0220108,-3.0220108,2.0746992,2.0746992,2.0746992,2.0746992,-2.840038,-2.840038,-2.840038,-2.840038,2.7680507,2.7680507,2.7680507,2.7680507,1.6590472,1.6590472,1.6590472,1.6590472,-1.9409039,-1.9409039,-1.9409039,-1.9409039,2.7266378,2.7266378,2.7266378,2.7266378,1.888186,1.888186,1.888186,1.888186,1.7985657,1.7985657,1.7985657,1.7985657,2.6992779,2.6992779,2.6992779,2.6992779,2.07787,2.07787,2.07787,2.07787,-1.4576902,-1.4576902,-1.4576902,-1.4576902,2.6278214,2.6278214,2.6278214,2.6278214,-2.023028,-2.023028,-2.023028,-2.023028,-2.7292836,-2.7292836,-2.7292836,-2.7292836],\"xaxis\":\"x\",\"yaxis\":\"y\",\"type\":\"histogram\"}],                        {\"template\":{\"data\":{\"histogram2dcontour\":[{\"type\":\"histogram2dcontour\",\"colorbar\":{\"outlinewidth\":0,\"ticks\":\"\"},\"colorscale\":[[0.0,\"#0d0887\"],[0.1111111111111111,\"#46039f\"],[0.2222222222222222,\"#7201a8\"],[0.3333333333333333,\"#9c179e\"],[0.4444444444444444,\"#bd3786\"],[0.5555555555555556,\"#d8576b\"],[0.6666666666666666,\"#ed7953\"],[0.7777777777777778,\"#fb9f3a\"],[0.8888888888888888,\"#fdca26\"],[1.0,\"#f0f921\"]]}],\"choropleth\":[{\"type\":\"choropleth\",\"colorbar\":{\"outlinewidth\":0,\"ticks\":\"\"}}],\"histogram2d\":[{\"type\":\"histogram2d\",\"colorbar\":{\"outlinewidth\":0,\"ticks\":\"\"},\"colorscale\":[[0.0,\"#0d0887\"],[0.1111111111111111,\"#46039f\"],[0.2222222222222222,\"#7201a8\"],[0.3333333333333333,\"#9c179e\"],[0.4444444444444444,\"#bd3786\"],[0.5555555555555556,\"#d8576b\"],[0.6666666666666666,\"#ed7953\"],[0.7777777777777778,\"#fb9f3a\"],[0.8888888888888888,\"#fdca26\"],[1.0,\"#f0f921\"]]}],\"heatmap\":[{\"type\":\"heatmap\",\"colorbar\":{\"outlinewidth\":0,\"ticks\":\"\"},\"colorscale\":[[0.0,\"#0d0887\"],[0.1111111111111111,\"#46039f\"],[0.2222222222222222,\"#7201a8\"],[0.3333333333333333,\"#9c179e\"],[0.4444444444444444,\"#bd3786\"],[0.5555555555555556,\"#d8576b\"],[0.6666666666666666,\"#ed7953\"],[0.7777777777777778,\"#fb9f3a\"],[0.8888888888888888,\"#fdca26\"],[1.0,\"#f0f921\"]]}],\"heatmapgl\":[{\"type\":\"heatmapgl\",\"colorbar\":{\"outlinewidth\":0,\"ticks\":\"\"},\"colorscale\":[[0.0,\"#0d0887\"],[0.1111111111111111,\"#46039f\"],[0.2222222222222222,\"#7201a8\"],[0.3333333333333333,\"#9c179e\"],[0.4444444444444444,\"#bd3786\"],[0.5555555555555556,\"#d8576b\"],[0.6666666666666666,\"#ed7953\"],[0.7777777777777778,\"#fb9f3a\"],[0.8888888888888888,\"#fdca26\"],[1.0,\"#f0f921\"]]}],\"contourcarpet\":[{\"type\":\"contourcarpet\",\"colorbar\":{\"outlinewidth\":0,\"ticks\":\"\"}}],\"contour\":[{\"type\":\"contour\",\"colorbar\":{\"outlinewidth\":0,\"ticks\":\"\"},\"colorscale\":[[0.0,\"#0d0887\"],[0.1111111111111111,\"#46039f\"],[0.2222222222222222,\"#7201a8\"],[0.3333333333333333,\"#9c179e\"],[0.4444444444444444,\"#bd3786\"],[0.5555555555555556,\"#d8576b\"],[0.6666666666666666,\"#ed7953\"],[0.7777777777777778,\"#fb9f3a\"],[0.8888888888888888,\"#fdca26\"],[1.0,\"#f0f921\"]]}],\"surface\":[{\"type\":\"surface\",\"colorbar\":{\"outlinewidth\":0,\"ticks\":\"\"},\"colorscale\":[[0.0,\"#0d0887\"],[0.1111111111111111,\"#46039f\"],[0.2222222222222222,\"#7201a8\"],[0.3333333333333333,\"#9c179e\"],[0.4444444444444444,\"#bd3786\"],[0.5555555555555556,\"#d8576b\"],[0.6666666666666666,\"#ed7953\"],[0.7777777777777778,\"#fb9f3a\"],[0.8888888888888888,\"#fdca26\"],[1.0,\"#f0f921\"]]}],\"mesh3d\":[{\"type\":\"mesh3d\",\"colorbar\":{\"outlinewidth\":0,\"ticks\":\"\"}}],\"scatter\":[{\"fillpattern\":{\"fillmode\":\"overlay\",\"size\":10,\"solidity\":0.2},\"type\":\"scatter\"}],\"parcoords\":[{\"type\":\"parcoords\",\"line\":{\"colorbar\":{\"outlinewidth\":0,\"ticks\":\"\"}}}],\"scatterpolargl\":[{\"type\":\"scatterpolargl\",\"marker\":{\"colorbar\":{\"outlinewidth\":0,\"ticks\":\"\"}}}],\"bar\":[{\"error_x\":{\"color\":\"#2a3f5f\"},\"error_y\":{\"color\":\"#2a3f5f\"},\"marker\":{\"line\":{\"color\":\"#E5ECF6\",\"width\":0.5},\"pattern\":{\"fillmode\":\"overlay\",\"size\":10,\"solidity\":0.2}},\"type\":\"bar\"}],\"scattergeo\":[{\"type\":\"scattergeo\",\"marker\":{\"colorbar\":{\"outlinewidth\":0,\"ticks\":\"\"}}}],\"scatterpolar\":[{\"type\":\"scatterpolar\",\"marker\":{\"colorbar\":{\"outlinewidth\":0,\"ticks\":\"\"}}}],\"histogram\":[{\"marker\":{\"pattern\":{\"fillmode\":\"overlay\",\"size\":10,\"solidity\":0.2}},\"type\":\"histogram\"}],\"scattergl\":[{\"type\":\"scattergl\",\"marker\":{\"colorbar\":{\"outlinewidth\":0,\"ticks\":\"\"}}}],\"scatter3d\":[{\"type\":\"scatter3d\",\"line\":{\"colorbar\":{\"outlinewidth\":0,\"ticks\":\"\"}},\"marker\":{\"colorbar\":{\"outlinewidth\":0,\"ticks\":\"\"}}}],\"scattermapbox\":[{\"type\":\"scattermapbox\",\"marker\":{\"colorbar\":{\"outlinewidth\":0,\"ticks\":\"\"}}}],\"scatterternary\":[{\"type\":\"scatterternary\",\"marker\":{\"colorbar\":{\"outlinewidth\":0,\"ticks\":\"\"}}}],\"scattercarpet\":[{\"type\":\"scattercarpet\",\"marker\":{\"colorbar\":{\"outlinewidth\":0,\"ticks\":\"\"}}}],\"carpet\":[{\"aaxis\":{\"endlinecolor\":\"#2a3f5f\",\"gridcolor\":\"white\",\"linecolor\":\"white\",\"minorgridcolor\":\"white\",\"startlinecolor\":\"#2a3f5f\"},\"baxis\":{\"endlinecolor\":\"#2a3f5f\",\"gridcolor\":\"white\",\"linecolor\":\"white\",\"minorgridcolor\":\"white\",\"startlinecolor\":\"#2a3f5f\"},\"type\":\"carpet\"}],\"table\":[{\"cells\":{\"fill\":{\"color\":\"#EBF0F8\"},\"line\":{\"color\":\"white\"}},\"header\":{\"fill\":{\"color\":\"#C8D4E3\"},\"line\":{\"color\":\"white\"}},\"type\":\"table\"}],\"barpolar\":[{\"marker\":{\"line\":{\"color\":\"#E5ECF6\",\"width\":0.5},\"pattern\":{\"fillmode\":\"overlay\",\"size\":10,\"solidity\":0.2}},\"type\":\"barpolar\"}],\"pie\":[{\"automargin\":true,\"type\":\"pie\"}]},\"layout\":{\"autotypenumbers\":\"strict\",\"colorway\":[\"#636efa\",\"#EF553B\",\"#00cc96\",\"#ab63fa\",\"#FFA15A\",\"#19d3f3\",\"#FF6692\",\"#B6E880\",\"#FF97FF\",\"#FECB52\"],\"font\":{\"color\":\"#2a3f5f\"},\"hovermode\":\"closest\",\"hoverlabel\":{\"align\":\"left\"},\"paper_bgcolor\":\"white\",\"plot_bgcolor\":\"#E5ECF6\",\"polar\":{\"bgcolor\":\"#E5ECF6\",\"angularaxis\":{\"gridcolor\":\"white\",\"linecolor\":\"white\",\"ticks\":\"\"},\"radialaxis\":{\"gridcolor\":\"white\",\"linecolor\":\"white\",\"ticks\":\"\"}},\"ternary\":{\"bgcolor\":\"#E5ECF6\",\"aaxis\":{\"gridcolor\":\"white\",\"linecolor\":\"white\",\"ticks\":\"\"},\"baxis\":{\"gridcolor\":\"white\",\"linecolor\":\"white\",\"ticks\":\"\"},\"caxis\":{\"gridcolor\":\"white\",\"linecolor\":\"white\",\"ticks\":\"\"}},\"coloraxis\":{\"colorbar\":{\"outlinewidth\":0,\"ticks\":\"\"}},\"colorscale\":{\"sequential\":[[0.0,\"#0d0887\"],[0.1111111111111111,\"#46039f\"],[0.2222222222222222,\"#7201a8\"],[0.3333333333333333,\"#9c179e\"],[0.4444444444444444,\"#bd3786\"],[0.5555555555555556,\"#d8576b\"],[0.6666666666666666,\"#ed7953\"],[0.7777777777777778,\"#fb9f3a\"],[0.8888888888888888,\"#fdca26\"],[1.0,\"#f0f921\"]],\"sequentialminus\":[[0.0,\"#0d0887\"],[0.1111111111111111,\"#46039f\"],[0.2222222222222222,\"#7201a8\"],[0.3333333333333333,\"#9c179e\"],[0.4444444444444444,\"#bd3786\"],[0.5555555555555556,\"#d8576b\"],[0.6666666666666666,\"#ed7953\"],[0.7777777777777778,\"#fb9f3a\"],[0.8888888888888888,\"#fdca26\"],[1.0,\"#f0f921\"]],\"diverging\":[[0,\"#8e0152\"],[0.1,\"#c51b7d\"],[0.2,\"#de77ae\"],[0.3,\"#f1b6da\"],[0.4,\"#fde0ef\"],[0.5,\"#f7f7f7\"],[0.6,\"#e6f5d0\"],[0.7,\"#b8e186\"],[0.8,\"#7fbc41\"],[0.9,\"#4d9221\"],[1,\"#276419\"]]},\"xaxis\":{\"gridcolor\":\"white\",\"linecolor\":\"white\",\"ticks\":\"\",\"title\":{\"standoff\":15},\"zerolinecolor\":\"white\",\"automargin\":true,\"zerolinewidth\":2},\"yaxis\":{\"gridcolor\":\"white\",\"linecolor\":\"white\",\"ticks\":\"\",\"title\":{\"standoff\":15},\"zerolinecolor\":\"white\",\"automargin\":true,\"zerolinewidth\":2},\"scene\":{\"xaxis\":{\"backgroundcolor\":\"#E5ECF6\",\"gridcolor\":\"white\",\"linecolor\":\"white\",\"showbackground\":true,\"ticks\":\"\",\"zerolinecolor\":\"white\",\"gridwidth\":2},\"yaxis\":{\"backgroundcolor\":\"#E5ECF6\",\"gridcolor\":\"white\",\"linecolor\":\"white\",\"showbackground\":true,\"ticks\":\"\",\"zerolinecolor\":\"white\",\"gridwidth\":2},\"zaxis\":{\"backgroundcolor\":\"#E5ECF6\",\"gridcolor\":\"white\",\"linecolor\":\"white\",\"showbackground\":true,\"ticks\":\"\",\"zerolinecolor\":\"white\",\"gridwidth\":2}},\"shapedefaults\":{\"line\":{\"color\":\"#2a3f5f\"}},\"annotationdefaults\":{\"arrowcolor\":\"#2a3f5f\",\"arrowhead\":0,\"arrowwidth\":1},\"geo\":{\"bgcolor\":\"white\",\"landcolor\":\"#E5ECF6\",\"subunitcolor\":\"white\",\"showland\":true,\"showlakes\":true,\"lakecolor\":\"white\"},\"title\":{\"x\":0.05},\"mapbox\":{\"style\":\"light\"}}},\"xaxis\":{\"anchor\":\"y\",\"domain\":[0.0,1.0],\"title\":{\"text\":\"reward\"}},\"yaxis\":{\"anchor\":\"x\",\"domain\":[0.0,1.0],\"title\":{\"text\":\"count\"}},\"legend\":{\"title\":{\"text\":\"experiment\"},\"tracegroupgap\":0},\"margin\":{\"t\":60},\"barmode\":\"overlay\",\"title\":{\"text\":\"Experiment reward histograms\"}},                        {\"responsive\": true}                    ).then(function(){\n",
       "                            \n",
       "var gd = document.getElementById('4b1a3233-104b-43d1-b8cb-9c75f25e8b85');\n",
       "var x = new MutationObserver(function (mutations, observer) {{\n",
       "        var display = window.getComputedStyle(gd).display;\n",
       "        if (!display || display === 'none') {{\n",
       "            console.log([gd, 'removed!']);\n",
       "            Plotly.purge(gd);\n",
       "            observer.disconnect();\n",
       "        }}\n",
       "}});\n",
       "\n",
       "// Listen for the removal of the full notebook cells\n",
       "var notebookContainer = gd.closest('#notebook-container');\n",
       "if (notebookContainer) {{\n",
       "    x.observe(notebookContainer, {childList: true});\n",
       "}}\n",
       "\n",
       "// Listen for the clearing of the current output cell\n",
       "var outputEl = gd.closest('.output');\n",
       "if (outputEl) {{\n",
       "    x.observe(outputEl, {childList: true});\n",
       "}}\n",
       "\n",
       "                        })                };                });            </script>        </div>"
      ]
     },
     "metadata": {},
     "output_type": "display_data"
    }
   ],
   "source": [
    "import plotly.express as px\n",
    "\n",
    "# we'll have to duplcate sft default examples, otherwise\n",
    "# they are to few to be seen on the plot\n",
    "sub_df = summary[summary.experiment == \"default\"]\n",
    "sub_df = pd.concat([summary, sub_df.loc[sub_df.index.repeat(4)]])\n",
    "fig = px.histogram(\n",
    "    sub_df, x=\"reward\", color=\"experiment\",\n",
    "    nbins=150, opacity=0.5, barmode=\"overlay\",\n",
    "    color_discrete_sequence=[\"crimson\", \"midnightblue\", \"grey\"]\n",
    ")\n",
    "fig.update_layout(title=\"Experiment reward histograms\")\n",
    "fig.update_traces(marker_line_width=1 ,marker_line_color=\"white\")\n",
    "fig.show()"
   ]
  },
  {
   "cell_type": "markdown",
   "id": "c6d3688e-7b6a-4874-8414-a1fca4350c86",
   "metadata": {},
   "source": [
    "В общем, как будто бы нет почти никакой разницы. Единственное, что можно отметить - наличие выбросов, когда сентимент всё же недостаточно позитивный. Это можно списать на недообучение. Так или иначе, это промпт без гайданса, и он получается значительно более положительный, чем изначально. Так что всё работает, лосс по всей видимости не важен. А обычная модель генерирует всё подряд, оно и понятно, распределение равномерное"
   ]
  }
 ],
 "metadata": {
  "kernelspec": {
   "display_name": "Python 3 (ipykernel)",
   "language": "python",
   "name": "python3"
  },
  "language_info": {
   "codemirror_mode": {
    "name": "ipython",
    "version": 3
   },
   "file_extension": ".py",
   "mimetype": "text/x-python",
   "name": "python",
   "nbconvert_exporter": "python",
   "pygments_lexer": "ipython3",
   "version": "3.11.5"
  }
 },
 "nbformat": 4,
 "nbformat_minor": 5
}
